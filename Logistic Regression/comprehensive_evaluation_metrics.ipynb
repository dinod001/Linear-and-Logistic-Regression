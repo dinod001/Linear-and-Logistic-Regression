{
 "cells": [
  {
   "cell_type": "code",
   "execution_count": 298,
   "id": "185fae72",
   "metadata": {},
   "outputs": [],
   "source": [
    "import pandas as pd\n",
    "import numpy as np\n",
    "import matplotlib.pyplot as plt\n",
    "from sklearn.linear_model import LogisticRegression\n",
    "import seaborn as sns"
   ]
  },
  {
   "cell_type": "markdown",
   "id": "6012ec41",
   "metadata": {},
   "source": [
    "#### Data Loading and Filtering"
   ]
  },
  {
   "cell_type": "code",
   "execution_count": 299,
   "id": "41d0f42b",
   "metadata": {},
   "outputs": [
    {
     "data": {
      "text/html": [
       "<div>\n",
       "<style scoped>\n",
       "    .dataframe tbody tr th:only-of-type {\n",
       "        vertical-align: middle;\n",
       "    }\n",
       "\n",
       "    .dataframe tbody tr th {\n",
       "        vertical-align: top;\n",
       "    }\n",
       "\n",
       "    .dataframe thead th {\n",
       "        text-align: right;\n",
       "    }\n",
       "</style>\n",
       "<table border=\"1\" class=\"dataframe\">\n",
       "  <thead>\n",
       "    <tr style=\"text-align: right;\">\n",
       "      <th></th>\n",
       "      <th>EducationLevel</th>\n",
       "      <th>Attendance</th>\n",
       "      <th>TotalHours</th>\n",
       "      <th>AssignmentsCompleted</th>\n",
       "      <th>HackathonParticipation</th>\n",
       "      <th>GitHubScore</th>\n",
       "      <th>PeerReviewScore</th>\n",
       "      <th>Passed</th>\n",
       "    </tr>\n",
       "  </thead>\n",
       "  <tbody>\n",
       "    <tr>\n",
       "      <th>0</th>\n",
       "      <td>3</td>\n",
       "      <td>79.9</td>\n",
       "      <td>43.7</td>\n",
       "      <td>2</td>\n",
       "      <td>0</td>\n",
       "      <td>62.8</td>\n",
       "      <td>5.0</td>\n",
       "      <td>False</td>\n",
       "    </tr>\n",
       "    <tr>\n",
       "      <th>1</th>\n",
       "      <td>2</td>\n",
       "      <td>76.8</td>\n",
       "      <td>95.6</td>\n",
       "      <td>6</td>\n",
       "      <td>0</td>\n",
       "      <td>87.4</td>\n",
       "      <td>2.7</td>\n",
       "      <td>True</td>\n",
       "    </tr>\n",
       "    <tr>\n",
       "      <th>2</th>\n",
       "      <td>3</td>\n",
       "      <td>96.6</td>\n",
       "      <td>75.9</td>\n",
       "      <td>8</td>\n",
       "      <td>0</td>\n",
       "      <td>98.4</td>\n",
       "      <td>2.8</td>\n",
       "      <td>False</td>\n",
       "    </tr>\n",
       "    <tr>\n",
       "      <th>4</th>\n",
       "      <td>2</td>\n",
       "      <td>83.2</td>\n",
       "      <td>24.0</td>\n",
       "      <td>6</td>\n",
       "      <td>0</td>\n",
       "      <td>41.8</td>\n",
       "      <td>4.2</td>\n",
       "      <td>False</td>\n",
       "    </tr>\n",
       "    <tr>\n",
       "      <th>7</th>\n",
       "      <td>3</td>\n",
       "      <td>86.5</td>\n",
       "      <td>88.0</td>\n",
       "      <td>5</td>\n",
       "      <td>0</td>\n",
       "      <td>23.9</td>\n",
       "      <td>1.3</td>\n",
       "      <td>False</td>\n",
       "    </tr>\n",
       "  </tbody>\n",
       "</table>\n",
       "</div>"
      ],
      "text/plain": [
       "   EducationLevel  Attendance  TotalHours  AssignmentsCompleted  \\\n",
       "0               3        79.9        43.7                     2   \n",
       "1               2        76.8        95.6                     6   \n",
       "2               3        96.6        75.9                     8   \n",
       "4               2        83.2        24.0                     6   \n",
       "7               3        86.5        88.0                     5   \n",
       "\n",
       "   HackathonParticipation  GitHubScore  PeerReviewScore  Passed  \n",
       "0                       0         62.8              5.0   False  \n",
       "1                       0         87.4              2.7    True  \n",
       "2                       0         98.4              2.8   False  \n",
       "4                       0         41.8              4.2   False  \n",
       "7                       0         23.9              1.3   False  "
      ]
     },
     "execution_count": 299,
     "metadata": {},
     "output_type": "execute_result"
    }
   ],
   "source": [
    "df = pd.read_csv(\"../zuu crew scores.csv\")\n",
    "df = df[df['CourseName'] == 'Foundations of ML']\n",
    "df[\"Passed\"] = df[\"CapstoneScore\"] >= 75\n",
    "del df['MemberName'], df['CourseName'], df['CapstoneScore']\n",
    "df.head()"
   ]
  },
  {
   "cell_type": "code",
   "execution_count": 300,
   "id": "019f7a45",
   "metadata": {},
   "outputs": [],
   "source": [
    "Y = df['Passed'].values\n",
    "X_df = df.drop(columns=['Passed'])\n",
    "\n",
    "# Calculate mean and std for each feature (column)\n",
    "mean = X_df.mean()\n",
    "std = X_df.std()\n",
    "\n",
    "# Standardize each column\n",
    "X_standardized = (X_df - mean) / std\n",
    "\n",
    "# Convert to numpy array\n",
    "X_df = X_standardized.values"
   ]
  },
  {
   "cell_type": "code",
   "execution_count": null,
   "id": "da931532",
   "metadata": {},
   "outputs": [],
   "source": [
    "# add extra 1 column for x to easy calclation with beta\n",
    "X = X_df\n",
    "X = np.column_stack((\n",
    "    np.ones(len(df)),\n",
    "    X\n",
    "))"
   ]
  },
  {
   "cell_type": "code",
   "execution_count": 302,
   "id": "a81003ca",
   "metadata": {},
   "outputs": [],
   "source": [
    "# defining sigmoid function\n",
    "def sigmoid(z):\n",
    "    return 1 / (1 + np.exp(-z))"
   ]
  },
  {
   "cell_type": "markdown",
   "id": "0b8809a3",
   "metadata": {},
   "source": [
    "#### Cost Function"
   ]
  },
  {
   "cell_type": "code",
   "execution_count": 303,
   "id": "39ba6878",
   "metadata": {},
   "outputs": [],
   "source": [
    "def compute_cost(y_hat, Y):\n",
    "    pos_component = np.sum(Y * np.log(y_hat))\n",
    "    neg_component = np.sum((1 - Y) * np.log(1 - y_hat))\n",
    "\n",
    "    m = len(Y)\n",
    "    return (-1/m) * (pos_component + neg_component)"
   ]
  },
  {
   "cell_type": "markdown",
   "id": "8f80e111",
   "metadata": {},
   "source": [
    "#### Optimization"
   ]
  },
  {
   "cell_type": "code",
   "execution_count": 304,
   "id": "c579d5b0",
   "metadata": {},
   "outputs": [],
   "source": [
    "def compute_gradients(X, Y, y_hat):\n",
    "    m = len(Y)\n",
    "\n",
    "    \"\"\"\n",
    "    beta0, beta1    \n",
    "    \"\"\"\n",
    "\n",
    "    beta = (1 / m) * X.T.dot(y_hat - Y)\n",
    "\n",
    "    return beta"
   ]
  },
  {
   "cell_type": "code",
   "execution_count": 305,
   "id": "6eb3a2c0",
   "metadata": {},
   "outputs": [
    {
     "name": "stdout",
     "output_type": "stream",
     "text": [
      "beta values : [-1.42451862  2.07777311  1.8703628  -0.50291064 -1.66314758  0.7652958\n",
      " -1.08025806  1.54215359]\n"
     ]
    }
   ],
   "source": [
    "# initializing beta values, learning rate and number of iterations\n",
    "beta = np.random.randn(8)\n",
    "print(f\"beta values : {beta}\")\n",
    "\n",
    "lr = 0.01\n",
    "n_iter = 1000"
   ]
  },
  {
   "cell_type": "markdown",
   "id": "9fd772a4",
   "metadata": {},
   "source": [
    "#### Parameter optimization"
   ]
  },
  {
   "cell_type": "code",
   "execution_count": 306,
   "id": "a1089e31",
   "metadata": {},
   "outputs": [],
   "source": [
    "\n",
    "cost_history = []\n",
    "def logistic_gradient_descent(X, Y, lr,beta):\n",
    "    for i in range(n_iter):\n",
    "        \"\"\"\n",
    "        Z = beta.T.X = beta0 + beta1.x1\n",
    "        Y_hat = sigmoid(Z)\n",
    "        \"\"\"\n",
    "        z = X.dot(beta)\n",
    "        y_hat = sigmoid(z)\n",
    "\n",
    "        gradient = compute_gradients(X, Y, y_hat)\n",
    "\n",
    "        beta = beta - lr * gradient\n",
    "\n",
    "        cost = compute_cost(y_hat, Y)\n",
    "        cost_history.append(cost)\n",
    "\n",
    "        if i % 100 == 0:\n",
    "            print(f\"Iteration : {i}: Beta : {beta} :Cost : {cost:.4f}\")\n",
    "        \n",
    "    return beta"
   ]
  },
  {
   "cell_type": "code",
   "execution_count": null,
   "id": "c72f5839",
   "metadata": {},
   "outputs": [
    {
     "name": "stdout",
     "output_type": "stream",
     "text": [
      "Iteration : 0: Beta : [-1.42644148  2.07514006  1.86923495 -0.49963801 -1.66118638  0.76431798\n",
      " -1.0791206   1.54084356] :Cost : 1.6300\n",
      "Iteration : 100: Beta : [-1.60519084  1.81830402  1.75159213 -0.18659144 -1.47126302  0.66624057\n",
      " -0.96634213  1.41341236] :Cost : 1.3452\n",
      "Iteration : 200: Beta : [-1.75843718  1.57672278  1.62784943  0.09932808 -1.29282743  0.56573648\n",
      " -0.85587923  1.29397473] :Cost : 1.0974\n",
      "Iteration : 300: Beta : [-1.88823876  1.35309731  1.5039626   0.35940918 -1.12575392  0.46269913\n",
      " -0.74871061  1.18330605] :Cost : 0.8849\n",
      "Iteration : 400: Beta : [-1.99607537  1.14961439  1.3856615   0.59370481 -0.97211335  0.36031648\n",
      " -0.64634446  1.08233342] :Cost : 0.7078\n",
      "Iteration : 500: Beta : [-2.0830212   0.96821512  1.27735422  0.80134298 -0.83602068  0.26385289\n",
      " -0.55112164  0.9920323 ] :Cost : 0.5669\n",
      "Iteration : 600: Beta : [-2.15091624  0.80999159  1.18137595  0.98221579 -0.72150822  0.17823021\n",
      " -0.46593598  0.91264951] :Cost : 0.4609\n",
      "Iteration : 700: Beta : [-2.20302268  0.67439074  1.09798162  1.1380433  -0.62992113  0.10592179\n",
      " -0.39278162  0.84362891] :Cost : 0.3844\n",
      "Iteration : 800: Beta : [-2.24346809  0.55910024  1.02603819  1.27197113 -0.55934108  0.04678649\n",
      " -0.33156337  0.78409137] :Cost : 0.3303\n",
      "Iteration : 900: Beta : [-2.27616528e+00  4.60927705e-01  9.63879917e-01  1.38753034e+00\n",
      " -5.06087036e-01 -7.58435087e-04 -2.80674797e-01  7.33081477e-01] :Cost : 0.2919\n"
     ]
    }
   ],
   "source": [
    "#gettng update beta value\n",
    "beta = logistic_gradient_descent(X, Y, lr,beta)"
   ]
  },
  {
   "cell_type": "markdown",
   "id": "3f0fd179",
   "metadata": {},
   "source": [
    "#### Cost Visualization"
   ]
  },
  {
   "cell_type": "code",
   "execution_count": 308,
   "id": "f8449549",
   "metadata": {},
   "outputs": [
    {
     "data": {
      "image/png": "[encoded data removed]",
      "text/plain": [
       "<Figure size 640x480 with 1 Axes>"
      ]
     },
     "metadata": {},
     "output_type": "display_data"
    }
   ],
   "source": [
    "plt.plot(cost_history)\n",
    "plt.title(\"Cost Variation\")\n",
    "plt.xlabel(\"iterations\")\n",
    "plt.ylabel(\"Cost\")\n",
    "plt.show()"
   ]
  },
  {
   "cell_type": "markdown",
   "id": "469e86f3",
   "metadata": {},
   "source": [
    "#### Predict Probability"
   ]
  },
  {
   "cell_type": "code",
   "execution_count": 309,
   "id": "ba1ea1c2",
   "metadata": {},
   "outputs": [],
   "source": [
    "def predict_proba(X, beta):\n",
    "    z = X.dot(beta)\n",
    "    Y_proba = sigmoid(z)\n",
    "    return Y_proba"
   ]
  },
  {
   "cell_type": "code",
   "execution_count": 310,
   "id": "b00bc49e",
   "metadata": {},
   "outputs": [
    {
     "data": {
      "text/plain": [
       "array([0.31691015, 0.31237908, 0.45070252, 0.04444029, 0.4857152 ,\n",
       "       0.59208737, 0.02553908, 0.1289989 , 0.01224339, 0.5304592 ,\n",
       "       0.07773093, 0.02260662, 0.01064574, 0.03784013, 0.38268436,\n",
       "       0.01332908, 0.89180788, 0.00290158, 0.12222804, 0.19198506,\n",
       "       0.03915936, 0.01573094, 0.00168953, 0.56399437, 0.83445853,\n",
       "       0.1813413 , 0.01454602, 0.01988049, 0.14270595, 0.00214461,\n",
       "       0.7069427 , 0.02511467, 0.04560238, 0.09440441, 0.12663394,\n",
       "       0.2550347 , 0.00352097, 0.00954778, 0.02845868, 0.04222507,\n",
       "       0.0053805 , 0.27595336, 0.04187114, 0.19733496, 0.08340392,\n",
       "       0.08385492, 0.14867878, 0.08911367, 0.02252263, 0.01136978,\n",
       "       0.21523859, 0.09474663, 0.03312022, 0.14164344, 0.23580801,\n",
       "       0.72352796, 0.53713249, 0.496747  , 0.29846877, 0.14908431,\n",
       "       0.00507555, 0.01736112, 0.00266489, 0.45357894, 0.21870797,\n",
       "       0.04922191, 0.22868653, 0.14983318, 0.46625632, 0.08463958,\n",
       "       0.01949361, 0.51420073])"
      ]
     },
     "execution_count": 310,
     "metadata": {},
     "output_type": "execute_result"
    }
   ],
   "source": [
    "Y_proba = predict_proba(X, beta)\n",
    "Y_proba"
   ]
  },
  {
   "cell_type": "markdown",
   "id": "762be697",
   "metadata": {},
   "source": [
    "####  Binary class predictions"
   ]
  },
  {
   "cell_type": "code",
   "execution_count": 311,
   "id": "d60b50df",
   "metadata": {},
   "outputs": [],
   "source": [
    "threshold = 0.7"
   ]
  },
  {
   "cell_type": "code",
   "execution_count": 312,
   "id": "2e74c899",
   "metadata": {},
   "outputs": [],
   "source": [
    "def predict_class(X, beta, threshold):\n",
    "    z = X.dot(beta)\n",
    "    Y_predicted = sigmoid(z)\n",
    "    return Y_predicted >= threshold"
   ]
  },
  {
   "cell_type": "code",
   "execution_count": 313,
   "id": "cb7bd7b9",
   "metadata": {},
   "outputs": [
    {
     "data": {
      "text/plain": [
       "array([False, False, False, False, False, False, False, False, False,\n",
       "       False, False, False, False, False, False, False,  True, False,\n",
       "       False, False, False, False, False, False,  True, False, False,\n",
       "       False, False, False,  True, False, False, False, False, False,\n",
       "       False, False, False, False, False, False, False, False, False,\n",
       "       False, False, False, False, False, False, False, False, False,\n",
       "       False,  True, False, False, False, False, False, False, False,\n",
       "       False, False, False, False, False, False, False, False, False])"
      ]
     },
     "execution_count": 313,
     "metadata": {},
     "output_type": "execute_result"
    }
   ],
   "source": [
    "predict_class(X,beta,threshold)"
   ]
  },
  {
   "cell_type": "markdown",
   "id": "9247d7b3",
   "metadata": {},
   "source": [
    "#### Evaluation Matrics"
   ]
  },
  {
   "cell_type": "markdown",
   "id": "f2d3a126",
   "metadata": {},
   "source": [
    "##### Conusion Matrix"
   ]
  },
  {
   "cell_type": "code",
   "execution_count": 314,
   "id": "f2ee3f2f",
   "metadata": {},
   "outputs": [],
   "source": [
    "def compute_confusion_matrix(Y,Y_hat):\n",
    "    TP = np.sum((Y == 1) & (Y_hat == 1))\n",
    "    FP = np.sum((Y == 0) & (Y_hat == 1))\n",
    "    TN = np.sum((Y == 0) & (Y_hat == 0))\n",
    "    FN = np.sum((Y == 1) & (Y_hat == 0))\n",
    "    return np.array([\n",
    "                [TN,FP]\n",
    "                ,[FN,TP]\n",
    "                ],\n",
    "                dtype=int\n",
    "                )"
   ]
  },
  {
   "cell_type": "code",
   "execution_count": 315,
   "id": "243c4a11",
   "metadata": {},
   "outputs": [],
   "source": [
    "Y_hat = predict_class(X,beta,threshold)"
   ]
  },
  {
   "cell_type": "code",
   "execution_count": 316,
   "id": "30dfded1",
   "metadata": {},
   "outputs": [
    {
     "data": {
      "image/png": "[encoded data removed]",
      "text/plain": [
       "<Figure size 640x480 with 2 Axes>"
      ]
     },
     "metadata": {},
     "output_type": "display_data"
    }
   ],
   "source": [
    "cm = compute_confusion_matrix(Y,Y_hat)\n",
    "sns.heatmap(cm,annot=True,fmt='d',cmap='Blues')\n",
    "plt.xlabel('Y_hat')\n",
    "plt.ylabel('Y')\n",
    "plt.title('Confusion Matrix')\n",
    "plt.show()"
   ]
  },
  {
   "cell_type": "markdown",
   "id": "ed04bb0d",
   "metadata": {},
   "source": [
    "##### Precisiom, Recall, f1score, accuracy"
   ]
  },
  {
   "cell_type": "code",
   "execution_count": 317,
   "id": "bb2e1740",
   "metadata": {},
   "outputs": [],
   "source": [
    "def precision_score(cm):\n",
    "    TP = cm[1,1]\n",
    "    FP = cm[0,1]\n",
    "    return TP/(TP+FP)\n",
    "\n",
    "def recall_score(cm):\n",
    "    TP = cm[1,1]\n",
    "    FN = cm[1,0]\n",
    "    return TP / (TP +FN)\n",
    "\n",
    "def f1_score(cm):\n",
    "    p = precision_score(cm)\n",
    "    r = recall_score(cm)\n",
    "    return 2 * p * r / (p + r)\n",
    "\n",
    "def accuracy(cm):\n",
    "    TP = cm[1,1]\n",
    "    FP = cm[0,1]\n",
    "    FN = cm[1,0]\n",
    "    TN = cm[0,0]\n",
    "    return (TP + TN) / (TP + TN + FP + FN)"
   ]
  },
  {
   "cell_type": "code",
   "execution_count": 318,
   "id": "b4cc2671",
   "metadata": {},
   "outputs": [
    {
     "name": "stdout",
     "output_type": "stream",
     "text": [
      "Precision : 1.0\n",
      "Recall : 0.3333333333333333\n",
      "F1 Score : 0.5\n",
      "Accuracy : 0.8888888888888888\n"
     ]
    }
   ],
   "source": [
    "cm = compute_confusion_matrix(Y, Y_hat) \n",
    "p = precision_score(cm)\n",
    "r = recall_score(cm) \n",
    "f1 = f1_score(cm)\n",
    "acc = accuracy(cm)\n",
    "\n",
    "print(f\"Precision : {p}\")\n",
    "print(f\"Recall : {r}\")\n",
    "print(f\"F1 Score : {f1}\")\n",
    "print(f\"Accuracy : {acc}\")"
   ]
  },
  {
   "cell_type": "code",
   "execution_count": 319,
   "id": "f37d0cbb",
   "metadata": {},
   "outputs": [],
   "source": [
    "# initializing empty arrays for store each precision and recall values for precision recall curve\n",
    "Precision= []\n",
    "Recall = []"
   ]
  },
  {
   "cell_type": "markdown",
   "id": "1f73584e",
   "metadata": {},
   "source": [
    "##### ROC curve"
   ]
  },
  {
   "cell_type": "code",
   "execution_count": 320,
   "id": "89a52c9a",
   "metadata": {},
   "outputs": [],
   "source": [
    "def roc_curve(Y,Y_proba):\n",
    "    thresholds = np.linspace(1,0,200)\n",
    "\n",
    "    tpr_list = []\n",
    "    fpr_list = []\n",
    "\n",
    "    for t in thresholds:\n",
    "        y_hat = (Y_proba >= t).astype(int)\n",
    "        \n",
    "        TP = np.sum((Y == 1) & (y_hat == 1))\n",
    "        FP = np.sum((Y == 0) & (y_hat == 1))\n",
    "        TN = np.sum((Y == 0) & (y_hat == 0))\n",
    "        FN = np.sum((Y == 1) & (y_hat == 0))\n",
    "\n",
    "        tpr = TP / (TP + FN)\n",
    "        fpr = FP / (FP + TN)\n",
    "\n",
    "        if (TP + FP) == 0:\n",
    "            precision = 0 \n",
    "        else:\n",
    "            precision = TP / (TP + FP)\n",
    "\n",
    "        recall = TP / (TP +FN)\n",
    "        \n",
    "        tpr_list.append(tpr)\n",
    "        fpr_list.append(fpr)\n",
    "        Precision.append(precision)\n",
    "        Recall.append(recall)\n",
    "\n",
    "    return np.array(tpr_list), np.array(fpr_list), np.array(thresholds)"
   ]
  },
  {
   "cell_type": "code",
   "execution_count": 321,
   "id": "fb03a353",
   "metadata": {},
   "outputs": [],
   "source": [
    "tpr, fpr, _ = roc_curve(Y, Y_proba)"
   ]
  },
  {
   "cell_type": "code",
   "execution_count": 322,
   "id": "4e349fac",
   "metadata": {},
   "outputs": [
    {
     "data": {
      "image/png": "[encoded data removed]",
      "text/plain": [
       "<Figure size 640x480 with 1 Axes>"
      ]
     },
     "metadata": {},
     "output_type": "display_data"
    }
   ],
   "source": [
    "plt.plot(fpr, tpr, label='LogReg')\n",
    "plt.xlabel(\"FPR\")\n",
    "plt.ylabel(\"TPR\")\n",
    "plt.title(\"ROC Curve\")\n",
    "plt.show()"
   ]
  },
  {
   "cell_type": "code",
   "execution_count": 323,
   "id": "e96f9163",
   "metadata": {},
   "outputs": [
    {
     "name": "stdout",
     "output_type": "stream",
     "text": [
      "AUC: 0.9159722222222223\n"
     ]
    }
   ],
   "source": [
    "auc = np.trapezoid(tpr, fpr)\n",
    "print(f\"AUC: {auc}\")"
   ]
  },
  {
   "cell_type": "markdown",
   "id": "c87d48ef",
   "metadata": {},
   "source": [
    "####  Precision Recall Curve "
   ]
  },
  {
   "cell_type": "code",
   "execution_count": 324,
   "id": "c8c4e6e8",
   "metadata": {},
   "outputs": [
    {
     "data": {
      "image/png": "[encoded data removed]",
      "text/plain": [
       "<Figure size 640x480 with 1 Axes>"
      ]
     },
     "metadata": {},
     "output_type": "display_data"
    }
   ],
   "source": [
    "plt.plot(Recall, Precision, color='red',marker='.')\n",
    "plt.xlabel(\"Recall\")\n",
    "plt.ylabel(\"Precision\")\n",
    "plt.title(\"Precision-Recall Curve\")\n",
    "plt.show()\n"
   ]
  },
  {
   "cell_type": "code",
   "execution_count": null,
   "id": "26f78ad8",
   "metadata": {},
   "outputs": [],
   "source": []
  }
 ],
 "metadata": {
  "kernelspec": {
   "display_name": "foml",
   "language": "python",
   "name": "python3"
  },
  "language_info": {
   "codemirror_mode": {
    "name": "ipython",
    "version": 3
   },
   "file_extension": ".py",
   "mimetype": "text/x-python",
   "name": "python",
   "nbconvert_exporter": "python",
   "pygments_lexer": "ipython3",
   "version": "3.11.13"
  }
 },
 "nbformat": 4,
 "nbformat_minor": 5
}
