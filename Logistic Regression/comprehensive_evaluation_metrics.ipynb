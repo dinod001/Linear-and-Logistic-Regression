{
 "cells": [
  {
   "cell_type": "code",
   "execution_count": 74,
   "id": "185fae72",
   "metadata": {},
   "outputs": [],
   "source": [
    "import pandas as pd\n",
    "import numpy as np\n",
    "import matplotlib.pyplot as plt\n",
    "from sklearn.linear_model import LogisticRegression\n",
    "import seaborn as sns"
   ]
  },
  {
   "cell_type": "markdown",
   "id": "6012ec41",
   "metadata": {},
   "source": [
    "#### Data Loading and Filtering"
   ]
  },
  {
   "cell_type": "code",
   "execution_count": 75,
   "id": "41d0f42b",
   "metadata": {},
   "outputs": [
    {
     "data": {
      "text/html": [
       "<div>\n",
       "<style scoped>\n",
       "    .dataframe tbody tr th:only-of-type {\n",
       "        vertical-align: middle;\n",
       "    }\n",
       "\n",
       "    .dataframe tbody tr th {\n",
       "        vertical-align: top;\n",
       "    }\n",
       "\n",
       "    .dataframe thead th {\n",
       "        text-align: right;\n",
       "    }\n",
       "</style>\n",
       "<table border=\"1\" class=\"dataframe\">\n",
       "  <thead>\n",
       "    <tr style=\"text-align: right;\">\n",
       "      <th></th>\n",
       "      <th>EducationLevel</th>\n",
       "      <th>Attendance</th>\n",
       "      <th>TotalHours</th>\n",
       "      <th>AssignmentsCompleted</th>\n",
       "      <th>HackathonParticipation</th>\n",
       "      <th>GitHubScore</th>\n",
       "      <th>PeerReviewScore</th>\n",
       "      <th>Passed</th>\n",
       "    </tr>\n",
       "  </thead>\n",
       "  <tbody>\n",
       "    <tr>\n",
       "      <th>0</th>\n",
       "      <td>3</td>\n",
       "      <td>79.9</td>\n",
       "      <td>43.7</td>\n",
       "      <td>2</td>\n",
       "      <td>0</td>\n",
       "      <td>62.8</td>\n",
       "      <td>5.0</td>\n",
       "      <td>False</td>\n",
       "    </tr>\n",
       "    <tr>\n",
       "      <th>1</th>\n",
       "      <td>2</td>\n",
       "      <td>76.8</td>\n",
       "      <td>95.6</td>\n",
       "      <td>6</td>\n",
       "      <td>0</td>\n",
       "      <td>87.4</td>\n",
       "      <td>2.7</td>\n",
       "      <td>True</td>\n",
       "    </tr>\n",
       "    <tr>\n",
       "      <th>2</th>\n",
       "      <td>3</td>\n",
       "      <td>96.6</td>\n",
       "      <td>75.9</td>\n",
       "      <td>8</td>\n",
       "      <td>0</td>\n",
       "      <td>98.4</td>\n",
       "      <td>2.8</td>\n",
       "      <td>False</td>\n",
       "    </tr>\n",
       "    <tr>\n",
       "      <th>4</th>\n",
       "      <td>2</td>\n",
       "      <td>83.2</td>\n",
       "      <td>24.0</td>\n",
       "      <td>6</td>\n",
       "      <td>0</td>\n",
       "      <td>41.8</td>\n",
       "      <td>4.2</td>\n",
       "      <td>False</td>\n",
       "    </tr>\n",
       "    <tr>\n",
       "      <th>7</th>\n",
       "      <td>3</td>\n",
       "      <td>86.5</td>\n",
       "      <td>88.0</td>\n",
       "      <td>5</td>\n",
       "      <td>0</td>\n",
       "      <td>23.9</td>\n",
       "      <td>1.3</td>\n",
       "      <td>False</td>\n",
       "    </tr>\n",
       "  </tbody>\n",
       "</table>\n",
       "</div>"
      ],
      "text/plain": [
       "   EducationLevel  Attendance  TotalHours  AssignmentsCompleted  \\\n",
       "0               3        79.9        43.7                     2   \n",
       "1               2        76.8        95.6                     6   \n",
       "2               3        96.6        75.9                     8   \n",
       "4               2        83.2        24.0                     6   \n",
       "7               3        86.5        88.0                     5   \n",
       "\n",
       "   HackathonParticipation  GitHubScore  PeerReviewScore  Passed  \n",
       "0                       0         62.8              5.0   False  \n",
       "1                       0         87.4              2.7    True  \n",
       "2                       0         98.4              2.8   False  \n",
       "4                       0         41.8              4.2   False  \n",
       "7                       0         23.9              1.3   False  "
      ]
     },
     "execution_count": 75,
     "metadata": {},
     "output_type": "execute_result"
    }
   ],
   "source": [
    "df = pd.read_csv(\"../zuu crew scores.csv\")\n",
    "df = df[df['CourseName'] == 'Foundations of ML']\n",
    "df[\"Passed\"] = df[\"CapstoneScore\"] >= 75\n",
    "del df['MemberName'], df['CourseName'], df['CapstoneScore']\n",
    "df.head()"
   ]
  },
  {
   "cell_type": "code",
   "execution_count": 76,
   "id": "019f7a45",
   "metadata": {},
   "outputs": [],
   "source": [
    "Y = df['Passed'].values\n",
    "X_df = df.drop(columns=['Passed'])\n",
    "\n",
    "# Calculate mean and std for each feature (column)\n",
    "mean = X_df.mean()\n",
    "std = X_df.std()\n",
    "\n",
    "# Standardize each column\n",
    "X_standardized = (X_df - mean) / std\n",
    "\n",
    "# Convert to numpy array\n",
    "X_df = X_standardized.values"
   ]
  },
  {
   "cell_type": "code",
   "execution_count": 77,
   "id": "da931532",
   "metadata": {},
   "outputs": [],
   "source": [
    "X = X_df\n",
    "X = np.column_stack((\n",
    "    np.ones(len(df)),\n",
    "    X\n",
    "))"
   ]
  },
  {
   "cell_type": "code",
   "execution_count": 78,
   "id": "a81003ca",
   "metadata": {},
   "outputs": [],
   "source": [
    "# defining sigmoid function\n",
    "def sigmoid(z):\n",
    "    return 1 / (1 + np.exp(-z))"
   ]
  },
  {
   "cell_type": "markdown",
   "id": "0b8809a3",
   "metadata": {},
   "source": [
    "#### Cost Function"
   ]
  },
  {
   "cell_type": "code",
   "execution_count": 79,
   "id": "39ba6878",
   "metadata": {},
   "outputs": [],
   "source": [
    "def compute_cost(y_hat, Y):\n",
    "    pos_component = np.sum(Y * np.log(y_hat))\n",
    "    neg_component = np.sum((1 - Y) * np.log(1 - y_hat))\n",
    "\n",
    "    m = len(Y)\n",
    "    return (-1/m) * (pos_component + neg_component)"
   ]
  },
  {
   "cell_type": "markdown",
   "id": "8f80e111",
   "metadata": {},
   "source": [
    "#### Optimization"
   ]
  },
  {
   "cell_type": "code",
   "execution_count": 80,
   "id": "c579d5b0",
   "metadata": {},
   "outputs": [],
   "source": [
    "def compute_gradients(X, Y, y_hat):\n",
    "    m = len(Y)\n",
    "\n",
    "    \"\"\"\n",
    "    beta0, beta1    \n",
    "    \"\"\"\n",
    "\n",
    "    beta = (1 / m) * X.T.dot(y_hat - Y)\n",
    "\n",
    "    return beta"
   ]
  },
  {
   "cell_type": "code",
   "execution_count": 81,
   "id": "6eb3a2c0",
   "metadata": {},
   "outputs": [
    {
     "name": "stdout",
     "output_type": "stream",
     "text": [
      "beta values : [ 2.41191929  1.01096308  0.31297666  0.3087705  -0.28010831 -0.48279896\n",
      "  0.46894954  0.57956924]\n"
     ]
    }
   ],
   "source": [
    "beta = np.random.randn(8)\n",
    "print(f\"beta values : {beta}\")\n",
    "\n",
    "lr = 0.01\n",
    "n_iter = 1000"
   ]
  },
  {
   "cell_type": "markdown",
   "id": "9fd772a4",
   "metadata": {},
   "source": [
    "#### Parameter optimization"
   ]
  },
  {
   "cell_type": "code",
   "execution_count": 82,
   "id": "a1089e31",
   "metadata": {},
   "outputs": [],
   "source": [
    "\n",
    "cost_history = []\n",
    "def logistic_gradient_descent(X, Y, lr,beta):\n",
    "    for i in range(n_iter):\n",
    "        \"\"\"\n",
    "        Z = beta.T.X = beta0 + beta1.x1\n",
    "        Y_hat = sigmoid(Z)\n",
    "        \"\"\"\n",
    "        z = X.dot(beta)\n",
    "        y_hat = sigmoid(z)\n",
    "\n",
    "        gradient = compute_gradients(X, Y, y_hat)\n",
    "\n",
    "        beta = beta - lr * gradient\n",
    "\n",
    "        cost = compute_cost(y_hat, Y)\n",
    "        cost_history.append(cost)\n",
    "\n",
    "        if i % 100 == 0:\n",
    "            print(f\"Iteration : {i}: Beta : {beta} :Cost : {cost:.4f}\")\n",
    "        \n",
    "    return beta"
   ]
  },
  {
   "cell_type": "code",
   "execution_count": 83,
   "id": "c72f5839",
   "metadata": {},
   "outputs": [
    {
     "name": "stdout",
     "output_type": "stream",
     "text": [
      "Iteration : 0: Beta : [ 2.40513434  1.00916795  0.312901    0.3107471  -0.27970726 -0.4825384\n",
      "  0.46822476  0.57935815] :Cost : 2.1445\n",
      "Iteration : 100: Beta : [ 1.75530421  0.8246546   0.29992964  0.49536857 -0.23828592 -0.44792057\n",
      "  0.39035319  0.54842837] :Cost : 1.6430\n",
      "Iteration : 200: Beta : [ 1.1712346   0.6414255   0.27987753  0.64848441 -0.19831495 -0.39941679\n",
      "  0.30820521  0.50220904] :Cost : 1.2303\n",
      "Iteration : 300: Beta : [ 0.66536071  0.47530009  0.25838659  0.76381423 -0.16595753 -0.34451653\n",
      "  0.2307158   0.45017923] :Cost : 0.9187\n",
      "Iteration : 400: Beta : [ 0.241816    0.33555288  0.23955614  0.84436137 -0.14481778 -0.29196205\n",
      "  0.1642692   0.40186971] :Cost : 0.7017\n",
      "Iteration : 500: Beta : [-0.1059231   0.22314745  0.22507969  0.90152414 -0.13466071 -0.24724556\n",
      "  0.11149841  0.36219334] :Cost : 0.5572\n",
      "Iteration : 600: Beta : [-0.38999798  0.13422705  0.21497926  0.94700626 -0.13293781 -0.21182782\n",
      "  0.07179997  0.33188491] :Cost : 0.4620\n",
      "Iteration : 700: Beta : [-0.62318178  0.06372146  0.20854435  0.98838416 -0.13673638 -0.18486222\n",
      "  0.04293031  0.30975301] :Cost : 0.3985\n",
      "Iteration : 800: Beta : [-0.81659167  0.00709017  0.20492712  1.0293746  -0.14376941 -0.16472543\n",
      "  0.02235202  0.29410981] :Cost : 0.3548\n",
      "Iteration : 900: Beta : [-0.97912357 -0.03919332  0.20339463  1.0713585  -0.15252776 -0.14979993\n",
      "  0.00788113  0.28338539] :Cost : 0.3237\n"
     ]
    }
   ],
   "source": [
    "beta = logistic_gradient_descent(X, Y, lr,beta)"
   ]
  },
  {
   "cell_type": "markdown",
   "id": "3f0fd179",
   "metadata": {},
   "source": [
    "#### Cost Visualization"
   ]
  },
  {
   "cell_type": "code",
   "execution_count": 84,
   "id": "f8449549",
   "metadata": {},
   "outputs": [
    {
     "data": {
      "image/png": "[encoded data removed]",
      "text/plain": [
       "<Figure size 640x480 with 1 Axes>"
      ]
     },
     "metadata": {},
     "output_type": "display_data"
    }
   ],
   "source": [
    "plt.plot(cost_history)\n",
    "plt.title(\"Cost Variation\")\n",
    "plt.xlabel(\"iterations\")\n",
    "plt.ylabel(\"Cost\")\n",
    "plt.show()"
   ]
  },
  {
   "cell_type": "markdown",
   "id": "469e86f3",
   "metadata": {},
   "source": [
    "#### Predict Probability"
   ]
  },
  {
   "cell_type": "code",
   "execution_count": 85,
   "id": "ba1ea1c2",
   "metadata": {},
   "outputs": [],
   "source": [
    "def predict_proba(X, beta):\n",
    "    z = X.dot(beta)\n",
    "    Y_proba = sigmoid(z)\n",
    "    return Y_proba"
   ]
  },
  {
   "cell_type": "code",
   "execution_count": 86,
   "id": "b00bc49e",
   "metadata": {},
   "outputs": [
    {
     "data": {
      "text/plain": [
       "array([0.28629859, 0.63088723, 0.46763169, 0.1187034 , 0.51176387,\n",
       "       0.71078543, 0.11449564, 0.27487155, 0.09424615, 0.21468475,\n",
       "       0.29043804, 0.1179611 , 0.08108802, 0.15675805, 0.37032614,\n",
       "       0.06602464, 0.79581253, 0.05568862, 0.24484109, 0.52408398,\n",
       "       0.27005062, 0.09278141, 0.04032397, 0.70537457, 0.75517104,\n",
       "       0.10511784, 0.1151452 , 0.09041772, 0.23750018, 0.05526812,\n",
       "       0.66643657, 0.12747895, 0.0661389 , 0.34716631, 0.41172066,\n",
       "       0.39003276, 0.03168238, 0.08071328, 0.10038658, 0.32700388,\n",
       "       0.23991755, 0.48477103, 0.18886231, 0.52493469, 0.19281911,\n",
       "       0.32003603, 0.23799569, 0.09128462, 0.24409821, 0.14852254,\n",
       "       0.47340175, 0.1035629 , 0.24559762, 0.56232953, 0.41374657,\n",
       "       0.71598368, 0.5413519 , 0.37937469, 0.40837593, 0.52863381,\n",
       "       0.04583491, 0.12840331, 0.08688072, 0.6544287 , 0.16517966,\n",
       "       0.19153573, 0.36509663, 0.20599554, 0.71571012, 0.11704821,\n",
       "       0.05573067, 0.32608439])"
      ]
     },
     "execution_count": 86,
     "metadata": {},
     "output_type": "execute_result"
    }
   ],
   "source": [
    "Y_proba = predict_proba(X, beta)\n",
    "Y_proba"
   ]
  },
  {
   "cell_type": "markdown",
   "id": "762be697",
   "metadata": {},
   "source": [
    "####  Binary class predictions"
   ]
  },
  {
   "cell_type": "code",
   "execution_count": 87,
   "id": "2e74c899",
   "metadata": {},
   "outputs": [],
   "source": [
    "def predict_class(X, beta, threshold):\n",
    "    z = X.dot(beta)\n",
    "    Y_predicted = sigmoid(z)\n",
    "    return Y_predicted >= threshold"
   ]
  },
  {
   "cell_type": "code",
   "execution_count": 88,
   "id": "cb7bd7b9",
   "metadata": {},
   "outputs": [
    {
     "data": {
      "text/plain": [
       "array([False,  True, False, False,  True,  True, False, False, False,\n",
       "       False, False, False, False, False, False, False,  True, False,\n",
       "       False,  True, False, False, False,  True,  True, False, False,\n",
       "       False, False, False,  True, False, False, False, False, False,\n",
       "       False, False, False, False, False, False, False,  True, False,\n",
       "       False, False, False, False, False, False, False, False,  True,\n",
       "       False,  True,  True, False, False,  True, False, False, False,\n",
       "        True, False, False, False, False,  True, False, False, False])"
      ]
     },
     "execution_count": 88,
     "metadata": {},
     "output_type": "execute_result"
    }
   ],
   "source": [
    "predict_class(X,beta,0.5)"
   ]
  },
  {
   "cell_type": "markdown",
   "id": "9247d7b3",
   "metadata": {},
   "source": [
    "#### Evaluation Matrics"
   ]
  },
  {
   "cell_type": "markdown",
   "id": "f2d3a126",
   "metadata": {},
   "source": [
    "##### Conusion Matrix"
   ]
  },
  {
   "cell_type": "code",
   "execution_count": 89,
   "id": "f2ee3f2f",
   "metadata": {},
   "outputs": [],
   "source": [
    "def compute_confusion_matrix(Y,Y_hat):\n",
    "    TP = np.sum((Y == 1) & (Y_hat == 1))\n",
    "    FP = np.sum((Y == 0) & (Y_hat == 1))\n",
    "    TN = np.sum((Y == 0) & (Y_hat == 0))\n",
    "    FN = np.sum((Y == 1) & (Y_hat == 0))\n",
    "    return np.array([\n",
    "                [TN,FP]\n",
    "                ,[FN,TP]\n",
    "                ],\n",
    "                dtype=int\n",
    "                )"
   ]
  },
  {
   "cell_type": "code",
   "execution_count": 90,
   "id": "243c4a11",
   "metadata": {},
   "outputs": [],
   "source": [
    "Y_hat = predict_class(X,beta,0.5)"
   ]
  },
  {
   "cell_type": "code",
   "execution_count": 91,
   "id": "30dfded1",
   "metadata": {},
   "outputs": [
    {
     "data": {
      "image/png": "[encoded data removed]",
      "text/plain": [
       "<Figure size 640x480 with 2 Axes>"
      ]
     },
     "metadata": {},
     "output_type": "display_data"
    }
   ],
   "source": [
    "cm = compute_confusion_matrix(Y,Y_hat)\n",
    "sns.heatmap(cm,annot=True,fmt='d',cmap='Blues')\n",
    "plt.xlabel('Y_hat')\n",
    "plt.ylabel('Y')\n",
    "plt.title('Confusion Matrix')\n",
    "plt.show()"
   ]
  },
  {
   "cell_type": "markdown",
   "id": "ed04bb0d",
   "metadata": {},
   "source": [
    "##### Precisiom, Recall, f1score, accuracy"
   ]
  },
  {
   "cell_type": "code",
   "execution_count": 92,
   "id": "bb2e1740",
   "metadata": {},
   "outputs": [],
   "source": [
    "def precision_score(cm):\n",
    "    TP = cm[1,1]\n",
    "    FP = cm[0,1]\n",
    "    return TP/(TP+FP)\n",
    "\n",
    "def recall_score(cm):\n",
    "    TP = cm[1,1]\n",
    "    FN = cm[1,0]\n",
    "    return TP / (TP +FN)\n",
    "\n",
    "def f1_score(cm):\n",
    "    p = precision_score(cm)\n",
    "    r = recall_score(cm)\n",
    "    return 2 * p * r / (p + r)\n",
    "\n",
    "def accuracy(cm):\n",
    "    TP = cm[1,1]\n",
    "    FP = cm[0,1]\n",
    "    FN = cm[1,0]\n",
    "    TN = cm[0,0]\n",
    "    return (TP + TN) / (TP + TN + FP + FN)"
   ]
  },
  {
   "cell_type": "code",
   "execution_count": 93,
   "id": "b4cc2671",
   "metadata": {},
   "outputs": [
    {
     "name": "stdout",
     "output_type": "stream",
     "text": [
      "Precision : 0.7333333333333333\n",
      "Recall : 0.9166666666666666\n",
      "F1 Score : 0.8148148148148148\n",
      "Accuracy : 0.9305555555555556\n"
     ]
    }
   ],
   "source": [
    "cm = compute_confusion_matrix(Y, Y_hat) \n",
    "p = precision_score(cm)\n",
    "r = recall_score(cm) \n",
    "f1 = f1_score(cm)\n",
    "acc = accuracy(cm)\n",
    "\n",
    "print(f\"Precision : {p}\")\n",
    "print(f\"Recall : {r}\")\n",
    "print(f\"F1 Score : {f1}\")\n",
    "print(f\"Accuracy : {acc}\")"
   ]
  },
  {
   "cell_type": "markdown",
   "id": "1f73584e",
   "metadata": {},
   "source": [
    "##### ROC curve"
   ]
  },
  {
   "cell_type": "code",
   "execution_count": 94,
   "id": "89a52c9a",
   "metadata": {},
   "outputs": [],
   "source": [
    "def roc_curve(Y,Y_proba):\n",
    "    thresholds = np.linspace(1,0,200)\n",
    "\n",
    "    tpr_list = []\n",
    "    fpr_list = []\n",
    "\n",
    "    for t in thresholds:\n",
    "        y_hat = (Y_proba >= t).astype(int)\n",
    "        \n",
    "        TP = np.sum((Y == 1) & (y_hat == 1))\n",
    "        FP = np.sum((Y == 0) & (y_hat == 1))\n",
    "        TN = np.sum((Y == 0) & (y_hat == 0))\n",
    "        FN = np.sum((Y == 1) & (y_hat == 0))\n",
    "\n",
    "        tpr = TP / (TP + FN)\n",
    "        fpr = FP / (FP + TN)\n",
    "        \n",
    "        tpr_list.append(tpr)\n",
    "        fpr_list.append(fpr)\n",
    "\n",
    "    return np.array(tpr_list), np.array(fpr_list), np.array(thresholds)"
   ]
  },
  {
   "cell_type": "code",
   "execution_count": 95,
   "id": "fb03a353",
   "metadata": {},
   "outputs": [],
   "source": [
    "tpr, fpr, _ = roc_curve(Y, Y_proba)"
   ]
  },
  {
   "cell_type": "code",
   "execution_count": 96,
   "id": "4e349fac",
   "metadata": {},
   "outputs": [
    {
     "data": {
      "image/png": "[encoded data removed]",
      "text/plain": [
       "<Figure size 640x480 with 1 Axes>"
      ]
     },
     "metadata": {},
     "output_type": "display_data"
    }
   ],
   "source": [
    "plt.plot(fpr, tpr, label='LogReg')\n",
    "plt.xlabel(\"FPR\")\n",
    "plt.ylabel(\"TPR\")\n",
    "plt.title(\"ROC Curve\")\n",
    "plt.show()"
   ]
  },
  {
   "cell_type": "code",
   "execution_count": 97,
   "id": "e96f9163",
   "metadata": {},
   "outputs": [
    {
     "name": "stdout",
     "output_type": "stream",
     "text": [
      "AUC: 0.9847222222222222\n"
     ]
    }
   ],
   "source": [
    "auc = np.trapezoid(tpr, fpr)\n",
    "print(f\"AUC: {auc}\")"
   ]
  },
  {
   "cell_type": "code",
   "execution_count": null,
   "id": "c8c4e6e8",
   "metadata": {},
   "outputs": [],
   "source": []
  }
 ],
 "metadata": {
  "kernelspec": {
   "display_name": "foml",
   "language": "python",
   "name": "python3"
  },
  "language_info": {
   "codemirror_mode": {
    "name": "ipython",
    "version": 3
   },
   "file_extension": ".py",
   "mimetype": "text/x-python",
   "name": "python",
   "nbconvert_exporter": "python",
   "pygments_lexer": "ipython3",
   "version": "3.11.13"
  }
 },
 "nbformat": 4,
 "nbformat_minor": 5
}
