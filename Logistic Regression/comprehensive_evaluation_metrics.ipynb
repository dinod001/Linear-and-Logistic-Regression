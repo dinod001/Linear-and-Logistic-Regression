{
 "cells": [
  {
   "cell_type": "code",
   "execution_count": 240,
   "id": "185fae72",
   "metadata": {},
   "outputs": [],
   "source": [
    "import pandas as pd\n",
    "import numpy as np\n",
    "import matplotlib.pyplot as plt\n",
    "from sklearn.linear_model import LogisticRegression\n",
    "import seaborn as sns"
   ]
  },
  {
   "cell_type": "markdown",
   "id": "6012ec41",
   "metadata": {},
   "source": [
    "#### Data Loading and Filtering"
   ]
  },
  {
   "cell_type": "code",
   "execution_count": 241,
   "id": "41d0f42b",
   "metadata": {},
   "outputs": [
    {
     "data": {
      "text/html": [
       "<div>\n",
       "<style scoped>\n",
       "    .dataframe tbody tr th:only-of-type {\n",
       "        vertical-align: middle;\n",
       "    }\n",
       "\n",
       "    .dataframe tbody tr th {\n",
       "        vertical-align: top;\n",
       "    }\n",
       "\n",
       "    .dataframe thead th {\n",
       "        text-align: right;\n",
       "    }\n",
       "</style>\n",
       "<table border=\"1\" class=\"dataframe\">\n",
       "  <thead>\n",
       "    <tr style=\"text-align: right;\">\n",
       "      <th></th>\n",
       "      <th>EducationLevel</th>\n",
       "      <th>Attendance</th>\n",
       "      <th>TotalHours</th>\n",
       "      <th>AssignmentsCompleted</th>\n",
       "      <th>HackathonParticipation</th>\n",
       "      <th>GitHubScore</th>\n",
       "      <th>PeerReviewScore</th>\n",
       "      <th>Passed</th>\n",
       "    </tr>\n",
       "  </thead>\n",
       "  <tbody>\n",
       "    <tr>\n",
       "      <th>0</th>\n",
       "      <td>3</td>\n",
       "      <td>79.9</td>\n",
       "      <td>43.7</td>\n",
       "      <td>2</td>\n",
       "      <td>0</td>\n",
       "      <td>62.8</td>\n",
       "      <td>5.0</td>\n",
       "      <td>False</td>\n",
       "    </tr>\n",
       "    <tr>\n",
       "      <th>1</th>\n",
       "      <td>2</td>\n",
       "      <td>76.8</td>\n",
       "      <td>95.6</td>\n",
       "      <td>6</td>\n",
       "      <td>0</td>\n",
       "      <td>87.4</td>\n",
       "      <td>2.7</td>\n",
       "      <td>True</td>\n",
       "    </tr>\n",
       "    <tr>\n",
       "      <th>2</th>\n",
       "      <td>3</td>\n",
       "      <td>96.6</td>\n",
       "      <td>75.9</td>\n",
       "      <td>8</td>\n",
       "      <td>0</td>\n",
       "      <td>98.4</td>\n",
       "      <td>2.8</td>\n",
       "      <td>False</td>\n",
       "    </tr>\n",
       "    <tr>\n",
       "      <th>4</th>\n",
       "      <td>2</td>\n",
       "      <td>83.2</td>\n",
       "      <td>24.0</td>\n",
       "      <td>6</td>\n",
       "      <td>0</td>\n",
       "      <td>41.8</td>\n",
       "      <td>4.2</td>\n",
       "      <td>False</td>\n",
       "    </tr>\n",
       "    <tr>\n",
       "      <th>7</th>\n",
       "      <td>3</td>\n",
       "      <td>86.5</td>\n",
       "      <td>88.0</td>\n",
       "      <td>5</td>\n",
       "      <td>0</td>\n",
       "      <td>23.9</td>\n",
       "      <td>1.3</td>\n",
       "      <td>False</td>\n",
       "    </tr>\n",
       "  </tbody>\n",
       "</table>\n",
       "</div>"
      ],
      "text/plain": [
       "   EducationLevel  Attendance  TotalHours  AssignmentsCompleted  \\\n",
       "0               3        79.9        43.7                     2   \n",
       "1               2        76.8        95.6                     6   \n",
       "2               3        96.6        75.9                     8   \n",
       "4               2        83.2        24.0                     6   \n",
       "7               3        86.5        88.0                     5   \n",
       "\n",
       "   HackathonParticipation  GitHubScore  PeerReviewScore  Passed  \n",
       "0                       0         62.8              5.0   False  \n",
       "1                       0         87.4              2.7    True  \n",
       "2                       0         98.4              2.8   False  \n",
       "4                       0         41.8              4.2   False  \n",
       "7                       0         23.9              1.3   False  "
      ]
     },
     "execution_count": 241,
     "metadata": {},
     "output_type": "execute_result"
    }
   ],
   "source": [
    "df = pd.read_csv(\"../zuu crew scores.csv\")\n",
    "df = df[df['CourseName'] == 'Foundations of ML']\n",
    "df[\"Passed\"] = df[\"CapstoneScore\"] >= 75\n",
    "del df['MemberName'], df['CourseName'], df['CapstoneScore']\n",
    "df.head()"
   ]
  },
  {
   "cell_type": "code",
   "execution_count": 242,
   "id": "019f7a45",
   "metadata": {},
   "outputs": [],
   "source": [
    "Y = df['Passed'].values\n",
    "X_df = df.drop(columns=['Passed'])\n",
    "\n",
    "# Calculate mean and std for each feature (column)\n",
    "mean = X_df.mean()\n",
    "std = X_df.std()\n",
    "\n",
    "# Standardize each column\n",
    "X_standardized = (X_df - mean) / std\n",
    "\n",
    "# Convert to numpy array\n",
    "X_df = X_standardized.values"
   ]
  },
  {
   "cell_type": "code",
   "execution_count": 243,
   "id": "da931532",
   "metadata": {},
   "outputs": [],
   "source": [
    "X = X_df\n",
    "X = np.column_stack((\n",
    "    np.ones(len(df)),\n",
    "    X\n",
    "))"
   ]
  },
  {
   "cell_type": "code",
   "execution_count": 244,
   "id": "a81003ca",
   "metadata": {},
   "outputs": [],
   "source": [
    "# defining sigmoid function\n",
    "def sigmoid(z):\n",
    "    return 1 / (1 + np.exp(-z))"
   ]
  },
  {
   "cell_type": "markdown",
   "id": "0b8809a3",
   "metadata": {},
   "source": [
    "#### Cost Function"
   ]
  },
  {
   "cell_type": "code",
   "execution_count": 245,
   "id": "39ba6878",
   "metadata": {},
   "outputs": [],
   "source": [
    "def compute_cost(y_hat, Y):\n",
    "    pos_component = np.sum(Y * np.log(y_hat))\n",
    "    neg_component = np.sum((1 - Y) * np.log(1 - y_hat))\n",
    "\n",
    "    m = len(Y)\n",
    "    return (-1/m) * (pos_component + neg_component)"
   ]
  },
  {
   "cell_type": "markdown",
   "id": "8f80e111",
   "metadata": {},
   "source": [
    "#### Optimization"
   ]
  },
  {
   "cell_type": "code",
   "execution_count": 246,
   "id": "c579d5b0",
   "metadata": {},
   "outputs": [],
   "source": [
    "def compute_gradients(X, Y, y_hat):\n",
    "    m = len(Y)\n",
    "\n",
    "    \"\"\"\n",
    "    beta0, beta1    \n",
    "    \"\"\"\n",
    "\n",
    "    beta = (1 / m) * X.T.dot(y_hat - Y)\n",
    "\n",
    "    return beta"
   ]
  },
  {
   "cell_type": "code",
   "execution_count": 247,
   "id": "6eb3a2c0",
   "metadata": {},
   "outputs": [
    {
     "name": "stdout",
     "output_type": "stream",
     "text": [
      "beta values : [ 1.14428249  0.32316799  0.68963916  0.58034085  0.8444274  -0.50612103\n",
      " -1.83616224 -1.70612144]\n"
     ]
    }
   ],
   "source": [
    "beta = np.random.randn(8)\n",
    "print(f\"beta values : {beta}\")\n",
    "\n",
    "lr = 0.01\n",
    "n_iter = 1000"
   ]
  },
  {
   "cell_type": "markdown",
   "id": "9fd772a4",
   "metadata": {},
   "source": [
    "#### Parameter optimization"
   ]
  },
  {
   "cell_type": "code",
   "execution_count": 248,
   "id": "a1089e31",
   "metadata": {},
   "outputs": [],
   "source": [
    "\n",
    "cost_history = []\n",
    "def logistic_gradient_descent(X, Y, lr,beta):\n",
    "    for i in range(n_iter):\n",
    "        \"\"\"\n",
    "        Z = beta.T.X = beta0 + beta1.x1\n",
    "        Y_hat = sigmoid(Z)\n",
    "        \"\"\"\n",
    "        z = X.dot(beta)\n",
    "        y_hat = sigmoid(z)\n",
    "\n",
    "        gradient = compute_gradients(X, Y, y_hat)\n",
    "\n",
    "        beta = beta - lr * gradient\n",
    "\n",
    "        cost = compute_cost(y_hat, Y)\n",
    "        cost_history.append(cost)\n",
    "\n",
    "        if i % 100 == 0:\n",
    "            print(f\"Iteration : {i}: Beta : {beta} :Cost : {cost:.4f}\")\n",
    "        \n",
    "    return beta"
   ]
  },
  {
   "cell_type": "code",
   "execution_count": 249,
   "id": "c72f5839",
   "metadata": {},
   "outputs": [
    {
     "name": "stdout",
     "output_type": "stream",
     "text": [
      "Iteration : 0: Beta : [ 1.13945792  0.32294707  0.68943084  0.58233384  0.84309091 -0.50659904\n",
      " -1.83444986 -1.70367604] :Cost : 1.6401\n",
      "Iteration : 100: Beta : [ 0.68279941  0.30116018  0.66764541  0.76317169  0.71464955 -0.54599864\n",
      " -1.66691727 -1.46461235] :Cost : 1.2937\n",
      "Iteration : 200: Beta : [ 0.28164451  0.27852113  0.64296652  0.90710988  0.59934605 -0.56797251\n",
      " -1.51011892 -1.24164028] :Cost : 1.0219\n",
      "Iteration : 300: Beta : [-0.06198676  0.25381991  0.61492432  1.01734786  0.49887287 -0.57358312\n",
      " -1.36739518 -1.04142251] :Cost : 0.8187\n",
      "Iteration : 400: Beta : [-0.35201645  0.22677515  0.58447394  1.10037964  0.41206868 -0.56606974\n",
      " -1.23958131 -0.86679907] :Cost : 0.6709\n",
      "Iteration : 500: Beta : [-0.59596504  0.19783429  0.5532629   1.16378257  0.33689295 -0.54941957\n",
      " -1.12557952 -0.71667386] :Cost : 0.5636\n",
      "Iteration : 600: Beta : [-0.8020107   0.16775477  0.52270122  1.21426504  0.27158225 -0.52713914\n",
      " -1.02355772 -0.58801419] :Cost : 0.4847\n",
      "Iteration : 700: Beta : [-0.97739464  0.13725174  0.49368232  1.25681883  0.2147013  -0.5018698\n",
      " -0.93178545 -0.47746044] :Cost : 0.4256\n",
      "Iteration : 800: Beta : [-1.12802908  0.10688525  0.46669969  1.29479523  0.16498962 -0.47547628\n",
      " -0.84888443 -0.38200988] :Cost : 0.3805\n",
      "Iteration : 900: Beta : [-1.25860549  0.07706951  0.44199855  1.33030735  0.12132279 -0.44921951\n",
      " -0.77379553 -0.29918759] :Cost : 0.3455\n"
     ]
    }
   ],
   "source": [
    "beta = logistic_gradient_descent(X, Y, lr,beta)"
   ]
  },
  {
   "cell_type": "markdown",
   "id": "3f0fd179",
   "metadata": {},
   "source": [
    "#### Cost Visualization"
   ]
  },
  {
   "cell_type": "code",
   "execution_count": 250,
   "id": "f8449549",
   "metadata": {},
   "outputs": [
    {
     "data": {
      "image/png": "[encoded data removed]",
      "text/plain": [
       "<Figure size 640x480 with 1 Axes>"
      ]
     },
     "metadata": {},
     "output_type": "display_data"
    }
   ],
   "source": [
    "plt.plot(cost_history)\n",
    "plt.title(\"Cost Variation\")\n",
    "plt.xlabel(\"iterations\")\n",
    "plt.ylabel(\"Cost\")\n",
    "plt.show()"
   ]
  },
  {
   "cell_type": "markdown",
   "id": "469e86f3",
   "metadata": {},
   "source": [
    "#### Predict Probability"
   ]
  },
  {
   "cell_type": "code",
   "execution_count": 251,
   "id": "ba1ea1c2",
   "metadata": {},
   "outputs": [],
   "source": [
    "def predict_proba(X, beta):\n",
    "    z = X.dot(beta)\n",
    "    Y_proba = sigmoid(z)\n",
    "    return Y_proba"
   ]
  },
  {
   "cell_type": "code",
   "execution_count": 252,
   "id": "b00bc49e",
   "metadata": {},
   "outputs": [
    {
     "data": {
      "text/plain": [
       "array([0.10342277, 0.57373871, 0.46832663, 0.08786347, 0.88584772,\n",
       "       0.60752655, 0.03405352, 0.27897382, 0.07346821, 0.14401371,\n",
       "       0.1482413 , 0.01699504, 0.09158278, 0.19359384, 0.18946791,\n",
       "       0.01950776, 0.6276372 , 0.09722355, 0.37770094, 0.67992594,\n",
       "       0.07443867, 0.10558985, 0.02024962, 0.93059295, 0.85550767,\n",
       "       0.16878835, 0.10552439, 0.01499421, 0.13010122, 0.05474663,\n",
       "       0.88271203, 0.10013208, 0.06331691, 0.65820105, 0.4264318 ,\n",
       "       0.68974926, 0.01068005, 0.1053483 , 0.06166601, 0.3224506 ,\n",
       "       0.34492441, 0.27576369, 0.18643258, 0.53717495, 0.07960282,\n",
       "       0.09882059, 0.29190765, 0.01255407, 0.27491607, 0.13711979,\n",
       "       0.26795161, 0.12653291, 0.06879433, 0.4024029 , 0.7325088 ,\n",
       "       0.33507099, 0.59041543, 0.32356556, 0.4031158 , 0.23171531,\n",
       "       0.02786555, 0.28386784, 0.07893144, 0.72700742, 0.15123255,\n",
       "       0.11390723, 0.2681806 , 0.09985618, 0.49649847, 0.08479083,\n",
       "       0.06137525, 0.11880546])"
      ]
     },
     "execution_count": 252,
     "metadata": {},
     "output_type": "execute_result"
    }
   ],
   "source": [
    "Y_proba = predict_proba(X, beta)\n",
    "Y_proba"
   ]
  },
  {
   "cell_type": "markdown",
   "id": "762be697",
   "metadata": {},
   "source": [
    "####  Binary class predictions"
   ]
  },
  {
   "cell_type": "code",
   "execution_count": 253,
   "id": "2e74c899",
   "metadata": {},
   "outputs": [],
   "source": [
    "def predict_class(X, beta, threshold):\n",
    "    z = X.dot(beta)\n",
    "    Y_predicted = sigmoid(z)\n",
    "    return Y_predicted >= threshold"
   ]
  },
  {
   "cell_type": "code",
   "execution_count": 254,
   "id": "cb7bd7b9",
   "metadata": {},
   "outputs": [
    {
     "data": {
      "text/plain": [
       "array([False,  True, False, False,  True,  True, False, False, False,\n",
       "       False, False, False, False, False, False, False,  True, False,\n",
       "       False,  True, False, False, False,  True,  True, False, False,\n",
       "       False, False, False,  True, False, False,  True, False,  True,\n",
       "       False, False, False, False, False, False, False,  True, False,\n",
       "       False, False, False, False, False, False, False, False, False,\n",
       "        True, False,  True, False, False, False, False, False, False,\n",
       "        True, False, False, False, False, False, False, False, False])"
      ]
     },
     "execution_count": 254,
     "metadata": {},
     "output_type": "execute_result"
    }
   ],
   "source": [
    "predict_class(X,beta,0.5)"
   ]
  },
  {
   "cell_type": "markdown",
   "id": "9247d7b3",
   "metadata": {},
   "source": [
    "#### Evaluation Matrics"
   ]
  },
  {
   "cell_type": "markdown",
   "id": "f2d3a126",
   "metadata": {},
   "source": [
    "##### Conusion Matrix"
   ]
  },
  {
   "cell_type": "code",
   "execution_count": 255,
   "id": "f2ee3f2f",
   "metadata": {},
   "outputs": [],
   "source": [
    "def compute_confusion_matrix(Y,Y_hat):\n",
    "    TP = np.sum((Y == 1) & (Y_hat == 1))\n",
    "    FP = np.sum((Y == 0) & (Y_hat == 1))\n",
    "    TN = np.sum((Y == 0) & (Y_hat == 0))\n",
    "    FN = np.sum((Y == 1) & (Y_hat == 0))\n",
    "    return np.array([\n",
    "                [TN,FP]\n",
    "                ,[FN,TP]\n",
    "                ],\n",
    "                dtype=int\n",
    "                )"
   ]
  },
  {
   "cell_type": "code",
   "execution_count": 256,
   "id": "243c4a11",
   "metadata": {},
   "outputs": [],
   "source": [
    "Y_hat = predict_class(X,beta,0.5)"
   ]
  },
  {
   "cell_type": "code",
   "execution_count": 257,
   "id": "30dfded1",
   "metadata": {},
   "outputs": [
    {
     "data": {
      "image/png": "[encoded data removed]",
      "text/plain": [
       "<Figure size 640x480 with 2 Axes>"
      ]
     },
     "metadata": {},
     "output_type": "display_data"
    }
   ],
   "source": [
    "cm = compute_confusion_matrix(Y,Y_hat)\n",
    "sns.heatmap(cm,annot=True,fmt='d',cmap='Blues')\n",
    "plt.xlabel('Y_hat')\n",
    "plt.ylabel('Y')\n",
    "plt.title('Confusion Matrix')\n",
    "plt.show()"
   ]
  },
  {
   "cell_type": "markdown",
   "id": "ed04bb0d",
   "metadata": {},
   "source": [
    "##### Precisiom, Recall, f1score, accuracy"
   ]
  },
  {
   "cell_type": "code",
   "execution_count": 258,
   "id": "bb2e1740",
   "metadata": {},
   "outputs": [],
   "source": [
    "def precision_score(cm):\n",
    "    TP = cm[1,1]\n",
    "    FP = cm[0,1]\n",
    "    return TP/(TP+FP)\n",
    "\n",
    "def recall_score(cm):\n",
    "    TP = cm[1,1]\n",
    "    FN = cm[1,0]\n",
    "    return TP / (TP +FN)\n",
    "\n",
    "def f1_score(cm):\n",
    "    p = precision_score(cm)\n",
    "    r = recall_score(cm)\n",
    "    return 2 * p * r / (p + r)\n",
    "\n",
    "def accuracy(cm):\n",
    "    TP = cm[1,1]\n",
    "    FP = cm[0,1]\n",
    "    FN = cm[1,0]\n",
    "    TN = cm[0,0]\n",
    "    return (TP + TN) / (TP + TN + FP + FN)"
   ]
  },
  {
   "cell_type": "code",
   "execution_count": 259,
   "id": "b4cc2671",
   "metadata": {},
   "outputs": [
    {
     "name": "stdout",
     "output_type": "stream",
     "text": [
      "Precision : 0.5714285714285714\n",
      "Recall : 0.6666666666666666\n",
      "F1 Score : 0.6153846153846153\n",
      "Accuracy : 0.8611111111111112\n"
     ]
    }
   ],
   "source": [
    "cm = compute_confusion_matrix(Y, Y_hat) \n",
    "p = precision_score(cm)\n",
    "r = recall_score(cm) \n",
    "f1 = f1_score(cm)\n",
    "acc = accuracy(cm)\n",
    "\n",
    "print(f\"Precision : {p}\")\n",
    "print(f\"Recall : {r}\")\n",
    "print(f\"F1 Score : {f1}\")\n",
    "print(f\"Accuracy : {acc}\")"
   ]
  },
  {
   "cell_type": "code",
   "execution_count": 260,
   "id": "f37d0cbb",
   "metadata": {},
   "outputs": [],
   "source": [
    "Precision= []\n",
    "Recall = []"
   ]
  },
  {
   "cell_type": "markdown",
   "id": "1f73584e",
   "metadata": {},
   "source": [
    "##### ROC curve"
   ]
  },
  {
   "cell_type": "code",
   "execution_count": 261,
   "id": "89a52c9a",
   "metadata": {},
   "outputs": [],
   "source": [
    "def roc_curve(Y,Y_proba):\n",
    "    thresholds = np.linspace(1,0,200)\n",
    "\n",
    "    tpr_list = []\n",
    "    fpr_list = []\n",
    "\n",
    "    for t in thresholds:\n",
    "        y_hat = (Y_proba >= t).astype(int)\n",
    "        \n",
    "        TP = np.sum((Y == 1) & (y_hat == 1))\n",
    "        FP = np.sum((Y == 0) & (y_hat == 1))\n",
    "        TN = np.sum((Y == 0) & (y_hat == 0))\n",
    "        FN = np.sum((Y == 1) & (y_hat == 0))\n",
    "\n",
    "        tpr = TP / (TP + FN)\n",
    "        fpr = FP / (FP + TN)\n",
    "\n",
    "        if (TP + FP) == 0:\n",
    "            precision = 0 \n",
    "        else:\n",
    "            precision = TP / (TP + FP)\n",
    "\n",
    "        recall = TP / (TP +FN)\n",
    "        \n",
    "        tpr_list.append(tpr)\n",
    "        fpr_list.append(fpr)\n",
    "        Precision.append(precision)\n",
    "        Recall.append(recall)\n",
    "\n",
    "    return np.array(tpr_list), np.array(fpr_list), np.array(thresholds)"
   ]
  },
  {
   "cell_type": "code",
   "execution_count": 262,
   "id": "fb03a353",
   "metadata": {},
   "outputs": [],
   "source": [
    "tpr, fpr, _ = roc_curve(Y, Y_proba)"
   ]
  },
  {
   "cell_type": "code",
   "execution_count": 263,
   "id": "4e349fac",
   "metadata": {},
   "outputs": [
    {
     "data": {
      "image/png": "[encoded data removed]",
      "text/plain": [
       "<Figure size 640x480 with 1 Axes>"
      ]
     },
     "metadata": {},
     "output_type": "display_data"
    }
   ],
   "source": [
    "plt.plot(fpr, tpr, label='LogReg')\n",
    "plt.xlabel(\"FPR\")\n",
    "plt.ylabel(\"TPR\")\n",
    "plt.title(\"ROC Curve\")\n",
    "plt.show()"
   ]
  },
  {
   "cell_type": "code",
   "execution_count": 264,
   "id": "e96f9163",
   "metadata": {},
   "outputs": [
    {
     "name": "stdout",
     "output_type": "stream",
     "text": [
      "AUC: 0.9277777777777777\n"
     ]
    }
   ],
   "source": [
    "auc = np.trapezoid(tpr, fpr)\n",
    "print(f\"AUC: {auc}\")"
   ]
  },
  {
   "cell_type": "markdown",
   "id": "c87d48ef",
   "metadata": {},
   "source": [
    "####  Precision Recall Curve "
   ]
  },
  {
   "cell_type": "code",
   "execution_count": 265,
   "id": "c8c4e6e8",
   "metadata": {},
   "outputs": [
    {
     "data": {
      "image/png": "[encoded data removed]",
      "text/plain": [
       "<Figure size 640x480 with 1 Axes>"
      ]
     },
     "metadata": {},
     "output_type": "display_data"
    }
   ],
   "source": [
    "plt.plot(Recall, Precision, color='red',marker='.')\n",
    "plt.xlabel(\"Recall\")\n",
    "plt.ylabel(\"Precision\")\n",
    "plt.title(\"Precision-Recall Curve\")\n",
    "plt.show()\n"
   ]
  },
  {
   "cell_type": "code",
   "execution_count": null,
   "id": "26f78ad8",
   "metadata": {},
   "outputs": [],
   "source": []
  }
 ],
 "metadata": {
  "kernelspec": {
   "display_name": "foml",
   "language": "python",
   "name": "python3"
  },
  "language_info": {
   "codemirror_mode": {
    "name": "ipython",
    "version": 3
   },
   "file_extension": ".py",
   "mimetype": "text/x-python",
   "name": "python",
   "nbconvert_exporter": "python",
   "pygments_lexer": "ipython3",
   "version": "3.11.13"
  }
 },
 "nbformat": 4,
 "nbformat_minor": 5
}
