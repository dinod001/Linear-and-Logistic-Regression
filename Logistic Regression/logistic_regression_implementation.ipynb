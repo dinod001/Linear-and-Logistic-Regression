{
 "cells": [
  {
   "cell_type": "code",
   "execution_count": 416,
   "id": "28430d75",
   "metadata": {},
   "outputs": [],
   "source": [
    "import pandas as pd\n",
    "import numpy as np\n",
    "import matplotlib.pyplot as plt\n",
    "from sklearn.linear_model import LogisticRegression\n",
    "import seaborn as sns"
   ]
  },
  {
   "cell_type": "markdown",
   "id": "00845dda",
   "metadata": {},
   "source": [
    "#### Data Loading and Filtering"
   ]
  },
  {
   "cell_type": "code",
   "execution_count": 417,
   "id": "c93228a4",
   "metadata": {},
   "outputs": [
    {
     "data": {
      "text/html": [
       "<div>\n",
       "<style scoped>\n",
       "    .dataframe tbody tr th:only-of-type {\n",
       "        vertical-align: middle;\n",
       "    }\n",
       "\n",
       "    .dataframe tbody tr th {\n",
       "        vertical-align: top;\n",
       "    }\n",
       "\n",
       "    .dataframe thead th {\n",
       "        text-align: right;\n",
       "    }\n",
       "</style>\n",
       "<table border=\"1\" class=\"dataframe\">\n",
       "  <thead>\n",
       "    <tr style=\"text-align: right;\">\n",
       "      <th></th>\n",
       "      <th>EducationLevel</th>\n",
       "      <th>Attendance</th>\n",
       "      <th>TotalHours</th>\n",
       "      <th>AssignmentsCompleted</th>\n",
       "      <th>HackathonParticipation</th>\n",
       "      <th>GitHubScore</th>\n",
       "      <th>PeerReviewScore</th>\n",
       "      <th>Passed</th>\n",
       "    </tr>\n",
       "  </thead>\n",
       "  <tbody>\n",
       "    <tr>\n",
       "      <th>0</th>\n",
       "      <td>3</td>\n",
       "      <td>79.9</td>\n",
       "      <td>43.7</td>\n",
       "      <td>2</td>\n",
       "      <td>0</td>\n",
       "      <td>62.8</td>\n",
       "      <td>5.0</td>\n",
       "      <td>False</td>\n",
       "    </tr>\n",
       "    <tr>\n",
       "      <th>1</th>\n",
       "      <td>2</td>\n",
       "      <td>76.8</td>\n",
       "      <td>95.6</td>\n",
       "      <td>6</td>\n",
       "      <td>0</td>\n",
       "      <td>87.4</td>\n",
       "      <td>2.7</td>\n",
       "      <td>True</td>\n",
       "    </tr>\n",
       "    <tr>\n",
       "      <th>2</th>\n",
       "      <td>3</td>\n",
       "      <td>96.6</td>\n",
       "      <td>75.9</td>\n",
       "      <td>8</td>\n",
       "      <td>0</td>\n",
       "      <td>98.4</td>\n",
       "      <td>2.8</td>\n",
       "      <td>False</td>\n",
       "    </tr>\n",
       "    <tr>\n",
       "      <th>4</th>\n",
       "      <td>2</td>\n",
       "      <td>83.2</td>\n",
       "      <td>24.0</td>\n",
       "      <td>6</td>\n",
       "      <td>0</td>\n",
       "      <td>41.8</td>\n",
       "      <td>4.2</td>\n",
       "      <td>False</td>\n",
       "    </tr>\n",
       "    <tr>\n",
       "      <th>7</th>\n",
       "      <td>3</td>\n",
       "      <td>86.5</td>\n",
       "      <td>88.0</td>\n",
       "      <td>5</td>\n",
       "      <td>0</td>\n",
       "      <td>23.9</td>\n",
       "      <td>1.3</td>\n",
       "      <td>False</td>\n",
       "    </tr>\n",
       "  </tbody>\n",
       "</table>\n",
       "</div>"
      ],
      "text/plain": [
       "   EducationLevel  Attendance  TotalHours  AssignmentsCompleted  \\\n",
       "0               3        79.9        43.7                     2   \n",
       "1               2        76.8        95.6                     6   \n",
       "2               3        96.6        75.9                     8   \n",
       "4               2        83.2        24.0                     6   \n",
       "7               3        86.5        88.0                     5   \n",
       "\n",
       "   HackathonParticipation  GitHubScore  PeerReviewScore  Passed  \n",
       "0                       0         62.8              5.0   False  \n",
       "1                       0         87.4              2.7    True  \n",
       "2                       0         98.4              2.8   False  \n",
       "4                       0         41.8              4.2   False  \n",
       "7                       0         23.9              1.3   False  "
      ]
     },
     "execution_count": 417,
     "metadata": {},
     "output_type": "execute_result"
    }
   ],
   "source": [
    "df = pd.read_csv(\"../zuu crew scores.csv\")\n",
    "df = df[df['CourseName'] == 'Foundations of ML']\n",
    "df[\"Passed\"] = df[\"CapstoneScore\"] >= 75\n",
    "del df['MemberName'], df['CourseName'], df['CapstoneScore']\n",
    "df.head()"
   ]
  },
  {
   "cell_type": "code",
   "execution_count": 418,
   "id": "6499d532",
   "metadata": {},
   "outputs": [],
   "source": [
    "Y = df['Passed'].values\n",
    "X_df = df.drop(columns=['Passed'])\n",
    "\n",
    "# Calculate mean and std for each feature (column)\n",
    "mean = X_df.mean()\n",
    "std = X_df.std()\n",
    "\n",
    "# Standardize each column\n",
    "X_standardized = (X_df - mean) / std\n",
    "\n",
    "# Convert to numpy array\n",
    "X_df = X_standardized.values"
   ]
  },
  {
   "cell_type": "code",
   "execution_count": 419,
   "id": "e24c62ec",
   "metadata": {},
   "outputs": [],
   "source": [
    "X = X_df\n",
    "X = np.column_stack((\n",
    "    np.ones(len(df)),\n",
    "    X\n",
    "))"
   ]
  },
  {
   "cell_type": "code",
   "execution_count": 420,
   "id": "fafda2eb",
   "metadata": {},
   "outputs": [],
   "source": [
    "# defining sigmoid function\n",
    "def sigmoid(z):\n",
    "    return 1 / (1 + np.exp(-z))"
   ]
  },
  {
   "cell_type": "markdown",
   "id": "c1b17c1e",
   "metadata": {},
   "source": [
    "#### Cost Function"
   ]
  },
  {
   "cell_type": "code",
   "execution_count": 421,
   "id": "35a33f83",
   "metadata": {},
   "outputs": [],
   "source": [
    "def compute_cost(y_hat, Y):\n",
    "    pos_component = np.sum(Y * np.log(y_hat))\n",
    "    neg_component = np.sum((1 - Y) * np.log(1 - y_hat))\n",
    "\n",
    "    m = len(Y)\n",
    "    return (-1/m) * (pos_component + neg_component)"
   ]
  },
  {
   "cell_type": "markdown",
   "id": "4e76ea06",
   "metadata": {},
   "source": [
    "#### Optimization"
   ]
  },
  {
   "cell_type": "code",
   "execution_count": 422,
   "id": "9c8af57b",
   "metadata": {},
   "outputs": [],
   "source": [
    "def compute_gradients(X, Y, y_hat):\n",
    "    m = len(Y)\n",
    "\n",
    "    \"\"\"\n",
    "    beta0, beta1    \n",
    "    \"\"\"\n",
    "\n",
    "    beta = (1 / m) * X.T.dot(y_hat - Y)\n",
    "\n",
    "    return beta"
   ]
  },
  {
   "cell_type": "code",
   "execution_count": 423,
   "id": "06acb382",
   "metadata": {},
   "outputs": [
    {
     "name": "stdout",
     "output_type": "stream",
     "text": [
      "beta values : [ 0.89250716 -0.23478311 -0.80608007  0.83857172 -0.74021151  0.37766237\n",
      "  0.53319702  0.12687716]\n"
     ]
    }
   ],
   "source": [
    "beta = np.random.randn(8)\n",
    "print(f\"beta values : {beta}\")\n",
    "\n",
    "lr = 0.01\n",
    "n_iter = 1000"
   ]
  },
  {
   "cell_type": "markdown",
   "id": "c5e81243",
   "metadata": {},
   "source": [
    "#### Parameter optimization"
   ]
  },
  {
   "cell_type": "code",
   "execution_count": 424,
   "id": "58fea115",
   "metadata": {},
   "outputs": [],
   "source": [
    "\n",
    "cost_history = []\n",
    "def logistic_gradient_descent(X, Y, lr,beta):\n",
    "    for i in range(n_iter):\n",
    "        \"\"\"\n",
    "        Z = beta.T.X = beta0 + beta1.x1\n",
    "        Y_hat = sigmoid(Z)\n",
    "        \"\"\"\n",
    "        z = X.dot(beta)\n",
    "        y_hat = sigmoid(z)\n",
    "\n",
    "        gradient = compute_gradients(X, Y, y_hat)\n",
    "\n",
    "        beta = beta - lr * gradient\n",
    "\n",
    "        cost = compute_cost(y_hat, Y)\n",
    "        cost_history.append(cost)\n",
    "\n",
    "        if i % 100 == 0:\n",
    "            print(f\"Iteration : {i}: Beta : {beta} :Cost : {cost:.4f}\")\n",
    "    return beta"
   ]
  },
  {
   "cell_type": "code",
   "execution_count": 425,
   "id": "e8938f37",
   "metadata": {},
   "outputs": [
    {
     "name": "stdout",
     "output_type": "stream",
     "text": [
      "Iteration : 0: Beta : [ 0.88756517 -0.23549884 -0.80431491  0.83978361 -0.73962422  0.37713194\n",
      "  0.53257761  0.12733507] :Cost : 1.0660\n",
      "Iteration : 100: Beta : [ 0.43482768 -0.29666005 -0.63972296  0.9427205  -0.68445909  0.33133297\n",
      "  0.47003329  0.16494587] :Cost : 0.8076\n",
      "Iteration : 200: Beta : [ 0.06000796 -0.33880919 -0.50181172  1.01559766 -0.63692809  0.29800278\n",
      "  0.41083109  0.18796117] :Cost : 0.6325\n",
      "Iteration : 300: Beta : [-0.24815225 -0.36646462 -0.38947238  1.06933966 -0.59690707  0.27305391\n",
      "  0.35858711  0.20105083] :Cost : 0.5154\n",
      "Iteration : 400: Beta : [-0.50251278 -0.38429562 -0.29840811  1.11305258 -0.5634329   0.25274295\n",
      "  0.31405576  0.20858399] :Cost : 0.4361\n",
      "Iteration : 500: Beta : [-0.71438703 -0.39577666 -0.22415606  1.15241921 -0.53536645  0.23474241\n",
      "  0.2766976   0.21331068] :Cost : 0.3812\n",
      "Iteration : 600: Beta : [-0.89287771 -0.40321463 -0.16297747  1.19044078 -0.51171367  0.2179036\n",
      "  0.24553179  0.21672528] :Cost : 0.3421\n",
      "Iteration : 700: Beta : [-1.04507274 -0.40807878 -0.11195136  1.22848394 -0.4916849   0.2017615\n",
      "  0.21952782  0.21959319] :Cost : 0.3134\n",
      "Iteration : 800: Beta : [-1.17642909 -0.41129225 -0.06885426  1.26703181 -0.47466343  0.18618245\n",
      "  0.19776256  0.22229208] :Cost : 0.2917\n",
      "Iteration : 900: Beta : [-1.29114119 -0.413435   -0.03200717  1.30613088 -0.46016272  0.17117081\n",
      "  0.17946427  0.22499875] :Cost : 0.2748\n"
     ]
    }
   ],
   "source": [
    "beta = logistic_gradient_descent(X, Y, lr,beta)"
   ]
  },
  {
   "cell_type": "markdown",
   "id": "01c55849",
   "metadata": {},
   "source": [
    "#### Cost Visualization"
   ]
  },
  {
   "cell_type": "code",
   "execution_count": 426,
   "id": "50d95ed7",
   "metadata": {},
   "outputs": [
    {
     "data": {
      "image/png": "[encoded data removed]",
      "text/plain": [
       "<Figure size 640x480 with 1 Axes>"
      ]
     },
     "metadata": {},
     "output_type": "display_data"
    }
   ],
   "source": [
    "plt.plot(cost_history)\n",
    "plt.title(\"Cost Variation\")\n",
    "plt.xlabel(\"iterations\")\n",
    "plt.ylabel(\"Cost\")\n",
    "plt.show()"
   ]
  },
  {
   "cell_type": "markdown",
   "id": "e4e354f6",
   "metadata": {},
   "source": [
    "#### Predict Probability"
   ]
  },
  {
   "cell_type": "code",
   "execution_count": 427,
   "id": "903e35de",
   "metadata": {},
   "outputs": [],
   "source": [
    "def predict_proba(X, beta):\n",
    "    z = X.dot(beta)\n",
    "    Y_proba = sigmoid(z)\n",
    "    return Y_proba"
   ]
  },
  {
   "cell_type": "code",
   "execution_count": 428,
   "id": "21c7a944",
   "metadata": {},
   "outputs": [
    {
     "data": {
      "text/plain": [
       "array([0.17095887, 0.64469709, 0.2341224 , 0.0477162 , 0.32134424,\n",
       "       0.83087541, 0.08916662, 0.34887362, 0.06296166, 0.11333777,\n",
       "       0.24872427, 0.10823023, 0.1210099 , 0.0776486 , 0.26060539,\n",
       "       0.0299587 , 0.90848412, 0.04741586, 0.10279132, 0.41991548,\n",
       "       0.30303562, 0.08488578, 0.05055465, 0.56036956, 0.69162409,\n",
       "       0.05643787, 0.1067676 , 0.07626092, 0.10014012, 0.02592478,\n",
       "       0.60750184, 0.05133666, 0.01211755, 0.37585963, 0.39580306,\n",
       "       0.27871509, 0.02892693, 0.08173179, 0.05142515, 0.3698382 ,\n",
       "       0.2634496 , 0.3140136 , 0.22469133, 0.48674657, 0.16367647,\n",
       "       0.32144239, 0.18909585, 0.07521559, 0.21599207, 0.10243653,\n",
       "       0.43404747, 0.06486886, 0.33282802, 0.73788522, 0.34529167,\n",
       "       0.88337053, 0.53682624, 0.17827196, 0.3630851 , 0.62968794,\n",
       "       0.04989016, 0.10218046, 0.11314505, 0.49106977, 0.11916787,\n",
       "       0.1496218 , 0.32527525, 0.12940033, 0.70684283, 0.06157593,\n",
       "       0.0139329 , 0.25567546])"
      ]
     },
     "execution_count": 428,
     "metadata": {},
     "output_type": "execute_result"
    }
   ],
   "source": [
    "Y_proba = predict_proba(X, beta)\n",
    "Y_proba"
   ]
  },
  {
   "cell_type": "markdown",
   "id": "e8680afb",
   "metadata": {},
   "source": [
    "####  Binary class predictions"
   ]
  },
  {
   "cell_type": "code",
   "execution_count": 429,
   "id": "0209aa37",
   "metadata": {},
   "outputs": [],
   "source": [
    "def predict_class(X, beta, threshold):\n",
    "    z = X.dot(beta)\n",
    "    Y_predicted = sigmoid(z)\n",
    "    return Y_predicted >= threshold"
   ]
  },
  {
   "cell_type": "code",
   "execution_count": 430,
   "id": "bf78a33f",
   "metadata": {},
   "outputs": [
    {
     "data": {
      "text/plain": [
       "array([False,  True, False, False, False,  True, False, False, False,\n",
       "       False, False, False, False, False, False, False,  True, False,\n",
       "       False, False, False, False, False,  True,  True, False, False,\n",
       "       False, False, False,  True, False, False, False, False, False,\n",
       "       False, False, False, False, False, False, False, False, False,\n",
       "       False, False, False, False, False, False, False, False,  True,\n",
       "       False,  True,  True, False, False,  True, False, False, False,\n",
       "       False, False, False, False, False,  True, False, False, False])"
      ]
     },
     "execution_count": 430,
     "metadata": {},
     "output_type": "execute_result"
    }
   ],
   "source": [
    "predict_class(X,beta,0.5)"
   ]
  }
 ],
 "metadata": {
  "kernelspec": {
   "display_name": "foml",
   "language": "python",
   "name": "python3"
  },
  "language_info": {
   "codemirror_mode": {
    "name": "ipython",
    "version": 3
   },
   "file_extension": ".py",
   "mimetype": "text/x-python",
   "name": "python",
   "nbconvert_exporter": "python",
   "pygments_lexer": "ipython3",
   "version": "3.11.13"
  }
 },
 "nbformat": 4,
 "nbformat_minor": 5
}
