{
 "cells": [
  {
   "cell_type": "code",
   "execution_count": 33,
   "id": "422bc8e4",
   "metadata": {},
   "outputs": [],
   "source": [
    "import numpy as np\n",
    "import pandas as pd\n",
    "import matplotlib.pyplot as plt\n",
    "from sklearn.preprocessing import PolynomialFeatures\n",
    "from sklearn.linear_model import LinearRegression"
   ]
  },
  {
   "cell_type": "markdown",
   "id": "241336d3",
   "metadata": {},
   "source": [
    "#### Data Loading"
   ]
  },
  {
   "cell_type": "code",
   "execution_count": 34,
   "id": "b43338f3",
   "metadata": {},
   "outputs": [
    {
     "data": {
      "text/html": [
       "<div>\n",
       "<style scoped>\n",
       "    .dataframe tbody tr th:only-of-type {\n",
       "        vertical-align: middle;\n",
       "    }\n",
       "\n",
       "    .dataframe tbody tr th {\n",
       "        vertical-align: top;\n",
       "    }\n",
       "\n",
       "    .dataframe thead th {\n",
       "        text-align: right;\n",
       "    }\n",
       "</style>\n",
       "<table border=\"1\" class=\"dataframe\">\n",
       "  <thead>\n",
       "    <tr style=\"text-align: right;\">\n",
       "      <th></th>\n",
       "      <th>MemberName</th>\n",
       "      <th>EducationLevel</th>\n",
       "      <th>Attendance</th>\n",
       "      <th>TotalHours</th>\n",
       "      <th>AssignmentsCompleted</th>\n",
       "      <th>HackathonParticipation</th>\n",
       "      <th>GitHubScore</th>\n",
       "      <th>PeerReviewScore</th>\n",
       "      <th>CourseName</th>\n",
       "      <th>CapstoneScore</th>\n",
       "    </tr>\n",
       "  </thead>\n",
       "  <tbody>\n",
       "    <tr>\n",
       "      <th>0</th>\n",
       "      <td>Theekshana Rathnayake</td>\n",
       "      <td>3</td>\n",
       "      <td>79.9</td>\n",
       "      <td>43.7</td>\n",
       "      <td>2</td>\n",
       "      <td>0</td>\n",
       "      <td>62.8</td>\n",
       "      <td>5.0</td>\n",
       "      <td>Foundations of ML</td>\n",
       "      <td>45.3</td>\n",
       "    </tr>\n",
       "    <tr>\n",
       "      <th>1</th>\n",
       "      <td>Mayura Sandakalum Sellapperuma</td>\n",
       "      <td>2</td>\n",
       "      <td>76.8</td>\n",
       "      <td>95.6</td>\n",
       "      <td>6</td>\n",
       "      <td>0</td>\n",
       "      <td>87.4</td>\n",
       "      <td>2.7</td>\n",
       "      <td>Foundations of ML</td>\n",
       "      <td>78.8</td>\n",
       "    </tr>\n",
       "    <tr>\n",
       "      <th>2</th>\n",
       "      <td>Amila Narangoda</td>\n",
       "      <td>3</td>\n",
       "      <td>96.6</td>\n",
       "      <td>75.9</td>\n",
       "      <td>8</td>\n",
       "      <td>0</td>\n",
       "      <td>98.4</td>\n",
       "      <td>2.8</td>\n",
       "      <td>Foundations of ML</td>\n",
       "      <td>65.4</td>\n",
       "    </tr>\n",
       "    <tr>\n",
       "      <th>4</th>\n",
       "      <td>Tharusha Vihanga</td>\n",
       "      <td>2</td>\n",
       "      <td>83.2</td>\n",
       "      <td>24.0</td>\n",
       "      <td>6</td>\n",
       "      <td>0</td>\n",
       "      <td>41.8</td>\n",
       "      <td>4.2</td>\n",
       "      <td>Foundations of ML</td>\n",
       "      <td>40.1</td>\n",
       "    </tr>\n",
       "    <tr>\n",
       "      <th>7</th>\n",
       "      <td>Chamath Perera</td>\n",
       "      <td>3</td>\n",
       "      <td>86.5</td>\n",
       "      <td>88.0</td>\n",
       "      <td>5</td>\n",
       "      <td>0</td>\n",
       "      <td>23.9</td>\n",
       "      <td>1.3</td>\n",
       "      <td>Foundations of ML</td>\n",
       "      <td>68.2</td>\n",
       "    </tr>\n",
       "  </tbody>\n",
       "</table>\n",
       "</div>"
      ],
      "text/plain": [
       "                       MemberName  EducationLevel  Attendance  TotalHours  \\\n",
       "0           Theekshana Rathnayake               3        79.9        43.7   \n",
       "1  Mayura Sandakalum Sellapperuma               2        76.8        95.6   \n",
       "2                 Amila Narangoda               3        96.6        75.9   \n",
       "4                Tharusha Vihanga               2        83.2        24.0   \n",
       "7                  Chamath Perera               3        86.5        88.0   \n",
       "\n",
       "   AssignmentsCompleted  HackathonParticipation  GitHubScore  PeerReviewScore  \\\n",
       "0                     2                       0         62.8              5.0   \n",
       "1                     6                       0         87.4              2.7   \n",
       "2                     8                       0         98.4              2.8   \n",
       "4                     6                       0         41.8              4.2   \n",
       "7                     5                       0         23.9              1.3   \n",
       "\n",
       "          CourseName  CapstoneScore  \n",
       "0  Foundations of ML           45.3  \n",
       "1  Foundations of ML           78.8  \n",
       "2  Foundations of ML           65.4  \n",
       "4  Foundations of ML           40.1  \n",
       "7  Foundations of ML           68.2  "
      ]
     },
     "execution_count": 34,
     "metadata": {},
     "output_type": "execute_result"
    }
   ],
   "source": [
    "df = pd.read_csv('../zuu crew scores.csv')\n",
    "df = df[df['CourseName']=='Foundations of ML']\n",
    "df.head()"
   ]
  },
  {
   "cell_type": "code",
   "execution_count": 35,
   "id": "1280ecdc",
   "metadata": {},
   "outputs": [
    {
     "data": {
      "text/plain": [
       "array([79.9, 76.8, 96.6, 83.2, 86.5, 76.6, 83.8, 90. , 68.4, 95.9, 68.2,\n",
       "       67.6, 61.5, 82.6, 78.1, 66.2, 94.5, 70.8, 66.2, 86.4, 68.9, 69.2,\n",
       "       64.2, 92. , 86.1, 94.2, 75.9, 68.2, 95.9, 60.5, 83.3, 95.7, 92.7,\n",
       "       70.4, 75.2, 83.6, 70.7, 71.8, 97.9, 79.5, 60.9, 70.7, 81.7, 85.3,\n",
       "       70.3, 65.6, 93.4, 99.4, 70.9, 60.7, 64.7, 83.1, 71. , 65.5, 95. ,\n",
       "       83.9, 67. , 96.6, 76.8, 63.3, 69.8, 75.6, 71.5, 82.7, 79. , 86.5,\n",
       "       97.5, 89.3, 68.6, 79.9, 83.9, 90.8])"
      ]
     },
     "execution_count": 35,
     "metadata": {},
     "output_type": "execute_result"
    }
   ],
   "source": [
    "X = df['Attendance'].values\n",
    "Y = df['CapstoneScore'].values\n",
    "X"
   ]
  },
  {
   "cell_type": "code",
   "execution_count": 36,
   "id": "9361fcab",
   "metadata": {},
   "outputs": [
    {
     "data": {
      "image/png": "[encoded data removed]",
      "text/plain": [
       "<Figure size 1000x600 with 1 Axes>"
      ]
     },
     "metadata": {},
     "output_type": "display_data"
    }
   ],
   "source": [
    "plt.figure(figsize=(10,6))\n",
    "plt.scatter(X,Y,color='red',s=50)\n",
    "plt.xlabel('Attendance')\n",
    "plt.ylabel('CapstoneScore')\n",
    "plt.title('Attendance vs Capstone Score')\n",
    "plt.show()"
   ]
  },
  {
   "cell_type": "code",
   "execution_count": 37,
   "id": "abaee896",
   "metadata": {},
   "outputs": [],
   "source": [
    "degree = 3"
   ]
  },
  {
   "cell_type": "markdown",
   "id": "7c582dac",
   "metadata": {},
   "source": [
    "#### Polynomial Feature "
   ]
  },
  {
   "cell_type": "code",
   "execution_count": 38,
   "id": "910b4f36",
   "metadata": {},
   "outputs": [],
   "source": [
    "n = len(X)\n",
    "\n",
    "X_scaled = (X - X.mean()) / X.std()\n",
    "\n",
    "# Polynomial features\n",
    "X_poly = np.ones((n, degree + 1))\n",
    "for i in range(1, degree + 1):\n",
    "    X_poly[:, i] = X_scaled**i\n"
   ]
  },
  {
   "cell_type": "markdown",
   "id": "57aeef06",
   "metadata": {},
   "source": [
    "#### Compute cost"
   ]
  },
  {
   "cell_type": "code",
   "execution_count": 39,
   "id": "49795366",
   "metadata": {},
   "outputs": [],
   "source": [
    "def compute_cost(X,beta,Y):\n",
    "    y_hat = X.dot(beta) \n",
    "    m = len(Y)\n",
    "    cost = (1 /(2 * m)) * np.sum((y_hat - Y)**2)\n",
    "    return cost"
   ]
  },
  {
   "cell_type": "markdown",
   "id": "ee6dddc8",
   "metadata": {},
   "source": [
    "#### Optimization"
   ]
  },
  {
   "cell_type": "code",
   "execution_count": 40,
   "id": "9d52c0a7",
   "metadata": {},
   "outputs": [],
   "source": [
    "cost_history=[]\n",
    "def gradient_descent(X,Y,beta,n_iter,lr):\n",
    "    m = len(Y)\n",
    "\n",
    "    for i in range(n_iter):\n",
    "        y_hat = X.dot(beta) \n",
    "        gradient = (1/m) * X.T.dot(y_hat - Y)\n",
    "        beta = beta - lr * gradient\n",
    "        cost  = compute_cost(X,beta,Y)\n",
    "        cost_history.append(cost)\n",
    "\n",
    "        if i % 100 == 0:\n",
    "            print(f\"iteration: {i}, beta:{beta}, cost:{cost}\")\n",
    "    \n",
    "    return beta\n"
   ]
  },
  {
   "cell_type": "code",
   "execution_count": null,
   "id": "ca0000e9",
   "metadata": {},
   "outputs": [],
   "source": [
    "# setting initial value for beta, numbe iterations and learning rate\n",
    "X_with_bias = X_poly\n",
    "beta = np.random.randn(degree + 1)\n",
    "n_iter = 10000\n",
    "lr = 0.01"
   ]
  },
  {
   "cell_type": "code",
   "execution_count": null,
   "id": "febb7068",
   "metadata": {},
   "outputs": [
    {
     "name": "stdout",
     "output_type": "stream",
     "text": [
      "iteration: 0, beta:[ 1.4230151  -0.69808708  0.90220696 -0.39772196], cost:1544.1806184075188\n",
      "iteration: 100, beta:[27.6958146  -1.16816001 14.33550725 -0.65588119], cost:361.71333702342935\n",
      "iteration: 200, beta:[37.36883848 -0.30735552 10.55025879 -1.051064  ], cost:249.85032834317795\n",
      "iteration: 300, beta:[43.54251937  0.62046179  6.60639244 -1.08225951], cost:194.92633693483643\n",
      "iteration: 400, beta:[47.9485771   1.36918471  3.63209309 -1.10090356], cost:165.90845997335018\n",
      "iteration: 500, beta:[51.14293772  1.959741    1.463956   -1.13297869], cost:150.5498252293842\n",
      "iteration: 600, beta:[53.46351602  2.427645   -0.1091327  -1.1745297 ], cost:142.4144568358212\n",
      "iteration: 700, beta:[55.14968304  2.80127735 -1.24927777 -1.22082835], cost:138.10053945069194\n",
      "iteration: 800, beta:[56.37483591  3.10207279 -2.07507099 -1.26853362], cost:135.8094749248144\n",
      "iteration: 900, beta:[57.26495084  3.3461788  -2.67273757 -1.31546213], cost:134.59004239959384\n",
      "iteration: 1000, beta:[57.91158566  3.54581421 -3.10491249 -1.36025582], cost:133.9389668625341\n",
      "iteration: 1100, beta:[58.38128553  3.71027921 -3.41708279 -1.40212863], cost:133.5898184175401\n",
      "iteration: 1200, beta:[58.72241535  3.84669873 -3.64227556 -1.44068465], cost:133.401433088391\n",
      "iteration: 1300, beta:[58.9701258   3.96056974 -3.80446558 -1.47578907], cost:133.29892765456376\n",
      "iteration: 1400, beta:[59.14996292  4.05616513 -3.92105169 -1.50747731], cost:133.24251094959783\n",
      "iteration: 1500, beta:[59.28049176  4.13683247 -4.00465634 -1.53589138], cost:133.2109874993923\n",
      "iteration: 1600, beta:[59.37520354  4.20521578 -4.06443321 -1.56123588], cost:133.19302831502995\n",
      "iteration: 1700, beta:[59.44390173  4.26342061 -4.10701732 -1.58374794], cost:133.1825487626339\n",
      "iteration: 1800, beta:[59.49370968  4.31313763 -4.13721529 -1.60367697], cost:133.17625887063295\n",
      "iteration: 1900, beta:[59.52980287  4.35573535 -4.15850676 -1.62127145], cost:133.17236329244926\n",
      "iteration: 2000, beta:[59.55594123  4.39233027 -4.17340865 -1.63677058], cost:133.16987008158267\n",
      "iteration: 2100, beta:[59.57485597  4.42384005 -4.18373966 -1.65039928], cost:133.16822218397783\n",
      "iteration: 2200, beta:[59.58853083  4.45102424 -4.19081234 -1.66236556], cost:133.1671002335413\n",
      "iteration: 2300, beta:[59.59840634  4.47451562 -4.19557257 -1.67285946], cost:133.16631645841957\n",
      "iteration: 2400, beta:[59.60552841  4.49484445 -4.19870069 -1.68205293], cost:133.16575718278435\n",
      "iteration: 2500, beta:[59.61065626  4.51245749 -4.20068502 -1.69010046], cost:133.16535135098985\n",
      "iteration: 2600, beta:[59.61434081  4.52773291 -4.20187503 -1.69714008], cost:133.16505306407177\n",
      "iteration: 2700, beta:[59.61698173  4.54099221 -4.20252    -1.70329454], cost:133.1648317197413\n",
      "iteration: 2800, beta:[59.61886884  4.5525097  -4.20279699 -1.70867261], cost:133.16466632168138\n",
      "iteration: 2900, beta:[59.62021217  4.56252018 -4.20283109 -1.71337041], cost:133.1645421071811\n",
      "iteration: 3000, beta:[59.62116387  4.57122523 -4.20271006 -1.71747265], cost:133.16444848742347\n",
      "iteration: 3100, beta:[59.62183407  4.57879827 -4.20249497 -1.72105388], cost:133.16437774800428\n",
      "iteration: 3200, beta:[59.62230243  4.58538883 -4.20222779 -1.72417956], cost:133.16432420180547\n",
      "iteration: 3300, beta:[59.62262646  4.59112606 -4.20193696 -1.72690714], cost:133.16428361939077\n",
      "iteration: 3400, beta:[59.6228477   4.59612169 -4.20164132 -1.72928695], cost:133.16425283530918\n",
      "iteration: 3500, beta:[59.62299605  4.60047247 -4.20135298 -1.73136307], cost:133.16422946959113\n",
      "iteration: 3600, beta:[59.62309302  4.60426229 -4.20107936 -1.73317406], cost:133.16421172702053\n",
      "iteration: 3700, beta:[59.62315402  4.60756397 -4.20082464 -1.73475363], cost:133.16419825035493\n",
      "iteration: 3800, beta:[59.6231901   4.61044071 -4.20059083 -1.73613125], cost:133.16418801181993\n",
      "iteration: 3900, beta:[59.62320913  4.61294746 -4.20037844 -1.73733267], cost:133.16418023225293\n",
      "iteration: 4000, beta:[59.62321667  4.61513199 -4.20018706 -1.73838037], cost:133.1641743204992\n",
      "iteration: 4100, beta:[59.62321669  4.61703585 -4.20001571 -1.73929398], cost:133.16416982779987\n",
      "iteration: 4200, beta:[59.62321192  4.6186952  -4.19986303 -1.74009063], cost:133.16416641336124\n",
      "iteration: 4300, beta:[59.6232043   4.62014151 -4.19972754 -1.74078528], cost:133.16416381831058\n",
      "iteration: 4400, beta:[59.62319512  4.62140219 -4.19960769 -1.74139097], cost:133.1641618459674\n",
      "iteration: 4500, beta:[59.6231853   4.62250109 -4.19950193 -1.74191907], cost:133.16416034688274\n",
      "iteration: 4600, beta:[59.62317539  4.62345901 -4.19940882 -1.74237953], cost:133.16415920748662\n",
      "iteration: 4700, beta:[59.62316579  4.62429404 -4.19932697 -1.742781  ], cost:133.164158341469\n",
      "iteration: 4800, beta:[59.62315671  4.62502198 -4.19925513 -1.74313103], cost:133.16415768323387\n",
      "iteration: 4900, beta:[59.62314829  4.62565656 -4.19919215 -1.74343622], cost:133.16415718292635\n",
      "iteration: 5000, beta:[59.62314057  4.62620977 -4.19913698 -1.74370229], cost:133.16415680265447\n",
      "iteration: 5100, beta:[59.62313357  4.62669204 -4.1990887  -1.74393427], cost:133.16415651361837\n",
      "iteration: 5200, beta:[59.62312728  4.62711248 -4.19904647 -1.74413653], cost:133.16415629392824\n",
      "iteration: 5300, beta:[59.62312164  4.62747901 -4.19900956 -1.74431286], cost:133.16415612694632\n",
      "iteration: 5400, beta:[59.62311663  4.62779855 -4.19897731 -1.7444666 ], cost:133.16415600002676\n",
      "iteration: 5500, beta:[59.62311218  4.62807713 -4.19894914 -1.74460063], cost:133.16415590355774\n",
      "iteration: 5600, beta:[59.62310824  4.62832    -4.19892454 -1.74471748], cost:133.16415583023354\n",
      "iteration: 5700, beta:[59.62310478  4.62853173 -4.19890306 -1.74481936], cost:133.16415577450127\n",
      "iteration: 5800, beta:[59.62310172  4.62871632 -4.19888432 -1.74490818], cost:133.16415573214024\n",
      "iteration: 5900, beta:[59.62309904  4.62887725 -4.19886797 -1.74498562], cost:133.16415569994243\n",
      "iteration: 6000, beta:[59.62309668  4.62901755 -4.1988537  -1.74505313], cost:133.16415567546952\n",
      "iteration: 6100, beta:[59.62309462  4.62913987 -4.19884126 -1.74511199], cost:133.16415565686813\n",
      "iteration: 6200, beta:[59.62309281  4.62924651 -4.1988304  -1.74516331], cost:133.16415564272958\n",
      "iteration: 6300, beta:[59.62309123  4.62933948 -4.19882093 -1.74520805], cost:133.16415563198314\n",
      "iteration: 6400, beta:[59.62308985  4.62942053 -4.19881267 -1.74524705], cost:133.16415562381496\n",
      "iteration: 6500, beta:[59.62308864  4.62949119 -4.19880547 -1.74528106], cost:133.1641556176065\n",
      "iteration: 6600, beta:[59.62308758  4.6295528  -4.19879919 -1.7453107 ], cost:133.16415561288758\n",
      "iteration: 6700, beta:[59.62308666  4.62960651 -4.19879371 -1.74533655], cost:133.1641556093008\n",
      "iteration: 6800, beta:[59.62308586  4.62965333 -4.19878894 -1.74535908], cost:133.16415560657455\n",
      "iteration: 6900, beta:[59.62308515  4.62969416 -4.19878478 -1.74537873], cost:133.16415560450238\n",
      "iteration: 7000, beta:[59.62308454  4.62972975 -4.19878114 -1.74539585], cost:133.16415560292742\n",
      "iteration: 7100, beta:[59.623084    4.62976078 -4.19877798 -1.74541079], cost:133.16415560173027\n",
      "iteration: 7200, beta:[59.62308354  4.62978783 -4.19877522 -1.74542381], cost:133.16415560082032\n",
      "iteration: 7300, beta:[59.62308313  4.62981141 -4.19877281 -1.74543516], cost:133.16415560012874\n",
      "iteration: 7400, beta:[59.62308277  4.62983198 -4.19877071 -1.74544505], cost:133.16415559960305\n",
      "iteration: 7500, beta:[59.62308246  4.6298499  -4.19876888 -1.74545368], cost:133.1641555992035\n",
      "iteration: 7600, beta:[59.62308219  4.62986553 -4.19876729 -1.7454612 ], cost:133.16415559889978\n",
      "iteration: 7700, beta:[59.62308196  4.62987916 -4.1987659  -1.74546775], cost:133.16415559866894\n",
      "iteration: 7800, beta:[59.62308175  4.62989103 -4.19876469 -1.74547347], cost:133.1641555984935\n",
      "iteration: 7900, beta:[59.62308157  4.62990139 -4.19876363 -1.74547846], cost:133.16415559836017\n",
      "iteration: 8000, beta:[59.62308142  4.62991042 -4.19876271 -1.7454828 ], cost:133.1641555982588\n",
      "iteration: 8100, beta:[59.62308128  4.62991829 -4.19876191 -1.74548659], cost:133.1641555981817\n",
      "iteration: 8200, beta:[59.62308116  4.62992515 -4.1987612  -1.74548989], cost:133.1641555981232\n",
      "iteration: 8300, beta:[59.62308106  4.62993114 -4.19876059 -1.74549277], cost:133.16415559807868\n",
      "iteration: 8400, beta:[59.62308097  4.62993635 -4.19876006 -1.74549528], cost:133.16415559804483\n",
      "iteration: 8500, beta:[59.62308089  4.6299409  -4.1987596  -1.74549747], cost:133.16415559801914\n",
      "iteration: 8600, beta:[59.62308082  4.62994487 -4.19875919 -1.74549938], cost:133.16415559799958\n",
      "iteration: 8700, beta:[59.62308076  4.62994832 -4.19875884 -1.74550104], cost:133.16415559798472\n",
      "iteration: 8800, beta:[59.62308071  4.62995134 -4.19875853 -1.74550249], cost:133.16415559797343\n",
      "iteration: 8900, beta:[59.62308066  4.62995396 -4.19875826 -1.74550375], cost:133.16415559796482\n",
      "iteration: 9000, beta:[59.62308062  4.62995625 -4.19875803 -1.74550486], cost:133.16415559795834\n",
      "iteration: 9100, beta:[59.62308059  4.62995825 -4.19875783 -1.74550582], cost:133.16415559795334\n",
      "iteration: 9200, beta:[59.62308056  4.62995999 -4.19875765 -1.74550666], cost:133.1641555979496\n",
      "iteration: 9300, beta:[59.62308053  4.62996151 -4.19875749 -1.74550739], cost:133.16415559794672\n",
      "iteration: 9400, beta:[59.62308051  4.62996283 -4.19875736 -1.74550802], cost:133.16415559794456\n",
      "iteration: 9500, beta:[59.62308049  4.62996399 -4.19875724 -1.74550858], cost:133.1641555979429\n",
      "iteration: 9600, beta:[59.62308047  4.62996499 -4.19875714 -1.74550906], cost:133.16415559794166\n",
      "iteration: 9700, beta:[59.62308046  4.62996587 -4.19875705 -1.74550948], cost:133.1641555979407\n",
      "iteration: 9800, beta:[59.62308044  4.62996663 -4.19875697 -1.74550985], cost:133.16415559793995\n",
      "iteration: 9900, beta:[59.62308043  4.6299673  -4.1987569  -1.74551017], cost:133.1641555979394\n"
     ]
    }
   ],
   "source": [
    "# getting updated beta values\n",
    "beta = gradient_descent(X_with_bias,Y,beta,n_iter,lr)"
   ]
  },
  {
   "cell_type": "markdown",
   "id": "d1fc0a7a",
   "metadata": {},
   "source": [
    "#### Analyze Cost"
   ]
  },
  {
   "cell_type": "code",
   "execution_count": 43,
   "id": "565a64ce",
   "metadata": {},
   "outputs": [
    {
     "data": {
      "image/png": "[encoded data removed]",
      "text/plain": [
       "<Figure size 640x480 with 1 Axes>"
      ]
     },
     "metadata": {},
     "output_type": "display_data"
    }
   ],
   "source": [
    "\n",
    "plt.plot(cost_history)\n",
    "plt.xlabel('Iteration')\n",
    "plt.ylabel('Cost')\n",
    "plt.title('Cost over iterations')\n",
    "plt.show()"
   ]
  },
  {
   "cell_type": "markdown",
   "id": "af46d879",
   "metadata": {},
   "source": [
    "#### Predict Function"
   ]
  },
  {
   "cell_type": "code",
   "execution_count": 44,
   "id": "6be90c03",
   "metadata": {},
   "outputs": [],
   "source": [
    "def predict(X,beta,degree):\n",
    "    n = len(X)\n",
    "\n",
    "    X_scaled = (X - X.mean()) / X.std()\n",
    "\n",
    "    # Polynomial features\n",
    "    X_poly = np.ones((n, degree + 1))\n",
    "    for i in range(1, degree + 1):\n",
    "        X_poly[:, i] = X_scaled**i\n",
    "    return X_poly.dot(beta)"
   ]
  },
  {
   "cell_type": "code",
   "execution_count": 45,
   "id": "4f565b62",
   "metadata": {},
   "outputs": [
    {
     "data": {
      "image/png": "[encoded data removed]",
      "text/plain": [
       "<Figure size 1000x600 with 1 Axes>"
      ]
     },
     "metadata": {},
     "output_type": "display_data"
    }
   ],
   "source": [
    "plt.figure(figsize=(10,6))\n",
    "plt.scatter(X, Y, color='red', s=50, label='Original data')\n",
    "\n",
    "X_line = np.linspace(min(X), max(X), 200)\n",
    "Y_line = predict(X_line, beta, degree)\n",
    "\n",
    "plt.plot(X_line, Y_line, color='blue', label='Polynomial fit')\n",
    "plt.xlabel('Attendance')\n",
    "plt.ylabel('Capstone Score')\n",
    "plt.title('Polynomial Regression Fit (Degree 2)')\n",
    "plt.legend()\n",
    "plt.show()"
   ]
  },
  {
   "cell_type": "markdown",
   "id": "cad2de5b",
   "metadata": {},
   "source": [
    "#### Model Evaluation"
   ]
  },
  {
   "cell_type": "code",
   "execution_count": 46,
   "id": "5f2efb7d",
   "metadata": {},
   "outputs": [
    {
     "data": {
      "text/plain": [
       "array([60.0221581 , 58.64848581, 49.39854141, 60.68643866, 60.26410098,\n",
       "       58.54036018, 60.69835783, 58.32877035, 53.06053299, 50.72131267,\n",
       "       52.91938139, 52.49917596, 48.85570376, 60.63859822, 59.29806457,\n",
       "       51.54533911, 53.08294925, 54.77167355, 51.54533911, 60.29545998,\n",
       "       53.41521347, 53.62895754, 50.2813644 , 56.41460641, 60.38214234,\n",
       "       53.54129282, 58.14645032, 52.91938139, 50.72131267, 48.43584677,\n",
       "       60.6909634 , 51.08159575, 55.59115082, 54.48645929, 57.73043265,\n",
       "       60.69847587, 54.70045519, 55.47881092, 46.67986044, 59.8807306 ,\n",
       "       48.59578499, 54.70045519, 60.50302333, 60.56038581, 54.41503867,\n",
       "       51.15186393, 54.68394517, 43.10117329, 54.84282262, 48.51444185,\n",
       "       50.58376319, 60.6809161 , 54.91389492, 51.08736139, 52.28206403,\n",
       "       60.69673845, 52.08510259, 49.39854141, 58.64848581, 49.76444628,\n",
       "       54.05760768, 57.97071435, 55.26784274, 60.64899752, 59.68778545,\n",
       "       60.26410098, 47.55338809, 58.85324932, 53.20212631, 60.0221581 ,\n",
       "       60.69673845, 57.63879573])"
      ]
     },
     "execution_count": 46,
     "metadata": {},
     "output_type": "execute_result"
    }
   ],
   "source": [
    "Y_hat = predict(X, beta, degree)\n",
    "Y_hat"
   ]
  },
  {
   "cell_type": "code",
   "execution_count": 47,
   "id": "5d6c6ee4",
   "metadata": {},
   "outputs": [],
   "source": [
    "def MSE(Y,Y_hat):\n",
    "    e_i = Y - Y_hat\n",
    "    return np.mean(e_i**2)\n",
    "\n",
    "def MAE(Y,Y_hat):\n",
    "    e_i = Y - Y_hat\n",
    "    return np.mean(np.abs(e_i))\n",
    "\n",
    "def R2_Score(Y,Y_hat):\n",
    "    y_mean = np.mean(Y)\n",
    "    e_i = Y - Y_hat\n",
    "    std_i = Y - y_mean\n",
    "\n",
    "    E = np.sum(e_i**2) / np.sum(std_i ** 2)\n",
    "    return 1 - E\n",
    "\n",
    "def RMSE(Y,Y_hat):\n",
    "    e_i = Y - Y_hat\n",
    "    return np.sqrt(np.mean((Y - Y_hat) ** 2))"
   ]
  },
  {
   "cell_type": "code",
   "execution_count": 48,
   "id": "d4130232",
   "metadata": {},
   "outputs": [
    {
     "name": "stdout",
     "output_type": "stream",
     "text": [
      "MSE : 266.32831119587803\n",
      "MAE : 13.831030936021104\n",
      "R2 Score : 0.06789832501421345\n",
      "RMSE : 16.319568352008517\n"
     ]
    }
   ],
   "source": [
    "mse = MSE(Y, Y_hat)\n",
    "mae = MAE(Y, Y_hat)\n",
    "r2 = R2_Score(Y, Y_hat)\n",
    "rmse = RMSE(Y,Y_hat)\n",
    "\n",
    "print(f\"MSE : {mse}\")\n",
    "print(f\"MAE : {mae}\")\n",
    "print(f\"R2 Score : {r2}\")\n",
    "print(f\"RMSE : {rmse}\")"
   ]
  }
 ],
 "metadata": {
  "kernelspec": {
   "display_name": "foml",
   "language": "python",
   "name": "python3"
  },
  "language_info": {
   "codemirror_mode": {
    "name": "ipython",
    "version": 3
   },
   "file_extension": ".py",
   "mimetype": "text/x-python",
   "name": "python",
   "nbconvert_exporter": "python",
   "pygments_lexer": "ipython3",
   "version": "3.11.13"
  }
 },
 "nbformat": 4,
 "nbformat_minor": 5
}
