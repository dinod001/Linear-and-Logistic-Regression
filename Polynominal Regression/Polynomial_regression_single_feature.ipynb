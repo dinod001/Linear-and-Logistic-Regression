{
 "cells": [
  {
   "cell_type": "code",
   "execution_count": 1,
   "id": "422bc8e4",
   "metadata": {},
   "outputs": [],
   "source": [
    "import numpy as np\n",
    "import pandas as pd\n",
    "import matplotlib.pyplot as plt\n",
    "from sklearn.preprocessing import PolynomialFeatures\n",
    "from sklearn.linear_model import LinearRegression"
   ]
  },
  {
   "cell_type": "markdown",
   "id": "241336d3",
   "metadata": {},
   "source": [
    "#### Data Loading"
   ]
  },
  {
   "cell_type": "code",
   "execution_count": 2,
   "id": "b43338f3",
   "metadata": {},
   "outputs": [
    {
     "data": {
      "text/html": [
       "<div>\n",
       "<style scoped>\n",
       "    .dataframe tbody tr th:only-of-type {\n",
       "        vertical-align: middle;\n",
       "    }\n",
       "\n",
       "    .dataframe tbody tr th {\n",
       "        vertical-align: top;\n",
       "    }\n",
       "\n",
       "    .dataframe thead th {\n",
       "        text-align: right;\n",
       "    }\n",
       "</style>\n",
       "<table border=\"1\" class=\"dataframe\">\n",
       "  <thead>\n",
       "    <tr style=\"text-align: right;\">\n",
       "      <th></th>\n",
       "      <th>MemberName</th>\n",
       "      <th>EducationLevel</th>\n",
       "      <th>Attendance</th>\n",
       "      <th>TotalHours</th>\n",
       "      <th>AssignmentsCompleted</th>\n",
       "      <th>HackathonParticipation</th>\n",
       "      <th>GitHubScore</th>\n",
       "      <th>PeerReviewScore</th>\n",
       "      <th>CourseName</th>\n",
       "      <th>CapstoneScore</th>\n",
       "    </tr>\n",
       "  </thead>\n",
       "  <tbody>\n",
       "    <tr>\n",
       "      <th>0</th>\n",
       "      <td>Theekshana Rathnayake</td>\n",
       "      <td>3</td>\n",
       "      <td>79.9</td>\n",
       "      <td>43.7</td>\n",
       "      <td>2</td>\n",
       "      <td>0</td>\n",
       "      <td>62.8</td>\n",
       "      <td>5.0</td>\n",
       "      <td>Foundations of ML</td>\n",
       "      <td>45.3</td>\n",
       "    </tr>\n",
       "    <tr>\n",
       "      <th>1</th>\n",
       "      <td>Mayura Sandakalum Sellapperuma</td>\n",
       "      <td>2</td>\n",
       "      <td>76.8</td>\n",
       "      <td>95.6</td>\n",
       "      <td>6</td>\n",
       "      <td>0</td>\n",
       "      <td>87.4</td>\n",
       "      <td>2.7</td>\n",
       "      <td>Foundations of ML</td>\n",
       "      <td>78.8</td>\n",
       "    </tr>\n",
       "    <tr>\n",
       "      <th>2</th>\n",
       "      <td>Amila Narangoda</td>\n",
       "      <td>3</td>\n",
       "      <td>96.6</td>\n",
       "      <td>75.9</td>\n",
       "      <td>8</td>\n",
       "      <td>0</td>\n",
       "      <td>98.4</td>\n",
       "      <td>2.8</td>\n",
       "      <td>Foundations of ML</td>\n",
       "      <td>65.4</td>\n",
       "    </tr>\n",
       "    <tr>\n",
       "      <th>4</th>\n",
       "      <td>Tharusha Vihanga</td>\n",
       "      <td>2</td>\n",
       "      <td>83.2</td>\n",
       "      <td>24.0</td>\n",
       "      <td>6</td>\n",
       "      <td>0</td>\n",
       "      <td>41.8</td>\n",
       "      <td>4.2</td>\n",
       "      <td>Foundations of ML</td>\n",
       "      <td>40.1</td>\n",
       "    </tr>\n",
       "    <tr>\n",
       "      <th>7</th>\n",
       "      <td>Chamath Perera</td>\n",
       "      <td>3</td>\n",
       "      <td>86.5</td>\n",
       "      <td>88.0</td>\n",
       "      <td>5</td>\n",
       "      <td>0</td>\n",
       "      <td>23.9</td>\n",
       "      <td>1.3</td>\n",
       "      <td>Foundations of ML</td>\n",
       "      <td>68.2</td>\n",
       "    </tr>\n",
       "  </tbody>\n",
       "</table>\n",
       "</div>"
      ],
      "text/plain": [
       "                       MemberName  EducationLevel  Attendance  TotalHours  \\\n",
       "0           Theekshana Rathnayake               3        79.9        43.7   \n",
       "1  Mayura Sandakalum Sellapperuma               2        76.8        95.6   \n",
       "2                 Amila Narangoda               3        96.6        75.9   \n",
       "4                Tharusha Vihanga               2        83.2        24.0   \n",
       "7                  Chamath Perera               3        86.5        88.0   \n",
       "\n",
       "   AssignmentsCompleted  HackathonParticipation  GitHubScore  PeerReviewScore  \\\n",
       "0                     2                       0         62.8              5.0   \n",
       "1                     6                       0         87.4              2.7   \n",
       "2                     8                       0         98.4              2.8   \n",
       "4                     6                       0         41.8              4.2   \n",
       "7                     5                       0         23.9              1.3   \n",
       "\n",
       "          CourseName  CapstoneScore  \n",
       "0  Foundations of ML           45.3  \n",
       "1  Foundations of ML           78.8  \n",
       "2  Foundations of ML           65.4  \n",
       "4  Foundations of ML           40.1  \n",
       "7  Foundations of ML           68.2  "
      ]
     },
     "execution_count": 2,
     "metadata": {},
     "output_type": "execute_result"
    }
   ],
   "source": [
    "df = pd.read_csv('../zuu crew scores.csv')\n",
    "df = df[df['CourseName']=='Foundations of ML']\n",
    "df.head()"
   ]
  },
  {
   "cell_type": "code",
   "execution_count": 3,
   "id": "1280ecdc",
   "metadata": {},
   "outputs": [
    {
     "data": {
      "text/plain": [
       "array([79.9, 76.8, 96.6, 83.2, 86.5, 76.6, 83.8, 90. , 68.4, 95.9, 68.2,\n",
       "       67.6, 61.5, 82.6, 78.1, 66.2, 94.5, 70.8, 66.2, 86.4, 68.9, 69.2,\n",
       "       64.2, 92. , 86.1, 94.2, 75.9, 68.2, 95.9, 60.5, 83.3, 95.7, 92.7,\n",
       "       70.4, 75.2, 83.6, 70.7, 71.8, 97.9, 79.5, 60.9, 70.7, 81.7, 85.3,\n",
       "       70.3, 65.6, 93.4, 99.4, 70.9, 60.7, 64.7, 83.1, 71. , 65.5, 95. ,\n",
       "       83.9, 67. , 96.6, 76.8, 63.3, 69.8, 75.6, 71.5, 82.7, 79. , 86.5,\n",
       "       97.5, 89.3, 68.6, 79.9, 83.9, 90.8])"
      ]
     },
     "execution_count": 3,
     "metadata": {},
     "output_type": "execute_result"
    }
   ],
   "source": [
    "X = df['Attendance'].values\n",
    "Y = df['CapstoneScore'].values\n",
    "X"
   ]
  },
  {
   "cell_type": "code",
   "execution_count": 4,
   "id": "9361fcab",
   "metadata": {},
   "outputs": [
    {
     "data": {
      "image/png": "[encoded data removed]",
      "text/plain": [
       "<Figure size 1000x600 with 1 Axes>"
      ]
     },
     "metadata": {},
     "output_type": "display_data"
    }
   ],
   "source": [
    "plt.figure(figsize=(10,6))\n",
    "plt.scatter(X,Y,color='red',s=50)\n",
    "plt.xlabel('Attendance')\n",
    "plt.ylabel('CapstoneScore')\n",
    "plt.title('Attendance vs Capstone Score')\n",
    "plt.show()"
   ]
  },
  {
   "cell_type": "code",
   "execution_count": 5,
   "id": "abaee896",
   "metadata": {},
   "outputs": [],
   "source": [
    "degree = 3"
   ]
  },
  {
   "cell_type": "markdown",
   "id": "7c582dac",
   "metadata": {},
   "source": [
    "#### Polynomial Feature "
   ]
  },
  {
   "cell_type": "code",
   "execution_count": 6,
   "id": "910b4f36",
   "metadata": {},
   "outputs": [],
   "source": [
    "n = len(X)\n",
    "\n",
    "X_scaled = (X - X.mean()) / X.std()\n",
    "\n",
    "# Polynomial features\n",
    "X_poly = np.ones((n, degree + 1))\n",
    "for i in range(1, degree + 1):\n",
    "    X_poly[:, i] = X_scaled**i\n"
   ]
  },
  {
   "cell_type": "markdown",
   "id": "57aeef06",
   "metadata": {},
   "source": [
    "#### Compute cost"
   ]
  },
  {
   "cell_type": "code",
   "execution_count": 7,
   "id": "49795366",
   "metadata": {},
   "outputs": [],
   "source": [
    "def compute_cost(X,beta,Y):\n",
    "    y_hat = X.dot(beta) \n",
    "    m = len(Y)\n",
    "    cost = (1 /(2 * m)) * np.sum((y_hat - Y)**2)\n",
    "    return cost"
   ]
  },
  {
   "cell_type": "markdown",
   "id": "ee6dddc8",
   "metadata": {},
   "source": [
    "#### Optimization"
   ]
  },
  {
   "cell_type": "code",
   "execution_count": 8,
   "id": "9d52c0a7",
   "metadata": {},
   "outputs": [],
   "source": [
    "cost_history=[]\n",
    "def gradient_descent(X,Y,beta,n_iter,lr):\n",
    "    m = len(Y)\n",
    "\n",
    "    for i in range(n_iter):\n",
    "        y_hat = X.dot(beta) \n",
    "        gradient = (1/m) * X.T.dot(y_hat - Y)\n",
    "        beta = beta - lr * gradient\n",
    "        cost  = compute_cost(X,beta,Y)\n",
    "        cost_history.append(cost)\n",
    "\n",
    "        if i % 100 == 0:\n",
    "            print(f\"iteration: {i}, beta:{beta}, cost:{cost}\")\n",
    "    \n",
    "    return beta\n"
   ]
  },
  {
   "cell_type": "code",
   "execution_count": 9,
   "id": "ca0000e9",
   "metadata": {},
   "outputs": [],
   "source": [
    "X_with_bias = X_poly\n",
    "beta = np.random.randn(degree + 1)\n",
    "n_iter = 10000\n",
    "lr = 0.01"
   ]
  },
  {
   "cell_type": "code",
   "execution_count": 10,
   "id": "febb7068",
   "metadata": {},
   "outputs": [
    {
     "name": "stdout",
     "output_type": "stream",
     "text": [
      "iteration: 0, beta:[ 0.59700956  0.43473948 -0.00858448 -1.04691216], cost:1639.781470803598\n",
      "iteration: 100, beta:[27.56206282 -0.1957885  14.37617999 -1.0976309 ], cost:362.7592524401162\n",
      "iteration: 200, beta:[37.31095551  0.52680057 10.65247591 -1.45237262], cost:249.91857359306792\n",
      "iteration: 300, beta:[43.50227187  1.34683035  6.69854833 -1.43366273], cost:194.88299773705924\n",
      "iteration: 400, beta:[47.91786116  2.00271655  3.71038214 -1.40730919], cost:165.8277830596895\n",
      "iteration: 500, beta:[51.11904925  2.51234803  1.53031436 -1.40004088], cost:150.46330483866308\n",
      "iteration: 600, beta:[ 5.34447633e+01  2.90963192e+00 -5.26959717e-02 -1.40730085e+00], cost:142.3353798006199\n",
      "iteration: 700, beta:[55.13483887  3.2216393  -1.20110779 -1.42371934], cost:138.03339943796627\n",
      "iteration: 800, beta:[56.36298805  3.46866672 -2.03382638 -1.44538649], cost:135.75472592972966\n",
      "iteration: 900, beta:[57.25541653  3.66586595 -2.63732555 -1.46962324], cost:134.54646468418457\n",
      "iteration: 1000, beta:[57.90385126  3.82458469 -3.07443633 -1.49464017], cost:133.90480651977677\n",
      "iteration: 1100, beta:[58.37496251  3.95336138 -3.39080143 -1.51927582], cost:133.5633054715897\n",
      "iteration: 1200, beta:[58.7172081   4.05865522 -3.61957253 -1.54280747], cost:133.38099138600126\n",
      "iteration: 1300, beta:[58.96580793  4.14538155 -3.78482495 -1.56481576], cost:133.28323722778518\n",
      "iteration: 1400, beta:[59.14635981  4.21730532 -3.9040393  -1.58508826], cost:133.23050407330717\n",
      "iteration: 1500, beta:[59.27746774  4.27733065 -3.98990505 -1.60355111], cost:133.2018185662331\n",
      "iteration: 1600, beta:[59.37265236  4.32771444 -4.05163121 -1.62022085], cost:133.18603660392068\n",
      "iteration: 1700, beta:[59.44173951  4.37022445 -4.09589877 -1.63517071], cost:133.17722256608639\n",
      "iteration: 1800, beta:[59.49186964  4.40625659 -4.12755279 -1.64850733], cost:133.17220422683866\n",
      "iteration: 1900, beta:[59.52823141  4.43692223 -4.15010523 -1.66035475], cost:133.16927810469835\n",
      "iteration: 2000, beta:[59.55459499  4.46311354 -4.16610032 -1.67084371], cost:133.16752332971345\n",
      "iteration: 2100, beta:[59.57369958  4.48555251 -4.17737995 -1.6801046 ], cost:133.1664375330884\n",
      "iteration: 2200, beta:[59.58753523  4.50482806 -4.18527642 -1.68826307], cost:133.16574326338105\n",
      "iteration: 2300, beta:[59.59754749  4.52142412 -4.19075249 -1.6954373 ], cost:133.16528479189174\n",
      "iteration: 2400, beta:[59.60478629  4.53574119 -4.19450299 -1.70173668], cost:133.16497289573286\n",
      "iteration: 2500, beta:[59.61001409  4.54811282 -4.19702866 -1.70726112], cost:133.16475515701478\n",
      "iteration: 2600, beta:[59.61378446  4.55881852 -4.19868973 -1.71210109], cost:133.16459987020855\n",
      "iteration: 2700, beta:[59.61649924  4.56809371 -4.19974473 -1.71633786], cost:133.16448723557298\n",
      "iteration: 2800, beta:[59.61845004  4.57613768 -4.20037871 -1.72004406], cost:133.1644044752034\n",
      "iteration: 2900, beta:[59.6198484   4.58311982 -4.2007237  -1.7232843 ], cost:133.16434307706373\n",
      "iteration: 3000, beta:[59.62084771  4.58918463 -4.20087346 -1.72611581], cost:133.16429720547714\n",
      "iteration: 3100, beta:[59.62155915  4.59445581 -4.20089426 -1.72858919], cost:133.16426275993152\n",
      "iteration: 3200, beta:[59.62206326  4.59903953 -4.20083261 -1.73074902], cost:133.16423680075124\n",
      "iteration: 3300, beta:[59.62241833  4.60302714 -4.20072086 -1.73263456], cost:133.1642171870914\n",
      "iteration: 3400, beta:[59.62266652  4.60649739 -4.20058128 -1.73428026], cost:133.16420234116447\n",
      "iteration: 3500, beta:[59.62283829  4.6095183  -4.20042894 -1.73571636], cost:133.1641910898407\n",
      "iteration: 3600, beta:[59.62295562  4.6121487  -4.20027386 -1.73696936], cost:133.164182555246\n",
      "iteration: 3700, beta:[59.62303434  4.61443955 -4.20012246 -1.73806247], cost:133.16417607741624\n",
      "iteration: 3800, beta:[59.62308584  4.61643503 -4.1999787  -1.73901598], cost:133.16417115857791\n",
      "iteration: 3900, beta:[59.62311828  4.61817347 -4.19984481 -1.73984765], cost:133.16416742241847\n",
      "iteration: 4000, beta:[59.62313751  4.61968817 -4.19972186 -1.740573  ], cost:133.16416458398555\n",
      "iteration: 4100, beta:[59.6231477   4.62100805 -4.19961015 -1.74120557], cost:133.16416242726058\n",
      "iteration: 4200, beta:[59.6231518   4.62215827 -4.19950947 -1.74175721], cost:133.16416078835235\n",
      "iteration: 4300, beta:[59.62315189  4.62316071 -4.19941931 -1.74223824], cost:133.16415954284886\n",
      "iteration: 4400, beta:[59.62314945  4.6240344  -4.19933897 -1.74265769], cost:133.16415859627085\n",
      "iteration: 4500, beta:[59.62314548  4.62479592 -4.19926766 -1.74302344], cost:133.1641578768507\n",
      "iteration: 4600, beta:[59.62314069  4.6254597  -4.19920458 -1.74334235], cost:133.1641573300627\n",
      "iteration: 4700, beta:[59.62313554  4.6260383  -4.19914891 -1.74362041], cost:133.16415691447517\n",
      "iteration: 4800, beta:[59.62313034  4.62654267 -4.1990999  -1.74386285], cost:133.1641565986033\n",
      "iteration: 4900, beta:[59.6231253   4.62698234 -4.19905681 -1.74407423], cost:133.1641563585195\n",
      "iteration: 5000, beta:[59.62312053  4.62736561 -4.199019   -1.74425853], cost:133.16415617603872\n",
      "iteration: 5100, beta:[59.6231161   4.62769974 -4.19898584 -1.74441922], cost:133.1641560373398\n",
      "iteration: 5200, beta:[59.62311205  4.62799101 -4.1989568  -1.74455931], cost:133.16415593191803\n",
      "iteration: 5300, beta:[59.62310836  4.62824494 -4.19893138 -1.74468146], cost:133.16415585178933\n",
      "iteration: 5400, beta:[59.62310505  4.62846631 -4.19890914 -1.74478795], cost:133.16415579088525\n",
      "iteration: 5500, beta:[59.62310209  4.6286593  -4.19888971 -1.74488079], cost:133.1641557445933\n",
      "iteration: 5600, beta:[59.62309945  4.62882755 -4.19887273 -1.74496174], cost:133.16415570940774\n",
      "iteration: 5700, beta:[59.62309711  4.62897423 -4.1988579  -1.74503231], cost:133.1641556826639\n",
      "iteration: 5800, beta:[59.62309504  4.6291021  -4.19884495 -1.74509384], cost:133.1641556623364\n",
      "iteration: 5900, beta:[59.62309321  4.62921358 -4.19883364 -1.74514748], cost:133.16415564688592\n",
      "iteration: 6000, beta:[59.6230916   4.62931078 -4.19882377 -1.74519424], cost:133.16415563514227\n",
      "iteration: 6100, beta:[59.62309019  4.62939551 -4.19881516 -1.74523502], cost:133.16415562621617\n",
      "iteration: 6200, beta:[59.62308895  4.62946938 -4.19880765 -1.74527056], cost:133.1641556194316\n",
      "iteration: 6300, beta:[59.62308786  4.62953378 -4.1988011  -1.74530155], cost:133.1641556142748\n",
      "iteration: 6400, beta:[59.62308691  4.62958993 -4.19879538 -1.74532857], cost:133.1641556103552\n",
      "iteration: 6500, beta:[59.62308608  4.62963888 -4.1987904  -1.74535213], cost:133.16415560737602\n",
      "iteration: 6600, beta:[59.62308535  4.62968156 -4.19878605 -1.74537267], cost:133.16415560511157\n",
      "iteration: 6700, beta:[59.62308472  4.62971876 -4.19878226 -1.74539057], cost:133.16415560339038\n",
      "iteration: 6800, beta:[59.62308416  4.6297512  -4.19877895 -1.74540618], cost:133.1641556020822\n",
      "iteration: 6900, beta:[59.62308367  4.62977948 -4.19877607 -1.74541979], cost:133.1641556010878\n",
      "iteration: 7000, beta:[59.62308325  4.62980414 -4.19877355 -1.74543165], cost:133.16415560033207\n",
      "iteration: 7100, beta:[59.62308288  4.62982563 -4.19877136 -1.745442  ], cost:133.16415559975758\n",
      "iteration: 7200, beta:[59.62308256  4.62984437 -4.19876945 -1.74545101], cost:133.16415559932096\n",
      "iteration: 7300, beta:[59.62308227  4.62986071 -4.19876778 -1.74545888], cost:133.16415559898908\n",
      "iteration: 7400, beta:[59.62308203  4.62987495 -4.19876633 -1.74546573], cost:133.1641555987368\n",
      "iteration: 7500, beta:[59.62308181  4.62988737 -4.19876506 -1.74547171], cost:133.16415559854505\n",
      "iteration: 7600, beta:[59.62308163  4.6298982  -4.19876396 -1.74547692], cost:133.16415559839936\n",
      "iteration: 7700, beta:[59.62308146  4.62990763 -4.19876299 -1.74548146], cost:133.16415559828857\n",
      "iteration: 7800, beta:[59.62308132  4.62991586 -4.19876215 -1.74548542], cost:133.16415559820442\n",
      "iteration: 7900, beta:[59.6230812   4.62992304 -4.19876142 -1.74548887], cost:133.16415559814038\n",
      "iteration: 8000, beta:[59.62308109  4.62992929 -4.19876078 -1.74549188], cost:133.16415559809172\n",
      "iteration: 8100, beta:[59.62308099  4.62993474 -4.19876023 -1.74549451], cost:133.1641555980548\n",
      "iteration: 8200, beta:[59.62308091  4.6299395  -4.19875974 -1.74549679], cost:133.16415559802664\n",
      "iteration: 8300, beta:[59.62308084  4.62994364 -4.19875932 -1.74549879], cost:133.16415559800532\n",
      "iteration: 8400, beta:[59.62308078  4.62994726 -4.19875895 -1.74550053], cost:133.16415559798912\n",
      "iteration: 8500, beta:[59.62308072  4.62995041 -4.19875863 -1.74550204], cost:133.16415559797676\n",
      "iteration: 8600, beta:[59.62308068  4.62995315 -4.19875835 -1.74550336], cost:133.16415559796738\n",
      "iteration: 8700, beta:[59.62308063  4.62995555 -4.1987581  -1.74550452], cost:133.16415559796025\n",
      "iteration: 8800, beta:[59.6230806   4.62995763 -4.19875789 -1.74550552], cost:133.16415559795485\n",
      "iteration: 8900, beta:[59.62308057  4.62995945 -4.1987577  -1.7455064 ], cost:133.1641555979507\n",
      "iteration: 9000, beta:[59.62308054  4.62996104 -4.19875754 -1.74550716], cost:133.16415559794757\n",
      "iteration: 9100, beta:[59.62308052  4.62996242 -4.1987574  -1.74550783], cost:133.1641555979452\n",
      "iteration: 9200, beta:[59.62308049  4.62996363 -4.19875728 -1.74550841], cost:133.1641555979434\n",
      "iteration: 9300, beta:[59.62308048  4.62996468 -4.19875717 -1.74550891], cost:133.16415559794203\n",
      "iteration: 9400, beta:[59.62308046  4.6299656  -4.19875708 -1.74550935], cost:133.16415559794095\n",
      "iteration: 9500, beta:[59.62308045  4.6299664  -4.19875699 -1.74550974], cost:133.16415559794018\n",
      "iteration: 9600, beta:[59.62308043  4.62996709 -4.19875692 -1.74551007], cost:133.16415559793955\n",
      "iteration: 9700, beta:[59.62308042  4.6299677  -4.19875686 -1.74551037], cost:133.1641555979391\n",
      "iteration: 9800, beta:[59.62308041  4.62996823 -4.19875681 -1.74551062], cost:133.16415559793873\n",
      "iteration: 9900, beta:[59.62308041  4.62996869 -4.19875676 -1.74551084], cost:133.1641555979385\n"
     ]
    }
   ],
   "source": [
    "beta = gradient_descent(X_with_bias,Y,beta,n_iter,lr)"
   ]
  },
  {
   "cell_type": "markdown",
   "id": "d1fc0a7a",
   "metadata": {},
   "source": [
    "#### Analyze Cost"
   ]
  },
  {
   "cell_type": "code",
   "execution_count": 11,
   "id": "565a64ce",
   "metadata": {},
   "outputs": [
    {
     "data": {
      "image/png": "[encoded data removed]",
      "text/plain": [
       "<Figure size 640x480 with 1 Axes>"
      ]
     },
     "metadata": {},
     "output_type": "display_data"
    }
   ],
   "source": [
    "\n",
    "plt.plot(cost_history)\n",
    "plt.xlabel('Iteration')\n",
    "plt.ylabel('Cost')\n",
    "plt.title('Cost over iterations')\n",
    "plt.show()"
   ]
  },
  {
   "cell_type": "markdown",
   "id": "af46d879",
   "metadata": {},
   "source": [
    "#### Predict Function"
   ]
  },
  {
   "cell_type": "code",
   "execution_count": 12,
   "id": "6be90c03",
   "metadata": {},
   "outputs": [],
   "source": [
    "def predict(X,beta,degree):\n",
    "    n = len(X)\n",
    "\n",
    "    X_scaled = (X - X.mean()) / X.std()\n",
    "\n",
    "    # Polynomial features\n",
    "    X_poly = np.ones((n, degree + 1))\n",
    "    for i in range(1, degree + 1):\n",
    "        X_poly[:, i] = X_scaled**i\n",
    "    return X_poly.dot(beta)"
   ]
  },
  {
   "cell_type": "code",
   "execution_count": 13,
   "id": "4f565b62",
   "metadata": {},
   "outputs": [
    {
     "data": {
      "image/png": "[encoded data removed]",
      "text/plain": [
       "<Figure size 1000x600 with 1 Axes>"
      ]
     },
     "metadata": {},
     "output_type": "display_data"
    }
   ],
   "source": [
    "plt.figure(figsize=(10,6))\n",
    "plt.scatter(X, Y, color='red', s=50, label='Original data')\n",
    "\n",
    "X_line = np.linspace(min(X), max(X), 200)\n",
    "Y_line = predict(X_line, beta, degree)\n",
    "\n",
    "plt.plot(X_line, Y_line, color='blue', label='Polynomial fit')\n",
    "plt.xlabel('Attendance')\n",
    "plt.ylabel('Capstone Score')\n",
    "plt.title('Polynomial Regression Fit (Degree 2)')\n",
    "plt.legend()\n",
    "plt.show()"
   ]
  },
  {
   "cell_type": "markdown",
   "id": "cad2de5b",
   "metadata": {},
   "source": [
    "#### Model Evaluation"
   ]
  },
  {
   "cell_type": "code",
   "execution_count": 14,
   "id": "5f2efb7d",
   "metadata": {},
   "outputs": [
    {
     "data": {
      "text/plain": [
       "array([60.0221582 , 58.64848558, 49.39854129, 60.68643909, 60.26410166,\n",
       "       58.54035993, 60.69835832, 58.32877109, 53.06053242, 50.72131272,\n",
       "       52.91938083, 52.49917544, 48.85570433, 60.6385986 , 59.29806447,\n",
       "       51.54533872, 53.08294957, 54.77167294, 51.54533872, 60.29546066,\n",
       "       53.41521288, 53.62895694, 50.28136432, 56.41460703, 60.382143  ,\n",
       "       53.54129319, 58.14645   , 52.91938083, 50.72131272, 48.43584767,\n",
       "       60.69096385, 51.08159584, 55.59115138, 54.48645867, 57.73043227,\n",
       "       60.69847634, 54.70045458, 55.47881033, 46.67985995, 59.88073065,\n",
       "       48.59578575, 54.70045458, 60.50302362, 60.56038642, 54.41503805,\n",
       "       51.15186361, 54.68394565, 43.10117228, 54.84282201, 48.51444268,\n",
       "       50.58376301, 60.68091653, 54.91389431, 51.08736109, 52.28206426,\n",
       "       60.69673895, 52.08510212, 49.39854129, 58.64848558, 49.76444638,\n",
       "       54.05760707, 57.970714  , 55.26784214, 60.64899791, 59.68778545,\n",
       "       60.26410166, 47.55338773, 58.85325006, 53.20212573, 60.0221582 ,\n",
       "       60.69673895, 57.63879643])"
      ]
     },
     "execution_count": 14,
     "metadata": {},
     "output_type": "execute_result"
    }
   ],
   "source": [
    "Y_hat = predict(X, beta, degree)\n",
    "Y_hat"
   ]
  },
  {
   "cell_type": "code",
   "execution_count": 15,
   "id": "5d6c6ee4",
   "metadata": {},
   "outputs": [],
   "source": [
    "def MSE(Y,Y_hat):\n",
    "    e_i = Y - Y_hat\n",
    "    return np.mean(e_i**2)\n",
    "\n",
    "def MAE(Y,Y_hat):\n",
    "    e_i = Y - Y_hat\n",
    "    return np.mean(np.abs(e_i))\n",
    "\n",
    "def R2_Score(Y,Y_hat):\n",
    "    y_mean = np.mean(Y)\n",
    "    e_i = Y - Y_hat\n",
    "    std_i = Y - y_mean\n",
    "\n",
    "    E = np.sum(e_i**2) / np.sum(std_i ** 2)\n",
    "    return 1 - E\n",
    "\n",
    "def RMSE(Y,Y_hat):\n",
    "    e_i = Y - Y_hat\n",
    "    return np.sqrt(np.mean((Y - Y_hat) ** 2))"
   ]
  },
  {
   "cell_type": "code",
   "execution_count": 16,
   "id": "d4130232",
   "metadata": {},
   "outputs": [
    {
     "name": "stdout",
     "output_type": "stream",
     "text": [
      "MSE : 266.3283111958766\n",
      "MAE : 13.831030956326268\n",
      "R2 Score : 0.06789832501421833\n",
      "RMSE : 16.319568352008474\n"
     ]
    }
   ],
   "source": [
    "mse = MSE(Y, Y_hat)\n",
    "mae = MAE(Y, Y_hat)\n",
    "r2 = R2_Score(Y, Y_hat)\n",
    "rmse = RMSE(Y,Y_hat)\n",
    "\n",
    "print(f\"MSE : {mse}\")\n",
    "print(f\"MAE : {mae}\")\n",
    "print(f\"R2 Score : {r2}\")\n",
    "print(f\"RMSE : {rmse}\")"
   ]
  },
  {
   "cell_type": "markdown",
   "id": "d8c3f9e6",
   "metadata": {},
   "source": [
    "#### SKlearn"
   ]
  },
  {
   "cell_type": "code",
   "execution_count": 17,
   "id": "9637b5d0",
   "metadata": {},
   "outputs": [
    {
     "name": "stdout",
     "output_type": "stream",
     "text": [
      "Coefficients: [ 0.00000000e+00 -1.75652840e+01  2.61615819e-01 -1.24802275e-03]\n",
      "Intercept: 429.92478639995943\n"
     ]
    }
   ],
   "source": [
    "\n",
    "X_reshaped = X.reshape(-1, 1)\n",
    "\n",
    "degree = 3\n",
    "poly = PolynomialFeatures(degree=degree, include_bias=True)\n",
    "X_poly_sklearn = poly.fit_transform(X_reshaped)\n",
    "\n",
    "model = LinearRegression()\n",
    "model.fit(X_poly_sklearn, Y)\n",
    "\n",
    "# Get coefficients\n",
    "print(\"Coefficients:\", model.coef_)\n",
    "print(\"Intercept:\", model.intercept_)"
   ]
  }
 ],
 "metadata": {
  "kernelspec": {
   "display_name": "foml",
   "language": "python",
   "name": "python3"
  },
  "language_info": {
   "codemirror_mode": {
    "name": "ipython",
    "version": 3
   },
   "file_extension": ".py",
   "mimetype": "text/x-python",
   "name": "python",
   "nbconvert_exporter": "python",
   "pygments_lexer": "ipython3",
   "version": "3.11.13"
  }
 },
 "nbformat": 4,
 "nbformat_minor": 5
}
