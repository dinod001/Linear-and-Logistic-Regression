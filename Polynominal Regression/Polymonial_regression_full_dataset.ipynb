{
 "cells": [
  {
   "cell_type": "code",
   "execution_count": 13,
   "id": "bd41f7e0",
   "metadata": {},
   "outputs": [],
   "source": [
    "import numpy as np\n",
    "import pandas as pd\n",
    "import matplotlib.pyplot as plt\n",
    "from itertools import combinations_with_replacement"
   ]
  },
  {
   "cell_type": "markdown",
   "id": "99263d08",
   "metadata": {},
   "source": [
    "#### Data Loading"
   ]
  },
  {
   "cell_type": "code",
   "execution_count": 14,
   "id": "319f2a52",
   "metadata": {},
   "outputs": [
    {
     "data": {
      "text/html": [
       "<div>\n",
       "<style scoped>\n",
       "    .dataframe tbody tr th:only-of-type {\n",
       "        vertical-align: middle;\n",
       "    }\n",
       "\n",
       "    .dataframe tbody tr th {\n",
       "        vertical-align: top;\n",
       "    }\n",
       "\n",
       "    .dataframe thead th {\n",
       "        text-align: right;\n",
       "    }\n",
       "</style>\n",
       "<table border=\"1\" class=\"dataframe\">\n",
       "  <thead>\n",
       "    <tr style=\"text-align: right;\">\n",
       "      <th></th>\n",
       "      <th>EducationLevel</th>\n",
       "      <th>Attendance</th>\n",
       "      <th>TotalHours</th>\n",
       "      <th>AssignmentsCompleted</th>\n",
       "      <th>HackathonParticipation</th>\n",
       "      <th>GitHubScore</th>\n",
       "      <th>PeerReviewScore</th>\n",
       "      <th>CapstoneScore</th>\n",
       "    </tr>\n",
       "  </thead>\n",
       "  <tbody>\n",
       "    <tr>\n",
       "      <th>0</th>\n",
       "      <td>3</td>\n",
       "      <td>79.9</td>\n",
       "      <td>43.7</td>\n",
       "      <td>2</td>\n",
       "      <td>0</td>\n",
       "      <td>62.8</td>\n",
       "      <td>5.0</td>\n",
       "      <td>45.3</td>\n",
       "    </tr>\n",
       "    <tr>\n",
       "      <th>1</th>\n",
       "      <td>2</td>\n",
       "      <td>76.8</td>\n",
       "      <td>95.6</td>\n",
       "      <td>6</td>\n",
       "      <td>0</td>\n",
       "      <td>87.4</td>\n",
       "      <td>2.7</td>\n",
       "      <td>78.8</td>\n",
       "    </tr>\n",
       "    <tr>\n",
       "      <th>2</th>\n",
       "      <td>3</td>\n",
       "      <td>96.6</td>\n",
       "      <td>75.9</td>\n",
       "      <td>8</td>\n",
       "      <td>0</td>\n",
       "      <td>98.4</td>\n",
       "      <td>2.8</td>\n",
       "      <td>65.4</td>\n",
       "    </tr>\n",
       "    <tr>\n",
       "      <th>4</th>\n",
       "      <td>2</td>\n",
       "      <td>83.2</td>\n",
       "      <td>24.0</td>\n",
       "      <td>6</td>\n",
       "      <td>0</td>\n",
       "      <td>41.8</td>\n",
       "      <td>4.2</td>\n",
       "      <td>40.1</td>\n",
       "    </tr>\n",
       "    <tr>\n",
       "      <th>7</th>\n",
       "      <td>3</td>\n",
       "      <td>86.5</td>\n",
       "      <td>88.0</td>\n",
       "      <td>5</td>\n",
       "      <td>0</td>\n",
       "      <td>23.9</td>\n",
       "      <td>1.3</td>\n",
       "      <td>68.2</td>\n",
       "    </tr>\n",
       "  </tbody>\n",
       "</table>\n",
       "</div>"
      ],
      "text/plain": [
       "   EducationLevel  Attendance  TotalHours  AssignmentsCompleted  \\\n",
       "0               3        79.9        43.7                     2   \n",
       "1               2        76.8        95.6                     6   \n",
       "2               3        96.6        75.9                     8   \n",
       "4               2        83.2        24.0                     6   \n",
       "7               3        86.5        88.0                     5   \n",
       "\n",
       "   HackathonParticipation  GitHubScore  PeerReviewScore  CapstoneScore  \n",
       "0                       0         62.8              5.0           45.3  \n",
       "1                       0         87.4              2.7           78.8  \n",
       "2                       0         98.4              2.8           65.4  \n",
       "4                       0         41.8              4.2           40.1  \n",
       "7                       0         23.9              1.3           68.2  "
      ]
     },
     "execution_count": 14,
     "metadata": {},
     "output_type": "execute_result"
    }
   ],
   "source": [
    "df=pd.read_csv(\"../zuu crew scores.csv\")\n",
    "df=df[df['CourseName']=='Foundations of ML']\n",
    "del df['MemberName'] , df['CourseName']\n",
    "df.head()"
   ]
  },
  {
   "cell_type": "code",
   "execution_count": 15,
   "id": "c1cb980f",
   "metadata": {},
   "outputs": [],
   "source": [
    "Y = df['CapstoneScore'].values.reshape(-1, 1)\n",
    "X_df = df.drop(columns=['CapstoneScore']).values\n",
    "\n",
    "# Calculate mean and std for each feature (column)\n",
    "mean = X_df.mean(axis=0)\n",
    "std = X_df.std(axis=0)\n",
    "X = (X_df - mean) / std"
   ]
  },
  {
   "cell_type": "code",
   "execution_count": 16,
   "id": "52feacf1",
   "metadata": {},
   "outputs": [
    {
     "data": {
      "text/plain": [
       "(72, 7)"
      ]
     },
     "execution_count": 16,
     "metadata": {},
     "output_type": "execute_result"
    }
   ],
   "source": [
    "X.shape"
   ]
  },
  {
   "cell_type": "markdown",
   "id": "f490c5bb",
   "metadata": {},
   "source": [
    "#### Polynominal Features"
   ]
  },
  {
   "cell_type": "code",
   "execution_count": 17,
   "id": "0b9dd984",
   "metadata": {},
   "outputs": [],
   "source": [
    "def polynomial_features(X, degree=2):\n",
    "    n_samples, n_features = X.shape\n",
    "    features = [np.ones((n_samples, 1))]  # bias term (x^0)\n",
    "    \n",
    "    for deg in range(1, degree + 1):\n",
    "        for comb in combinations_with_replacement(range(n_features), deg):\n",
    "            term = np.prod(X[:, comb], axis=1).reshape(-1, 1)\n",
    "            features.append(term)\n",
    "    \n",
    "    return np.hstack(features)"
   ]
  },
  {
   "cell_type": "code",
   "execution_count": 18,
   "id": "bc9c426d",
   "metadata": {},
   "outputs": [],
   "source": [
    "#degree = 2  # change this to any degree you want\n",
    "#X_poly = polynomial_features(X, degree)\n",
    "#X_poly\n",
    "\n",
    "#beta = np.linalg.pinv(X_poly.T @ X_poly) @ (X_poly.T @ Y)\n",
    "\n",
    "#Y_pred = X_poly @ beta"
   ]
  },
  {
   "cell_type": "markdown",
   "id": "892dc41c",
   "metadata": {},
   "source": [
    "#### Fit polynominal Feature"
   ]
  },
  {
   "cell_type": "code",
   "execution_count": 19,
   "id": "7a93a31d",
   "metadata": {},
   "outputs": [],
   "source": [
    "\n",
    "def fit_polynomial(X, y, degree=2, learning_rate=0.01, epochs=1000):\n",
    "    # Expand features\n",
    "    X_poly = polynomial_features(X, degree)\n",
    "    \n",
    "    n_samples, n_features = X_poly.shape\n",
    "    beta = np.zeros((n_features, 1))  # initialize coefficients\n",
    "    \n",
    "    # Gradient descent loop\n",
    "    for _ in range(epochs):\n",
    "        y_pred = X_poly @ beta\n",
    "        error = y_pred - y\n",
    "        gradient = (2 / n_samples) * (X_poly.T @ error)\n",
    "        beta -= learning_rate * gradient  # update rule\n",
    "    \n",
    "    return beta"
   ]
  },
  {
   "cell_type": "markdown",
   "id": "1387a33b",
   "metadata": {},
   "source": [
    "#### Predict Function"
   ]
  },
  {
   "cell_type": "code",
   "execution_count": 20,
   "id": "44d8d3e4",
   "metadata": {},
   "outputs": [],
   "source": [
    "# Predict function\n",
    "def predict_polynomial(X, beta, degree):\n",
    "    X_poly = polynomial_features(X, degree)\n",
    "    return X_poly @ beta"
   ]
  },
  {
   "cell_type": "code",
   "execution_count": 21,
   "id": "37ed1796",
   "metadata": {},
   "outputs": [],
   "source": [
    "# Fit model\n",
    "beta = fit_polynomial(X, Y, degree=2, learning_rate=0.001, epochs=5000)\n",
    "\n",
    "# Predict\n",
    "y_pred = predict_polynomial(X, beta, degree=2)"
   ]
  },
  {
   "cell_type": "markdown",
   "id": "4beea7d1",
   "metadata": {},
   "source": [
    "#### Model Evaluation"
   ]
  },
  {
   "cell_type": "code",
   "execution_count": 22,
   "id": "4a43ddc4",
   "metadata": {},
   "outputs": [],
   "source": [
    "Y_hat = predict_polynomial(X, beta, degree=2)"
   ]
  },
  {
   "cell_type": "code",
   "execution_count": 23,
   "id": "c6cbc733",
   "metadata": {},
   "outputs": [],
   "source": [
    "def MSE(Y,Y_hat):\n",
    "    e_i = Y - Y_hat\n",
    "    return np.mean(e_i**2)\n",
    "\n",
    "def MAE(Y,Y_hat):\n",
    "    e_i = Y - Y_hat\n",
    "    return np.mean(np.abs(e_i))\n",
    "\n",
    "def R2_Score(Y,Y_hat):\n",
    "    y_mean = np.mean(Y)\n",
    "    e_i = Y - Y_hat\n",
    "    std_i = Y - y_mean\n",
    "\n",
    "    E = np.sum(e_i**2) / np.sum(std_i ** 2)\n",
    "    return 1 - E\n",
    "\n",
    "def RMSE(Y,Y_hat):\n",
    "    e_i = Y - Y_hat\n",
    "    return np.sqrt(np.mean((Y - Y_hat) ** 2))"
   ]
  },
  {
   "cell_type": "code",
   "execution_count": 24,
   "id": "9b2b929c",
   "metadata": {},
   "outputs": [
    {
     "name": "stdout",
     "output_type": "stream",
     "text": [
      "MSE : 31.5042147461053\n",
      "MAE : 4.207147836313957\n",
      "R2 Score : 0.8897408570568401\n",
      "RMSE : 5.612861547027977\n"
     ]
    }
   ],
   "source": [
    "mse = MSE(Y, Y_hat)\n",
    "mae = MAE(Y, Y_hat)\n",
    "r2 = R2_Score(Y, Y_hat)\n",
    "rmse = RMSE(Y,Y_hat)\n",
    "\n",
    "print(f\"MSE : {mse}\")\n",
    "print(f\"MAE : {mae}\")\n",
    "print(f\"R2 Score : {r2}\")\n",
    "print(f\"RMSE : {rmse}\")"
   ]
  }
 ],
 "metadata": {
  "kernelspec": {
   "display_name": "foml",
   "language": "python",
   "name": "python3"
  },
  "language_info": {
   "codemirror_mode": {
    "name": "ipython",
    "version": 3
   },
   "file_extension": ".py",
   "mimetype": "text/x-python",
   "name": "python",
   "nbconvert_exporter": "python",
   "pygments_lexer": "ipython3",
   "version": "3.11.13"
  }
 },
 "nbformat": 4,
 "nbformat_minor": 5
}
