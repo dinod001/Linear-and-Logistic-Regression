{
 "cells": [
  {
   "cell_type": "code",
   "execution_count": 1,
   "id": "e5ef3252",
   "metadata": {},
   "outputs": [],
   "source": [
    "import numpy as np\n",
    "import pandas as pd\n",
    "import matplotlib.pyplot as plt\n",
    "from sklearn.linear_model import LinearRegression"
   ]
  },
  {
   "cell_type": "markdown",
   "id": "bdf0dad9",
   "metadata": {},
   "source": [
    "### Data Loading and Filtering"
   ]
  },
  {
   "cell_type": "code",
   "execution_count": 2,
   "id": "487ebd85",
   "metadata": {},
   "outputs": [
    {
     "data": {
      "text/html": [
       "<div>\n",
       "<style scoped>\n",
       "    .dataframe tbody tr th:only-of-type {\n",
       "        vertical-align: middle;\n",
       "    }\n",
       "\n",
       "    .dataframe tbody tr th {\n",
       "        vertical-align: top;\n",
       "    }\n",
       "\n",
       "    .dataframe thead th {\n",
       "        text-align: right;\n",
       "    }\n",
       "</style>\n",
       "<table border=\"1\" class=\"dataframe\">\n",
       "  <thead>\n",
       "    <tr style=\"text-align: right;\">\n",
       "      <th></th>\n",
       "      <th>EducationLevel</th>\n",
       "      <th>Attendance</th>\n",
       "      <th>TotalHours</th>\n",
       "      <th>AssignmentsCompleted</th>\n",
       "      <th>HackathonParticipation</th>\n",
       "      <th>GitHubScore</th>\n",
       "      <th>PeerReviewScore</th>\n",
       "      <th>CapstoneScore</th>\n",
       "    </tr>\n",
       "  </thead>\n",
       "  <tbody>\n",
       "    <tr>\n",
       "      <th>0</th>\n",
       "      <td>3</td>\n",
       "      <td>79.9</td>\n",
       "      <td>43.7</td>\n",
       "      <td>2</td>\n",
       "      <td>0</td>\n",
       "      <td>62.8</td>\n",
       "      <td>5.0</td>\n",
       "      <td>45.3</td>\n",
       "    </tr>\n",
       "    <tr>\n",
       "      <th>1</th>\n",
       "      <td>2</td>\n",
       "      <td>76.8</td>\n",
       "      <td>95.6</td>\n",
       "      <td>6</td>\n",
       "      <td>0</td>\n",
       "      <td>87.4</td>\n",
       "      <td>2.7</td>\n",
       "      <td>78.8</td>\n",
       "    </tr>\n",
       "    <tr>\n",
       "      <th>2</th>\n",
       "      <td>3</td>\n",
       "      <td>96.6</td>\n",
       "      <td>75.9</td>\n",
       "      <td>8</td>\n",
       "      <td>0</td>\n",
       "      <td>98.4</td>\n",
       "      <td>2.8</td>\n",
       "      <td>65.4</td>\n",
       "    </tr>\n",
       "    <tr>\n",
       "      <th>4</th>\n",
       "      <td>2</td>\n",
       "      <td>83.2</td>\n",
       "      <td>24.0</td>\n",
       "      <td>6</td>\n",
       "      <td>0</td>\n",
       "      <td>41.8</td>\n",
       "      <td>4.2</td>\n",
       "      <td>40.1</td>\n",
       "    </tr>\n",
       "    <tr>\n",
       "      <th>7</th>\n",
       "      <td>3</td>\n",
       "      <td>86.5</td>\n",
       "      <td>88.0</td>\n",
       "      <td>5</td>\n",
       "      <td>0</td>\n",
       "      <td>23.9</td>\n",
       "      <td>1.3</td>\n",
       "      <td>68.2</td>\n",
       "    </tr>\n",
       "  </tbody>\n",
       "</table>\n",
       "</div>"
      ],
      "text/plain": [
       "   EducationLevel  Attendance  TotalHours  AssignmentsCompleted  \\\n",
       "0               3        79.9        43.7                     2   \n",
       "1               2        76.8        95.6                     6   \n",
       "2               3        96.6        75.9                     8   \n",
       "4               2        83.2        24.0                     6   \n",
       "7               3        86.5        88.0                     5   \n",
       "\n",
       "   HackathonParticipation  GitHubScore  PeerReviewScore  CapstoneScore  \n",
       "0                       0         62.8              5.0           45.3  \n",
       "1                       0         87.4              2.7           78.8  \n",
       "2                       0         98.4              2.8           65.4  \n",
       "4                       0         41.8              4.2           40.1  \n",
       "7                       0         23.9              1.3           68.2  "
      ]
     },
     "execution_count": 2,
     "metadata": {},
     "output_type": "execute_result"
    }
   ],
   "source": [
    "df = pd.read_csv('../zuu crew scores.csv')\n",
    "df = df[df['CourseName']=='Foundations of ML']\n",
    "del df['MemberName'], df['CourseName']\n",
    "df.head()"
   ]
  },
  {
   "cell_type": "code",
   "execution_count": 3,
   "id": "2ce626c1",
   "metadata": {},
   "outputs": [],
   "source": [
    "Y = df['CapstoneScore'].values\n",
    "X_df = df.drop(columns=['CapstoneScore'])\n",
    "\n",
    "# Calculate mean and std for each feature (column)\n",
    "mean = X_df.mean()\n",
    "std = X_df.std()\n",
    "\n",
    "# Standardize each column\n",
    "X_standardized = (X_df - mean) / std\n",
    "\n",
    "# Convert to numpy array\n",
    "X = X_standardized.values"
   ]
  },
  {
   "cell_type": "code",
   "execution_count": 4,
   "id": "592fc09e",
   "metadata": {},
   "outputs": [],
   "source": [
    "X = np.column_stack((\n",
    "    np.ones(len(df)),\n",
    "    X\n",
    "))"
   ]
  },
  {
   "cell_type": "markdown",
   "id": "f5c3934f",
   "metadata": {},
   "source": [
    "#### Compute Cost"
   ]
  },
  {
   "cell_type": "code",
   "execution_count": 5,
   "id": "d9d5def3",
   "metadata": {},
   "outputs": [],
   "source": [
    "def compute_cost(X,beta,Y):\n",
    "    y_hat = X.dot(beta) \n",
    "    m = len(Y)\n",
    "    cost = (1 /(2 * m)) * np.sum((y_hat - Y)**2)\n",
    "    return cost"
   ]
  },
  {
   "cell_type": "markdown",
   "id": "50bc0f73",
   "metadata": {},
   "source": [
    "#### Optimization"
   ]
  },
  {
   "cell_type": "code",
   "execution_count": 6,
   "id": "7388a47e",
   "metadata": {},
   "outputs": [],
   "source": [
    "cost_history=[]\n",
    "def gradient_descent(X,Y,beta,n_iter,lr):\n",
    "    m = len(Y)\n",
    "\n",
    "    for i in range(n_iter):\n",
    "        y_hat = X.dot(beta) \n",
    "        gradient = (1/m) * X.T.dot(y_hat - Y)\n",
    "        beta = beta - lr * gradient\n",
    "        cost  = compute_cost(X,beta,Y)\n",
    "        cost_history.append(cost)\n",
    "\n",
    "        if i % 100 == 0:\n",
    "            print(f\"iteration: {i}, beta:{beta}, cost:{cost}\")\n",
    "    \n",
    "    return beta\n"
   ]
  },
  {
   "cell_type": "markdown",
   "id": "154f86ca",
   "metadata": {},
   "source": [
    "#### Checking"
   ]
  },
  {
   "cell_type": "code",
   "execution_count": 7,
   "id": "33d495e4",
   "metadata": {},
   "outputs": [],
   "source": [
    "beta = np.random.randn(8)\n",
    "n_iter = 1000\n",
    "lr = 0.01"
   ]
  },
  {
   "cell_type": "code",
   "execution_count": 8,
   "id": "31f4ac37",
   "metadata": {},
   "outputs": [
    {
     "name": "stdout",
     "output_type": "stream",
     "text": [
      "iteration: 0, beta:[ 1.3333209   0.83619546 -0.26546444  0.18785884  1.15103927 -0.78109416\n",
      " -0.37590102  2.21983754], cost:1583.1458571628261\n",
      "iteration: 100, beta:[35.42493963 -0.23951684  0.24980619 10.01988695  1.56486191 -1.03063173\n",
      "  0.62248379  2.02855453], cost:222.6022008092831\n",
      "iteration: 200, beta:[47.90357465 -0.34303095  0.50045141 13.68938003  0.96923117 -0.58624135\n",
      "  0.76627999  1.92622439], cost:39.76662671580425\n",
      "iteration: 300, beta:[52.47115864 -0.32206843  0.62338878 15.14585593  0.46638185 -0.20977865\n",
      "  0.80940798  1.82067048], cost:14.610146552860305\n",
      "iteration: 400, beta:[ 5.41430421e+01 -3.11714007e-01  6.85138730e-01  1.57526342e+01\n",
      "  1.57548883e-01  2.66079874e-02  8.50739221e-01  1.73718990e+00], cost:11.042729647534445\n",
      "iteration: 500, beta:[ 5.47550055e+01 -3.16048717e-01  7.16549208e-01  1.60150797e+01\n",
      " -1.58715145e-02  1.63024014e-01  8.89349302e-01  1.68231236e+00], cost:10.511313728772484\n",
      "iteration: 600, beta:[54.97900393 -0.3255597   0.73248938 16.13201185 -0.11038426  0.23952064\n",
      "  0.91972431  1.6499126 ], cost:10.42538818720783\n",
      "iteration: 700, beta:[55.06099459 -0.33478041  0.74046975 16.18540552 -0.16148296  0.28203792\n",
      "  0.94112244  1.63199815], cost:10.409683020114853\n",
      "iteration: 800, beta:[55.09100582 -0.34191404  0.74438271 16.2103118  -0.1891329   0.30564189\n",
      "  0.95521458  1.62250157], cost:10.406346945861507\n",
      "iteration: 900, beta:[55.1019909  -0.34687206  0.74625183 16.2221559  -0.20415884  0.31876928\n",
      "  0.96410781  1.61760695], cost:10.405528614666173\n"
     ]
    }
   ],
   "source": [
    "beta = gradient_descent(X,Y,beta,n_iter,lr)"
   ]
  },
  {
   "cell_type": "code",
   "execution_count": 9,
   "id": "064dd8e7",
   "metadata": {},
   "outputs": [
    {
     "data": {
      "image/png": "[encoded data removed]",
      "text/plain": [
       "<Figure size 640x480 with 1 Axes>"
      ]
     },
     "metadata": {},
     "output_type": "display_data"
    }
   ],
   "source": [
    "plt.plot(cost_history)\n",
    "plt.title(\"Cost Variation\")\n",
    "plt.xlabel(\"iterations\")\n",
    "plt.ylabel(\"Cost\")\n",
    "plt.show()"
   ]
  },
  {
   "cell_type": "markdown",
   "id": "4c88801c",
   "metadata": {},
   "source": [
    "#### Model Evaluation"
   ]
  },
  {
   "cell_type": "code",
   "execution_count": 10,
   "id": "f9c12217",
   "metadata": {},
   "outputs": [
    {
     "data": {
      "text/plain": [
       "array([49.96746194, 79.29091663, 68.47954612, 36.57110492, 71.0568104 ,\n",
       "       82.29981127, 38.24533198, 56.22344383, 48.82367059, 45.57556704,\n",
       "       59.96267538, 36.71622247, 39.52392938, 49.96504456, 56.82374266,\n",
       "       30.84211438, 83.74032877, 29.00025924, 52.49314469, 75.82730864,\n",
       "       64.95040543, 42.13345912, 34.6374272 , 79.92145984, 79.33276118,\n",
       "       36.87368335, 44.72448613, 43.11837736, 49.58508076, 38.67682542,\n",
       "       78.4948693 , 39.96145296, 28.17684223, 61.4397985 , 65.9339872 ,\n",
       "       68.14947481, 29.38453933, 42.32826992, 32.5858024 , 61.16220299,\n",
       "       62.67658983, 70.36564591, 56.33375885, 70.29161632, 54.5781719 ,\n",
       "       57.15294049, 51.88503144, 32.89990213, 59.57704903, 43.66872964,\n",
       "       77.67924741, 39.47060795, 50.90551756, 76.60679849, 60.55876862,\n",
       "       78.90220462, 75.19683642, 58.44631146, 70.87751481, 72.62612343,\n",
       "       26.9037889 , 51.79922825, 47.81762829, 79.69261455, 44.56716137,\n",
       "       56.54618774, 67.40672499, 47.79995097, 82.4430563 , 42.93605607,\n",
       "       28.17669471, 57.84306236])"
      ]
     },
     "execution_count": 10,
     "metadata": {},
     "output_type": "execute_result"
    }
   ],
   "source": [
    "Y_hat = X.dot(beta) \n",
    "Y_hat"
   ]
  },
  {
   "cell_type": "code",
   "execution_count": 11,
   "id": "798b4018",
   "metadata": {},
   "outputs": [],
   "source": [
    "def MSE(Y,Y_hat):\n",
    "    e_i = Y - Y_hat\n",
    "    return np.mean(e_i**2)\n",
    "\n",
    "def MAE(Y,Y_hat):\n",
    "    e_i = Y - Y_hat\n",
    "    return np.mean(np.abs(e_i))\n",
    "\n",
    "def R2_Score(Y,Y_hat):\n",
    "    y_mean = np.mean(Y)\n",
    "    e_i = Y - Y_hat\n",
    "    std_i = Y - y_mean\n",
    "\n",
    "    E = np.sum(e_i**2) / np.sum(std_i ** 2)\n",
    "    return 1 - E\n",
    "\n",
    "def RMSE(Y,Y_hat):\n",
    "    e_i = Y - Y_hat\n",
    "    return np.sqrt(np.mean((Y - Y_hat) ** 2))"
   ]
  },
  {
   "cell_type": "code",
   "execution_count": 12,
   "id": "2ef1d0b4",
   "metadata": {},
   "outputs": [
    {
     "name": "stdout",
     "output_type": "stream",
     "text": [
      "MSE : 20.810611862446304\n",
      "MAE : 3.538051562232816\n",
      "R2 Score : 0.9271665633767384\n",
      "RMSE : 4.561864954428868\n"
     ]
    }
   ],
   "source": [
    "mse = MSE(Y, Y_hat)\n",
    "mae = MAE(Y, Y_hat)\n",
    "r2 = R2_Score(Y, Y_hat)\n",
    "rmse = RMSE(Y,Y_hat)\n",
    "\n",
    "print(f\"MSE : {mse}\")\n",
    "print(f\"MAE : {mae}\")\n",
    "print(f\"R2 Score : {r2}\")\n",
    "print(f\"RMSE : {rmse}\")"
   ]
  },
  {
   "cell_type": "markdown",
   "id": "8b54de15",
   "metadata": {},
   "source": [
    "#### SkLeatn Implementation"
   ]
  },
  {
   "cell_type": "code",
   "execution_count": 13,
   "id": "da4007c8",
   "metadata": {},
   "outputs": [
    {
     "name": "stdout",
     "output_type": "stream",
     "text": [
      "Sklearn coefficients: [-0.35523215  0.7477395  16.23362197 -0.22249773  0.33544015  0.97752925\n",
      "  1.61270231]\n",
      "Sklearn intercept: 55.10833333333334\n"
     ]
    }
   ],
   "source": [
    "lr_model = LinearRegression()\n",
    "lr_model.fit(X[:, 1:], Y)  # skip the intercept column since sklearn adds it internally\n",
    "\n",
    "print(\"Sklearn coefficients:\", lr_model.coef_)\n",
    "print(\"Sklearn intercept:\", lr_model.intercept_)"
   ]
  }
 ],
 "metadata": {
  "kernelspec": {
   "display_name": "foml",
   "language": "python",
   "name": "python3"
  },
  "language_info": {
   "codemirror_mode": {
    "name": "ipython",
    "version": 3
   },
   "file_extension": ".py",
   "mimetype": "text/x-python",
   "name": "python",
   "nbconvert_exporter": "python",
   "pygments_lexer": "ipython3",
   "version": "3.11.13"
  }
 },
 "nbformat": 4,
 "nbformat_minor": 5
}
