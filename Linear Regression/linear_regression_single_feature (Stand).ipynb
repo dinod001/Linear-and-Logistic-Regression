{
 "cells": [
  {
   "cell_type": "code",
   "execution_count": 291,
   "id": "9f1ab48b",
   "metadata": {},
   "outputs": [],
   "source": [
    "import numpy as np\n",
    "import pandas as pd\n",
    "import matplotlib.pyplot as plt\n",
    "from sklearn.linear_model import LinearRegression"
   ]
  },
  {
   "cell_type": "code",
   "execution_count": 292,
   "id": "eadb0728",
   "metadata": {},
   "outputs": [
    {
     "data": {
      "text/html": [
       "<div>\n",
       "<style scoped>\n",
       "    .dataframe tbody tr th:only-of-type {\n",
       "        vertical-align: middle;\n",
       "    }\n",
       "\n",
       "    .dataframe tbody tr th {\n",
       "        vertical-align: top;\n",
       "    }\n",
       "\n",
       "    .dataframe thead th {\n",
       "        text-align: right;\n",
       "    }\n",
       "</style>\n",
       "<table border=\"1\" class=\"dataframe\">\n",
       "  <thead>\n",
       "    <tr style=\"text-align: right;\">\n",
       "      <th></th>\n",
       "      <th>MemberName</th>\n",
       "      <th>EducationLevel</th>\n",
       "      <th>Attendance</th>\n",
       "      <th>TotalHours</th>\n",
       "      <th>AssignmentsCompleted</th>\n",
       "      <th>HackathonParticipation</th>\n",
       "      <th>GitHubScore</th>\n",
       "      <th>PeerReviewScore</th>\n",
       "      <th>CourseName</th>\n",
       "      <th>CapstoneScore</th>\n",
       "    </tr>\n",
       "  </thead>\n",
       "  <tbody>\n",
       "    <tr>\n",
       "      <th>0</th>\n",
       "      <td>Theekshana Rathnayake</td>\n",
       "      <td>3</td>\n",
       "      <td>79.9</td>\n",
       "      <td>43.7</td>\n",
       "      <td>2</td>\n",
       "      <td>0</td>\n",
       "      <td>62.8</td>\n",
       "      <td>5.0</td>\n",
       "      <td>Foundations of ML</td>\n",
       "      <td>45.3</td>\n",
       "    </tr>\n",
       "    <tr>\n",
       "      <th>1</th>\n",
       "      <td>Mayura Sandakalum Sellapperuma</td>\n",
       "      <td>2</td>\n",
       "      <td>76.8</td>\n",
       "      <td>95.6</td>\n",
       "      <td>6</td>\n",
       "      <td>0</td>\n",
       "      <td>87.4</td>\n",
       "      <td>2.7</td>\n",
       "      <td>Foundations of ML</td>\n",
       "      <td>78.8</td>\n",
       "    </tr>\n",
       "    <tr>\n",
       "      <th>2</th>\n",
       "      <td>Amila Narangoda</td>\n",
       "      <td>3</td>\n",
       "      <td>96.6</td>\n",
       "      <td>75.9</td>\n",
       "      <td>8</td>\n",
       "      <td>0</td>\n",
       "      <td>98.4</td>\n",
       "      <td>2.8</td>\n",
       "      <td>Foundations of ML</td>\n",
       "      <td>65.4</td>\n",
       "    </tr>\n",
       "    <tr>\n",
       "      <th>4</th>\n",
       "      <td>Tharusha Vihanga</td>\n",
       "      <td>2</td>\n",
       "      <td>83.2</td>\n",
       "      <td>24.0</td>\n",
       "      <td>6</td>\n",
       "      <td>0</td>\n",
       "      <td>41.8</td>\n",
       "      <td>4.2</td>\n",
       "      <td>Foundations of ML</td>\n",
       "      <td>40.1</td>\n",
       "    </tr>\n",
       "    <tr>\n",
       "      <th>7</th>\n",
       "      <td>Chamath Perera</td>\n",
       "      <td>3</td>\n",
       "      <td>86.5</td>\n",
       "      <td>88.0</td>\n",
       "      <td>5</td>\n",
       "      <td>0</td>\n",
       "      <td>23.9</td>\n",
       "      <td>1.3</td>\n",
       "      <td>Foundations of ML</td>\n",
       "      <td>68.2</td>\n",
       "    </tr>\n",
       "  </tbody>\n",
       "</table>\n",
       "</div>"
      ],
      "text/plain": [
       "                       MemberName  EducationLevel  Attendance  TotalHours  \\\n",
       "0           Theekshana Rathnayake               3        79.9        43.7   \n",
       "1  Mayura Sandakalum Sellapperuma               2        76.8        95.6   \n",
       "2                 Amila Narangoda               3        96.6        75.9   \n",
       "4                Tharusha Vihanga               2        83.2        24.0   \n",
       "7                  Chamath Perera               3        86.5        88.0   \n",
       "\n",
       "   AssignmentsCompleted  HackathonParticipation  GitHubScore  PeerReviewScore  \\\n",
       "0                     2                       0         62.8              5.0   \n",
       "1                     6                       0         87.4              2.7   \n",
       "2                     8                       0         98.4              2.8   \n",
       "4                     6                       0         41.8              4.2   \n",
       "7                     5                       0         23.9              1.3   \n",
       "\n",
       "          CourseName  CapstoneScore  \n",
       "0  Foundations of ML           45.3  \n",
       "1  Foundations of ML           78.8  \n",
       "2  Foundations of ML           65.4  \n",
       "4  Foundations of ML           40.1  \n",
       "7  Foundations of ML           68.2  "
      ]
     },
     "execution_count": 292,
     "metadata": {},
     "output_type": "execute_result"
    }
   ],
   "source": [
    "df = pd.read_csv('zuu crew scores.csv')\n",
    "df = df[df['CourseName']=='Foundations of ML']\n",
    "df.head()"
   ]
  },
  {
   "cell_type": "code",
   "execution_count": 293,
   "id": "8413d64e",
   "metadata": {},
   "outputs": [],
   "source": [
    "X_df = df['Attendance'].values.reshape(-1,1)\n",
    "Y = df['CapstoneScore'].values\n",
    "\n",
    "Y_mean = np.mean(df['CapstoneScore'].values)\n",
    "Y_std = np.std(df['CapstoneScore'].values)\n",
    "\n",
    "X = (X_df - np.mean(X_df)) / np.std(X_df)\n",
    "Y = (Y - np.mean(Y)) / np.std(Y)\n"
   ]
  },
  {
   "cell_type": "code",
   "execution_count": 294,
   "id": "7af6e0f2",
   "metadata": {},
   "outputs": [
    {
     "data": {
      "image/png": "[encoded data removed]",
      "text/plain": [
       "<Figure size 1000x600 with 1 Axes>"
      ]
     },
     "metadata": {},
     "output_type": "display_data"
    }
   ],
   "source": [
    "plt.figure(figsize=(10,6))\n",
    "plt.scatter(X,Y,color='red',s=50)\n",
    "plt.xlabel('Attendance')\n",
    "plt.ylabel('CapstoneScore')\n",
    "plt.title('Attendance vs Capstone Score')\n",
    "plt.show()"
   ]
  },
  {
   "cell_type": "code",
   "execution_count": 295,
   "id": "e0b4c7c1",
   "metadata": {},
   "outputs": [],
   "source": [
    "def compute_cost(X,beta,Y):\n",
    "    y_hat = X.dot(beta) \n",
    "    m = len(Y)\n",
    "    cost = (1 /(2 * m)) * np.sum((y_hat - Y)**2)\n",
    "    return cost"
   ]
  },
  {
   "cell_type": "code",
   "execution_count": 296,
   "id": "cf53bbd5",
   "metadata": {},
   "outputs": [],
   "source": [
    "def gradient_descent(X,Y,beta,n_iter,lr):\n",
    "    m = len(Y)\n",
    "    cost_history=[]\n",
    "\n",
    "    for i in range(n_iter):\n",
    "        y_hat = X.dot(beta) \n",
    "        gradient = (1/m) * X.T.dot(y_hat - Y)\n",
    "        beta = beta - lr * gradient\n",
    "        cost  = compute_cost(X,beta,Y)\n",
    "        cost_history.append(cost)\n",
    "\n",
    "        if i % 100 == 0:\n",
    "            print(f\"iteration: {i}, beta:{beta}, cost:{cost}\")\n",
    "    \n",
    "    return beta\n"
   ]
  },
  {
   "cell_type": "code",
   "execution_count": 297,
   "id": "f4f67c85",
   "metadata": {},
   "outputs": [],
   "source": [
    "X_with_bias = np.column_stack([np.ones(len(X)),X])\n",
    "beta = np.random.randn(2)\n",
    "n_iter = 1000\n",
    "lr = 0.01"
   ]
  },
  {
   "cell_type": "code",
   "execution_count": 298,
   "id": "9c660e1f",
   "metadata": {},
   "outputs": [
    {
     "name": "stdout",
     "output_type": "stream",
     "text": [
      "iteration: 0, beta:[0.28164202 0.58789563], cost:0.6890685654560971\n",
      "iteration: 100, beta:[0.10309009 0.24042605], cost:0.5246451500337703\n",
      "iteration: 200, beta:[0.03773431 0.11324095], cost:0.5026157542964514\n",
      "iteration: 300, beta:[0.01381198 0.06668709], cost:0.4996642630182482\n",
      "iteration: 400, beta:[0.00505563 0.04964687], cost:0.4992688231764484\n",
      "iteration: 500, beta:[0.00185052 0.0434096 ], cost:0.4992158422750182\n",
      "iteration: 600, beta:[0.00067735 0.04112655], cost:0.49920874391107084\n",
      "iteration: 700, beta:[0.00024793 0.04029088], cost:0.4992077928745772\n",
      "iteration: 800, beta:[9.07513568e-05 3.99850035e-02], cost:0.4992076654550169\n",
      "iteration: 900, beta:[3.32179316e-05 3.98730410e-02], cost:0.49920764838338566\n"
     ]
    }
   ],
   "source": [
    "beta = gradient_descent(X_with_bias,Y,beta,n_iter,lr)"
   ]
  },
  {
   "cell_type": "code",
   "execution_count": 299,
   "id": "a81c8321",
   "metadata": {},
   "outputs": [],
   "source": [
    "x_min,x_max = float(np.min(X)), float(np.max(X))\n",
    "x_intervel = np.linspace(x_min,x_max,100)\n",
    "x_intervel_with_bias = np.column_stack([np.ones((len(x_intervel))), x_intervel])\n",
    "y_hat_intervel = x_intervel_with_bias.dot(beta)\n"
   ]
  },
  {
   "cell_type": "code",
   "execution_count": 300,
   "id": "41517793",
   "metadata": {},
   "outputs": [
    {
     "data": {
      "image/png": "[encoded data removed]",
      "text/plain": [
       "<Figure size 1200x700 with 1 Axes>"
      ]
     },
     "metadata": {},
     "output_type": "display_data"
    }
   ],
   "source": [
    "plt.figure(figsize=(12, 7))\n",
    "plt.scatter(X, Y, color='blue', s=50)\n",
    "plt.plot(x_intervel,y_hat_intervel,'r--', label=\"fitted line\")\n",
    "plt.show()"
   ]
  },
  {
   "cell_type": "code",
   "execution_count": 301,
   "id": "5c20b668",
   "metadata": {},
   "outputs": [],
   "source": [
    "def Predict(x_raw):\n",
    "    x_std = (x_raw - np.mean(X_df)) / np.std(X_df)\n",
    "\n",
    "    X_input = np.array([1, x_std])\n",
    "    y_std_pred = X_input.dot(beta)\n",
    "\n",
    "    # Convert back to original Y scale\n",
    "    y_original = y_std_pred * Y_std + Y_mean\n",
    "    return y_original"
   ]
  },
  {
   "cell_type": "code",
   "execution_count": 302,
   "id": "0a7d3775",
   "metadata": {},
   "outputs": [
    {
     "data": {
      "text/plain": [
       "np.float64(55.370942260354084)"
      ]
     },
     "execution_count": 302,
     "metadata": {},
     "output_type": "execute_result"
    }
   ],
   "source": [
    "Predict(83.2)"
   ]
  },
  {
   "cell_type": "markdown",
   "id": "053d525d",
   "metadata": {},
   "source": [
    "### Model Evaluation"
   ]
  },
  {
   "cell_type": "code",
   "execution_count": 303,
   "id": "ca0713b0",
   "metadata": {},
   "outputs": [
    {
     "data": {
      "text/plain": [
       "array([ 0.00378184, -0.00725971,  0.06326377,  0.01553576,  0.02728967,\n",
       "       -0.00797207,  0.01767283,  0.03975594, -0.03717876,  0.06077052,\n",
       "       -0.03789112, -0.0400282 , -0.06175513,  0.01339868, -0.00262938,\n",
       "       -0.04501471,  0.05578401, -0.02863046, -0.04501471,  0.02693349,\n",
       "       -0.03539787, -0.03432933, -0.05213829,  0.04687953,  0.02586496,\n",
       "        0.05471547, -0.01046532, -0.03789112,  0.06077052, -0.06531692,\n",
       "        0.01589194,  0.06005816,  0.04937278, -0.03005518, -0.01295858,\n",
       "        0.01696048, -0.02898664, -0.02506867,  0.0678941 ,  0.00235713,\n",
       "       -0.0638922 , -0.02898664,  0.01019307,  0.02301552, -0.03041136,\n",
       "       -0.04715178,  0.05186604,  0.07323679, -0.02827428, -0.06460456,\n",
       "       -0.05035739,  0.01517958, -0.0279181 , -0.04750796,  0.0575649 ,\n",
       "        0.01802901, -0.04216527,  0.06326377, -0.00725971, -0.0553439 ,\n",
       "       -0.03219225, -0.01153386, -0.02613721,  0.01375486,  0.00057623,\n",
       "        0.02728967,  0.06646938,  0.03726269, -0.0364664 ,  0.00378184,\n",
       "        0.01802901,  0.04260538])"
      ]
     },
     "execution_count": 303,
     "metadata": {},
     "output_type": "execute_result"
    }
   ],
   "source": [
    "Y_hat = X_with_bias.dot(beta) \n",
    "Y_hat"
   ]
  },
  {
   "cell_type": "code",
   "execution_count": 304,
   "id": "879f975f",
   "metadata": {},
   "outputs": [],
   "source": [
    "def MSE(Y,Y_hat):\n",
    "    e_i = Y - Y_hat\n",
    "    return np.mean(e_i**2)\n",
    "\n",
    "def MAE(Y,Y_hat):\n",
    "    e_i = Y - Y_hat\n",
    "    return np.mean(np.abs(e_i))\n",
    "\n",
    "def R2_Score(Y,Y_hat):\n",
    "    y_mean = np.mean(Y)\n",
    "    e_i = Y - Y_hat\n",
    "    std_i = Y - y_mean\n",
    "\n",
    "    E = np.sum(e_i**2) / np.sum(std_i ** 2)\n",
    "    return 1 - E"
   ]
  },
  {
   "cell_type": "code",
   "execution_count": 305,
   "id": "ced3d107",
   "metadata": {},
   "outputs": [
    {
     "name": "stdout",
     "output_type": "stream",
     "text": [
      "MSE : 0.9984152922066376\n",
      "MAE : 0.8484952841781168\n",
      "R2 Score : 0.0015847077933626164\n"
     ]
    }
   ],
   "source": [
    "mse = MSE(Y, Y_hat)\n",
    "mae = MAE(Y, Y_hat)\n",
    "r2 = R2_Score(Y, Y_hat)\n",
    "\n",
    "print(f\"MSE : {mse}\")\n",
    "print(f\"MAE : {mae}\")\n",
    "print(f\"R2 Score : {r2}\")"
   ]
  },
  {
   "cell_type": "code",
   "execution_count": null,
   "id": "fa4166eb",
   "metadata": {},
   "outputs": [],
   "source": []
  }
 ],
 "metadata": {
  "kernelspec": {
   "display_name": "foml",
   "language": "python",
   "name": "python3"
  },
  "language_info": {
   "codemirror_mode": {
    "name": "ipython",
    "version": 3
   },
   "file_extension": ".py",
   "mimetype": "text/x-python",
   "name": "python",
   "nbconvert_exporter": "python",
   "pygments_lexer": "ipython3",
   "version": "3.11.13"
  }
 },
 "nbformat": 4,
 "nbformat_minor": 5
}
