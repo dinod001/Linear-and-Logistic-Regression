{
 "cells": [
  {
   "cell_type": "code",
   "execution_count": 1,
   "id": "e5ef3252",
   "metadata": {},
   "outputs": [],
   "source": [
    "import numpy as np\n",
    "import pandas as pd\n",
    "import matplotlib.pyplot as plt\n",
    "from sklearn.linear_model import LinearRegression"
   ]
  },
  {
   "cell_type": "markdown",
   "id": "bdf0dad9",
   "metadata": {},
   "source": [
    "### Data Loading and Filtering"
   ]
  },
  {
   "cell_type": "code",
   "execution_count": 2,
   "id": "487ebd85",
   "metadata": {},
   "outputs": [
    {
     "data": {
      "text/html": [
       "<div>\n",
       "<style scoped>\n",
       "    .dataframe tbody tr th:only-of-type {\n",
       "        vertical-align: middle;\n",
       "    }\n",
       "\n",
       "    .dataframe tbody tr th {\n",
       "        vertical-align: top;\n",
       "    }\n",
       "\n",
       "    .dataframe thead th {\n",
       "        text-align: right;\n",
       "    }\n",
       "</style>\n",
       "<table border=\"1\" class=\"dataframe\">\n",
       "  <thead>\n",
       "    <tr style=\"text-align: right;\">\n",
       "      <th></th>\n",
       "      <th>EducationLevel</th>\n",
       "      <th>Attendance</th>\n",
       "      <th>TotalHours</th>\n",
       "      <th>AssignmentsCompleted</th>\n",
       "      <th>HackathonParticipation</th>\n",
       "      <th>GitHubScore</th>\n",
       "      <th>PeerReviewScore</th>\n",
       "      <th>CapstoneScore</th>\n",
       "    </tr>\n",
       "  </thead>\n",
       "  <tbody>\n",
       "    <tr>\n",
       "      <th>0</th>\n",
       "      <td>3</td>\n",
       "      <td>79.9</td>\n",
       "      <td>43.7</td>\n",
       "      <td>2</td>\n",
       "      <td>0</td>\n",
       "      <td>62.8</td>\n",
       "      <td>5.0</td>\n",
       "      <td>45.3</td>\n",
       "    </tr>\n",
       "    <tr>\n",
       "      <th>1</th>\n",
       "      <td>2</td>\n",
       "      <td>76.8</td>\n",
       "      <td>95.6</td>\n",
       "      <td>6</td>\n",
       "      <td>0</td>\n",
       "      <td>87.4</td>\n",
       "      <td>2.7</td>\n",
       "      <td>78.8</td>\n",
       "    </tr>\n",
       "    <tr>\n",
       "      <th>2</th>\n",
       "      <td>3</td>\n",
       "      <td>96.6</td>\n",
       "      <td>75.9</td>\n",
       "      <td>8</td>\n",
       "      <td>0</td>\n",
       "      <td>98.4</td>\n",
       "      <td>2.8</td>\n",
       "      <td>65.4</td>\n",
       "    </tr>\n",
       "    <tr>\n",
       "      <th>4</th>\n",
       "      <td>2</td>\n",
       "      <td>83.2</td>\n",
       "      <td>24.0</td>\n",
       "      <td>6</td>\n",
       "      <td>0</td>\n",
       "      <td>41.8</td>\n",
       "      <td>4.2</td>\n",
       "      <td>40.1</td>\n",
       "    </tr>\n",
       "    <tr>\n",
       "      <th>7</th>\n",
       "      <td>3</td>\n",
       "      <td>86.5</td>\n",
       "      <td>88.0</td>\n",
       "      <td>5</td>\n",
       "      <td>0</td>\n",
       "      <td>23.9</td>\n",
       "      <td>1.3</td>\n",
       "      <td>68.2</td>\n",
       "    </tr>\n",
       "  </tbody>\n",
       "</table>\n",
       "</div>"
      ],
      "text/plain": [
       "   EducationLevel  Attendance  TotalHours  AssignmentsCompleted  \\\n",
       "0               3        79.9        43.7                     2   \n",
       "1               2        76.8        95.6                     6   \n",
       "2               3        96.6        75.9                     8   \n",
       "4               2        83.2        24.0                     6   \n",
       "7               3        86.5        88.0                     5   \n",
       "\n",
       "   HackathonParticipation  GitHubScore  PeerReviewScore  CapstoneScore  \n",
       "0                       0         62.8              5.0           45.3  \n",
       "1                       0         87.4              2.7           78.8  \n",
       "2                       0         98.4              2.8           65.4  \n",
       "4                       0         41.8              4.2           40.1  \n",
       "7                       0         23.9              1.3           68.2  "
      ]
     },
     "execution_count": 2,
     "metadata": {},
     "output_type": "execute_result"
    }
   ],
   "source": [
    "df = pd.read_csv('../zuu crew scores.csv')\n",
    "df = df[df['CourseName']=='Foundations of ML']\n",
    "del df['MemberName'], df['CourseName']\n",
    "df.head()"
   ]
  },
  {
   "cell_type": "code",
   "execution_count": 3,
   "id": "2ce626c1",
   "metadata": {},
   "outputs": [],
   "source": [
    "Y = df['CapstoneScore'].values\n",
    "X_df = df.drop(columns=['CapstoneScore'])\n",
    "\n",
    "# Calculate mean and std for each feature (column)\n",
    "mean = X_df.mean()\n",
    "std = X_df.std()\n",
    "\n",
    "# Standardize each column\n",
    "X_standardized = (X_df - mean) / std\n",
    "\n",
    "# Convert to numpy array\n",
    "X = X_standardized.values"
   ]
  },
  {
   "cell_type": "code",
   "execution_count": 4,
   "id": "592fc09e",
   "metadata": {},
   "outputs": [],
   "source": [
    "X = np.column_stack((\n",
    "    np.ones(len(df)),\n",
    "    X\n",
    "))"
   ]
  },
  {
   "cell_type": "markdown",
   "id": "f5c3934f",
   "metadata": {},
   "source": [
    "#### Compute Cost"
   ]
  },
  {
   "cell_type": "code",
   "execution_count": 5,
   "id": "d9d5def3",
   "metadata": {},
   "outputs": [],
   "source": [
    "def compute_cost(X,beta,Y):\n",
    "    y_hat = X.dot(beta) \n",
    "    m = len(Y)\n",
    "    cost = (1 /(2 * m)) * np.sum((y_hat - Y)**2)\n",
    "    return cost"
   ]
  },
  {
   "cell_type": "markdown",
   "id": "50bc0f73",
   "metadata": {},
   "source": [
    "#### Optimization"
   ]
  },
  {
   "cell_type": "code",
   "execution_count": 6,
   "id": "7388a47e",
   "metadata": {},
   "outputs": [],
   "source": [
    "cost_history=[]\n",
    "def gradient_descent(X,Y,beta,n_iter,lr):\n",
    "    m = len(Y)\n",
    "\n",
    "    for i in range(n_iter):\n",
    "        y_hat = X.dot(beta) \n",
    "        gradient = (1/m) * X.T.dot(y_hat - Y)\n",
    "        beta = beta - lr * gradient\n",
    "        cost  = compute_cost(X,beta,Y)\n",
    "        cost_history.append(cost)\n",
    "\n",
    "        if i % 100 == 0:\n",
    "            print(f\"iteration: {i}, beta:{beta}, cost:{cost}\")\n",
    "    \n",
    "    return beta\n"
   ]
  },
  {
   "cell_type": "markdown",
   "id": "154f86ca",
   "metadata": {},
   "source": [
    "#### Checking"
   ]
  },
  {
   "cell_type": "code",
   "execution_count": 7,
   "id": "33d495e4",
   "metadata": {},
   "outputs": [],
   "source": [
    "beta = np.random.randn(8)\n",
    "n_iter = 1000\n",
    "lr = 0.01"
   ]
  },
  {
   "cell_type": "code",
   "execution_count": 8,
   "id": "31f4ac37",
   "metadata": {},
   "outputs": [
    {
     "name": "stdout",
     "output_type": "stream",
     "text": [
      "iteration: 0, beta:[-0.4343672   0.91407291 -0.32400461  0.15272347  1.97322601  1.45038659\n",
      " -0.37237457 -0.28745084], cost:1686.86156192023\n",
      "iteration: 100, beta:[34.77790862 -0.12478535  0.35367531 10.07491652  1.70271625 -0.15910721\n",
      "  0.73843368  1.08305898], cost:235.65232765993403\n",
      "iteration: 200, beta:[47.66674038 -0.28145367  0.58933603 13.74918295  0.94967181 -0.22510657\n",
      "  0.86120665  1.55716599], cost:41.25832481871341\n",
      "iteration: 300, beta:[ 5.23844696e+01 -2.97793321e-01  6.76814968e-01  1.51890571e+01\n",
      "  4.25711448e-01 -5.10180064e-02  8.70205473e-01  1.67178958e+00], cost:14.73991628685032\n",
      "iteration: 400, beta:[54.11131113 -0.30504158  0.71334705 15.77955568  0.12543092  0.10029027\n",
      "  0.88674115  1.67528171], cost:11.040768731957753\n",
      "iteration: 500, beta:[ 5.47433910e+01 -3.16031194e-01  7.30472902e-01  1.60306684e+01\n",
      " -3.68611155e-02  1.98837990e-01  9.10077445e-01  1.65586899e+00], cost:10.505558498818658\n",
      "iteration: 600, beta:[54.97475262 -0.32738512  0.73908067 16.14067674 -0.12312517  0.25758913\n",
      "  0.93155522  1.63835529], cost:10.423014495015135\n",
      "iteration: 700, beta:[55.05943847 -0.33667567  0.7434981  16.19010974 -0.16894963  0.29142115\n",
      "  0.94786779  1.62684963], cost:10.408886140537785\n",
      "iteration: 800, beta:[55.09043623 -0.34338452  0.74574017 16.21283215 -0.19342915  0.31062294\n",
      "  0.95906595  1.62017214], cost:10.40609426563729\n",
      "iteration: 900, beta:[55.10178242 -0.34788659  0.74684599 16.22349724 -0.20660638  0.32145744\n",
      "  0.96631079  1.61653975], cost:10.405449598507133\n"
     ]
    }
   ],
   "source": [
    "beta = gradient_descent(X,Y,beta,n_iter,lr)"
   ]
  },
  {
   "cell_type": "code",
   "execution_count": 9,
   "id": "064dd8e7",
   "metadata": {},
   "outputs": [
    {
     "data": {
      "image/png": "[encoded data removed]",
      "text/plain": [
       "<Figure size 640x480 with 1 Axes>"
      ]
     },
     "metadata": {},
     "output_type": "display_data"
    }
   ],
   "source": [
    "plt.plot(cost_history)\n",
    "plt.title(\"Cost Variation\")\n",
    "plt.xlabel(\"iterations\")\n",
    "plt.ylabel(\"Cost\")\n",
    "plt.show()"
   ]
  },
  {
   "cell_type": "markdown",
   "id": "4c88801c",
   "metadata": {},
   "source": [
    "#### Model Evaluation"
   ]
  },
  {
   "cell_type": "code",
   "execution_count": 10,
   "id": "f9c12217",
   "metadata": {},
   "outputs": [
    {
     "data": {
      "text/plain": [
       "array([49.966515  , 79.29198061, 68.47906024, 36.5678562 , 71.0554729 ,\n",
       "       82.3014154 , 38.24676319, 56.22606231, 48.82324261, 45.57551543,\n",
       "       59.96330947, 36.71609027, 39.52513204, 49.96487393, 56.82323303,\n",
       "       30.83950646, 83.74552241, 28.99873786, 52.48798223, 75.82742745,\n",
       "       64.95153209, 42.13280269, 34.63911596, 79.91835046, 79.33171916,\n",
       "       36.87428521, 44.72336448, 43.1193367 , 49.58346215, 38.67434086,\n",
       "       78.49578192, 39.95887854, 28.17257351, 61.44017077, 65.93436176,\n",
       "       68.14756439, 29.38694758, 42.32893745, 32.5849577 , 61.16348192,\n",
       "       62.67538   , 70.36325438, 56.33680173, 70.29119112, 54.5785783 ,\n",
       "       57.15253167, 51.88443004, 32.9031998 , 59.5770516 , 43.66374963,\n",
       "       77.67873894, 39.47077246, 50.90696012, 76.61056851, 60.55857132,\n",
       "       78.90723734, 75.19634218, 58.44568086, 70.87829561, 72.62751872,\n",
       "       26.90291693, 51.79871275, 47.81889561, 79.69012371, 44.56697226,\n",
       "       56.54725163, 67.40956191, 47.80163964, 82.4420031 , 42.93488909,\n",
       "       28.17316553, 57.84496026])"
      ]
     },
     "execution_count": 10,
     "metadata": {},
     "output_type": "execute_result"
    }
   ],
   "source": [
    "Y_hat = X.dot(beta) \n",
    "Y_hat"
   ]
  },
  {
   "cell_type": "code",
   "execution_count": 11,
   "id": "798b4018",
   "metadata": {},
   "outputs": [],
   "source": [
    "def MSE(Y,Y_hat):\n",
    "    e_i = Y - Y_hat\n",
    "    return np.mean(e_i**2)\n",
    "\n",
    "def MAE(Y,Y_hat):\n",
    "    e_i = Y - Y_hat\n",
    "    return np.mean(np.abs(e_i))\n",
    "\n",
    "def R2_Score(Y,Y_hat):\n",
    "    y_mean = np.mean(Y)\n",
    "    e_i = Y - Y_hat\n",
    "    std_i = Y - y_mean\n",
    "\n",
    "    E = np.sum(e_i**2) / np.sum(std_i ** 2)\n",
    "    return 1 - E"
   ]
  },
  {
   "cell_type": "code",
   "execution_count": 12,
   "id": "2ef1d0b4",
   "metadata": {},
   "outputs": [
    {
     "name": "stdout",
     "output_type": "stream",
     "text": [
      "MSE : 20.810561818387313\n",
      "MAE : 3.5383479792306924\n",
      "R2 Score : 0.9271667385220356\n"
     ]
    }
   ],
   "source": [
    "mse = MSE(Y, Y_hat)\n",
    "mae = MAE(Y, Y_hat)\n",
    "r2 = R2_Score(Y, Y_hat)\n",
    "\n",
    "print(f\"MSE : {mse}\")\n",
    "print(f\"MAE : {mae}\")\n",
    "print(f\"R2 Score : {r2}\")"
   ]
  },
  {
   "cell_type": "code",
   "execution_count": 13,
   "id": "da4007c8",
   "metadata": {},
   "outputs": [
    {
     "name": "stdout",
     "output_type": "stream",
     "text": [
      "Sklearn coefficients: [-0.35523215  0.7477395  16.23362197 -0.22249773  0.33544015  0.97752925\n",
      "  1.61270231]\n",
      "Sklearn intercept: 55.10833333333334\n"
     ]
    }
   ],
   "source": [
    "lr_model = LinearRegression()\n",
    "lr_model.fit(X[:, 1:], Y)  # skip the intercept column since sklearn adds it internally\n",
    "\n",
    "print(\"Sklearn coefficients:\", lr_model.coef_)\n",
    "print(\"Sklearn intercept:\", lr_model.intercept_)"
   ]
  }
 ],
 "metadata": {
  "kernelspec": {
   "display_name": "foml",
   "language": "python",
   "name": "python3"
  },
  "language_info": {
   "codemirror_mode": {
    "name": "ipython",
    "version": 3
   },
   "file_extension": ".py",
   "mimetype": "text/x-python",
   "name": "python",
   "nbconvert_exporter": "python",
   "pygments_lexer": "ipython3",
   "version": "3.11.13"
  }
 },
 "nbformat": 4,
 "nbformat_minor": 5
}
