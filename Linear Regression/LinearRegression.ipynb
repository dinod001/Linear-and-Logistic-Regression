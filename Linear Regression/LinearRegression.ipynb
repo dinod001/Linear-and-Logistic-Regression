{
 "cells": [
  {
   "cell_type": "code",
   "execution_count": 205,
   "id": "e5ef3252",
   "metadata": {},
   "outputs": [],
   "source": [
    "import numpy as np\n",
    "import pandas as pd\n",
    "import matplotlib.pyplot as plt\n",
    "from sklearn.linear_model import LinearRegression"
   ]
  },
  {
   "cell_type": "markdown",
   "id": "bdf0dad9",
   "metadata": {},
   "source": [
    "### Data Loading and Filtering"
   ]
  },
  {
   "cell_type": "code",
   "execution_count": 206,
   "id": "487ebd85",
   "metadata": {},
   "outputs": [
    {
     "data": {
      "text/html": [
       "<div>\n",
       "<style scoped>\n",
       "    .dataframe tbody tr th:only-of-type {\n",
       "        vertical-align: middle;\n",
       "    }\n",
       "\n",
       "    .dataframe tbody tr th {\n",
       "        vertical-align: top;\n",
       "    }\n",
       "\n",
       "    .dataframe thead th {\n",
       "        text-align: right;\n",
       "    }\n",
       "</style>\n",
       "<table border=\"1\" class=\"dataframe\">\n",
       "  <thead>\n",
       "    <tr style=\"text-align: right;\">\n",
       "      <th></th>\n",
       "      <th>EducationLevel</th>\n",
       "      <th>Attendance</th>\n",
       "      <th>TotalHours</th>\n",
       "      <th>AssignmentsCompleted</th>\n",
       "      <th>HackathonParticipation</th>\n",
       "      <th>GitHubScore</th>\n",
       "      <th>PeerReviewScore</th>\n",
       "      <th>CapstoneScore</th>\n",
       "    </tr>\n",
       "  </thead>\n",
       "  <tbody>\n",
       "    <tr>\n",
       "      <th>0</th>\n",
       "      <td>3</td>\n",
       "      <td>79.9</td>\n",
       "      <td>43.7</td>\n",
       "      <td>2</td>\n",
       "      <td>0</td>\n",
       "      <td>62.8</td>\n",
       "      <td>5.0</td>\n",
       "      <td>45.3</td>\n",
       "    </tr>\n",
       "    <tr>\n",
       "      <th>1</th>\n",
       "      <td>2</td>\n",
       "      <td>76.8</td>\n",
       "      <td>95.6</td>\n",
       "      <td>6</td>\n",
       "      <td>0</td>\n",
       "      <td>87.4</td>\n",
       "      <td>2.7</td>\n",
       "      <td>78.8</td>\n",
       "    </tr>\n",
       "    <tr>\n",
       "      <th>2</th>\n",
       "      <td>3</td>\n",
       "      <td>96.6</td>\n",
       "      <td>75.9</td>\n",
       "      <td>8</td>\n",
       "      <td>0</td>\n",
       "      <td>98.4</td>\n",
       "      <td>2.8</td>\n",
       "      <td>65.4</td>\n",
       "    </tr>\n",
       "    <tr>\n",
       "      <th>4</th>\n",
       "      <td>2</td>\n",
       "      <td>83.2</td>\n",
       "      <td>24.0</td>\n",
       "      <td>6</td>\n",
       "      <td>0</td>\n",
       "      <td>41.8</td>\n",
       "      <td>4.2</td>\n",
       "      <td>40.1</td>\n",
       "    </tr>\n",
       "    <tr>\n",
       "      <th>7</th>\n",
       "      <td>3</td>\n",
       "      <td>86.5</td>\n",
       "      <td>88.0</td>\n",
       "      <td>5</td>\n",
       "      <td>0</td>\n",
       "      <td>23.9</td>\n",
       "      <td>1.3</td>\n",
       "      <td>68.2</td>\n",
       "    </tr>\n",
       "  </tbody>\n",
       "</table>\n",
       "</div>"
      ],
      "text/plain": [
       "   EducationLevel  Attendance  TotalHours  AssignmentsCompleted  \\\n",
       "0               3        79.9        43.7                     2   \n",
       "1               2        76.8        95.6                     6   \n",
       "2               3        96.6        75.9                     8   \n",
       "4               2        83.2        24.0                     6   \n",
       "7               3        86.5        88.0                     5   \n",
       "\n",
       "   HackathonParticipation  GitHubScore  PeerReviewScore  CapstoneScore  \n",
       "0                       0         62.8              5.0           45.3  \n",
       "1                       0         87.4              2.7           78.8  \n",
       "2                       0         98.4              2.8           65.4  \n",
       "4                       0         41.8              4.2           40.1  \n",
       "7                       0         23.9              1.3           68.2  "
      ]
     },
     "execution_count": 206,
     "metadata": {},
     "output_type": "execute_result"
    }
   ],
   "source": [
    "df = pd.read_csv('../zuu crew scores.csv')\n",
    "df = df[df['CourseName']=='Foundations of ML']\n",
    "del df['MemberName'], df['CourseName']\n",
    "df.head()"
   ]
  },
  {
   "cell_type": "code",
   "execution_count": 207,
   "id": "2ce626c1",
   "metadata": {},
   "outputs": [],
   "source": [
    "Y = df['CapstoneScore'].values\n",
    "X_df = df.drop(columns=['CapstoneScore'])\n",
    "\n",
    "# Calculate mean and std for each feature (column)\n",
    "mean = X_df.mean()\n",
    "std = X_df.std()\n",
    "\n",
    "# Standardize each column\n",
    "X_standardized = (X_df - mean) / std\n",
    "\n",
    "# Convert to numpy array\n",
    "X = X_standardized.values"
   ]
  },
  {
   "cell_type": "code",
   "execution_count": 208,
   "id": "592fc09e",
   "metadata": {},
   "outputs": [],
   "source": [
    "X = np.column_stack((\n",
    "    np.ones(len(df)),\n",
    "    X\n",
    "))"
   ]
  },
  {
   "cell_type": "markdown",
   "id": "f5c3934f",
   "metadata": {},
   "source": [
    "#### Compute Cost"
   ]
  },
  {
   "cell_type": "code",
   "execution_count": 209,
   "id": "d9d5def3",
   "metadata": {},
   "outputs": [],
   "source": [
    "def compute_cost(X,beta,Y):\n",
    "    y_hat = X.dot(beta) \n",
    "    m = len(Y)\n",
    "    cost = (1 /(2 * m)) * np.sum((y_hat - Y)**2)\n",
    "    return cost"
   ]
  },
  {
   "cell_type": "markdown",
   "id": "50bc0f73",
   "metadata": {},
   "source": [
    "#### Optimization"
   ]
  },
  {
   "cell_type": "code",
   "execution_count": 210,
   "id": "7388a47e",
   "metadata": {},
   "outputs": [],
   "source": [
    "cost_history=[]\n",
    "def gradient_descent(X,Y,beta,n_iter,lr):\n",
    "    m = len(Y)\n",
    "\n",
    "    for i in range(n_iter):\n",
    "        y_hat = X.dot(beta) \n",
    "        gradient = (1/m) * X.T.dot(y_hat - Y)\n",
    "        beta = beta - lr * gradient\n",
    "        cost  = compute_cost(X,beta,Y)\n",
    "        cost_history.append(cost)\n",
    "\n",
    "        if i % 100 == 0:\n",
    "            print(f\"iteration: {i}, beta:{beta}, cost:{cost}\")\n",
    "    \n",
    "    return beta\n"
   ]
  },
  {
   "cell_type": "markdown",
   "id": "154f86ca",
   "metadata": {},
   "source": [
    "#### Checking"
   ]
  },
  {
   "cell_type": "code",
   "execution_count": 211,
   "id": "33d495e4",
   "metadata": {},
   "outputs": [],
   "source": [
    "beta = np.random.randn(8)\n",
    "n_iter = 1000\n",
    "lr = 0.01"
   ]
  },
  {
   "cell_type": "code",
   "execution_count": 212,
   "id": "31f4ac37",
   "metadata": {},
   "outputs": [
    {
     "name": "stdout",
     "output_type": "stream",
     "text": [
      "iteration: 0, beta:[ 0.39479256  1.39941614 -1.26724644  0.83164957 -0.42988575  0.09458869\n",
      "  0.12448948 -0.26214667], cost:1633.3865077073249\n",
      "iteration: 100, beta:[ 3.50814079e+01 -1.43432225e-01  1.10338940e-02  1.04221726e+01\n",
      "  7.82656732e-01 -5.19360874e-01  8.68837353e-01  1.05539477e+00], cost:227.370022584886\n",
      "iteration: 200, beta:[47.77783093 -0.3627668   0.46205054 13.91813341  0.57052393 -0.3001672\n",
      "  0.91124182  1.53095432], cost:39.933372070339864\n",
      "iteration: 300, beta:[ 5.24251324e+01 -3.59071986e-01  6.28522636e-01  1.52698311e+01\n",
      "  2.58574284e-01 -5.13007030e-02  8.99737362e-01  1.65488879e+00], cost:14.510554755445234\n",
      "iteration: 400, beta:[ 5.41261950e+01 -3.42180847e-01  6.94622448e-01  1.58181388e+01\n",
      "  4.74255706e-02  1.14488197e-01  9.07150064e-01  1.66569065e+00], cost:10.995933521260522\n",
      "iteration: 500, beta:[54.74883894 -0.33702268  0.72302952 16.04925472 -0.07497092  0.21195346\n",
      "  0.92409714  1.65074731], cost:10.495452734892606\n",
      "iteration: 600, beta:[54.97674676 -0.33897918  0.73602904 16.14975383 -0.14241653  0.2668782\n",
      "  0.94079734  1.63571118], cost:10.420423144391338\n",
      "iteration: 700, beta:[55.06016839 -0.34305132  0.74219741 16.19461595 -0.17898386  0.29738783\n",
      "  0.95373098  1.62551204], cost:10.408156468156319\n",
      "iteration: 800, beta:[55.09070341 -0.34690179  0.74515906 16.21510808 -0.19875762  0.31427775\n",
      "  0.96267752  1.61950399], cost:10.405876473712285\n",
      "iteration: 900, beta:[55.10188021 -0.34983814  0.74657235 16.22466627 -0.2094811   0.32363766\n",
      "  0.968488    1.61620858], cost:10.405382377512327\n"
     ]
    }
   ],
   "source": [
    "beta = gradient_descent(X,Y,beta,n_iter,lr)"
   ]
  },
  {
   "cell_type": "code",
   "execution_count": 213,
   "id": "064dd8e7",
   "metadata": {},
   "outputs": [
    {
     "data": {
      "image/png": "[encoded data removed]",
      "text/plain": [
       "<Figure size 640x480 with 1 Axes>"
      ]
     },
     "metadata": {},
     "output_type": "display_data"
    }
   ],
   "source": [
    "plt.plot(cost_history)\n",
    "plt.title(\"Cost Variation\")\n",
    "plt.xlabel(\"iterations\")\n",
    "plt.ylabel(\"Cost\")\n",
    "plt.show()"
   ]
  },
  {
   "cell_type": "markdown",
   "id": "4c88801c",
   "metadata": {},
   "source": [
    "#### Model Evaluation"
   ]
  },
  {
   "cell_type": "code",
   "execution_count": 214,
   "id": "f9c12217",
   "metadata": {},
   "outputs": [
    {
     "data": {
      "text/plain": [
       "array([49.96618157, 79.29323647, 68.47750226, 36.56521326, 71.05309742,\n",
       "       82.30388949, 38.24863106, 56.22872259, 48.82215744, 45.5750296 ,\n",
       "       59.96412458, 36.71753777, 39.52689178, 49.96388428, 56.82321406,\n",
       "       30.83771508, 83.75115794, 28.99821231, 52.48331428, 75.82688476,\n",
       "       64.9528476 , 42.13237326, 34.64092384, 79.91525582, 79.33102969,\n",
       "       36.87398006, 44.72276932, 43.12039298, 49.58181473, 38.67174755,\n",
       "       78.49603097, 39.95656952, 28.16791277, 61.440797  , 65.93500375,\n",
       "       68.14503832, 29.3889208 , 42.32942762, 32.58457035, 61.16523808,\n",
       "       62.67481735, 70.36118195, 56.33919645, 70.29124898, 54.57890409,\n",
       "       57.15346886, 51.8839048 , 32.90645971, 59.57710711, 43.66059153,\n",
       "       77.67806853, 39.47038906, 50.90998144, 76.61492434, 60.55838323,\n",
       "       78.91326136, 75.19587032, 58.44444952, 70.87836577, 72.63001226,\n",
       "       26.90323609, 51.79755607, 47.82016251, 79.68764127, 44.56673533,\n",
       "       56.5476584 , 67.41129352, 47.80297607, 82.44195992, 42.93337728,\n",
       "       28.16936566, 57.84642364])"
      ]
     },
     "execution_count": 214,
     "metadata": {},
     "output_type": "execute_result"
    }
   ],
   "source": [
    "Y_hat = X.dot(beta) \n",
    "Y_hat"
   ]
  },
  {
   "cell_type": "code",
   "execution_count": 215,
   "id": "798b4018",
   "metadata": {},
   "outputs": [],
   "source": [
    "def MSE(Y,Y_hat):\n",
    "    e_i = Y - Y_hat\n",
    "    return np.mean(e_i**2)\n",
    "\n",
    "def MAE(Y,Y_hat):\n",
    "    e_i = Y - Y_hat\n",
    "    return np.mean(np.abs(e_i))\n",
    "\n",
    "def R2_Score(Y,Y_hat):\n",
    "    y_mean = np.mean(Y)\n",
    "    e_i = Y - Y_hat\n",
    "    std_i = Y - y_mean\n",
    "\n",
    "    E = np.sum(e_i**2) / np.sum(std_i ** 2)\n",
    "    return 1 - E"
   ]
  },
  {
   "cell_type": "code",
   "execution_count": 216,
   "id": "2ef1d0b4",
   "metadata": {},
   "outputs": [
    {
     "name": "stdout",
     "output_type": "stream",
     "text": [
      "MSE : 20.81051904645872\n",
      "MAE : 3.538687542184506\n",
      "R2 Score : 0.927166888216171\n"
     ]
    }
   ],
   "source": [
    "mse = MSE(Y, Y_hat)\n",
    "mae = MAE(Y, Y_hat)\n",
    "r2 = R2_Score(Y, Y_hat)\n",
    "\n",
    "print(f\"MSE : {mse}\")\n",
    "print(f\"MAE : {mae}\")\n",
    "print(f\"R2 Score : {r2}\")"
   ]
  },
  {
   "cell_type": "code",
   "execution_count": 217,
   "id": "da4007c8",
   "metadata": {},
   "outputs": [
    {
     "name": "stdout",
     "output_type": "stream",
     "text": [
      "Sklearn coefficients: [-0.35523215  0.7477395  16.23362197 -0.22249773  0.33544015  0.97752925\n",
      "  1.61270231]\n",
      "Sklearn intercept: 55.10833333333334\n"
     ]
    }
   ],
   "source": [
    "lr_model = LinearRegression()\n",
    "lr_model.fit(X[:, 1:], Y)  # skip the intercept column since sklearn adds it internally\n",
    "\n",
    "print(\"Sklearn coefficients:\", lr_model.coef_)\n",
    "print(\"Sklearn intercept:\", lr_model.intercept_)"
   ]
  }
 ],
 "metadata": {
  "kernelspec": {
   "display_name": "foml",
   "language": "python",
   "name": "python3"
  },
  "language_info": {
   "codemirror_mode": {
    "name": "ipython",
    "version": 3
   },
   "file_extension": ".py",
   "mimetype": "text/x-python",
   "name": "python",
   "nbconvert_exporter": "python",
   "pygments_lexer": "ipython3",
   "version": "3.11.13"
  }
 },
 "nbformat": 4,
 "nbformat_minor": 5
}
