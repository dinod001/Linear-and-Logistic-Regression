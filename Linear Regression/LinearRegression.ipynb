{
 "cells": [
  {
   "cell_type": "code",
   "execution_count": 1,
   "id": "e5ef3252",
   "metadata": {},
   "outputs": [],
   "source": [
    "import numpy as np\n",
    "import pandas as pd\n",
    "import matplotlib.pyplot as plt\n",
    "from sklearn.linear_model import LinearRegression"
   ]
  },
  {
   "cell_type": "markdown",
   "id": "bdf0dad9",
   "metadata": {},
   "source": [
    "### Data Loading and Filtering"
   ]
  },
  {
   "cell_type": "code",
   "execution_count": 2,
   "id": "487ebd85",
   "metadata": {},
   "outputs": [
    {
     "data": {
      "text/html": [
       "<div>\n",
       "<style scoped>\n",
       "    .dataframe tbody tr th:only-of-type {\n",
       "        vertical-align: middle;\n",
       "    }\n",
       "\n",
       "    .dataframe tbody tr th {\n",
       "        vertical-align: top;\n",
       "    }\n",
       "\n",
       "    .dataframe thead th {\n",
       "        text-align: right;\n",
       "    }\n",
       "</style>\n",
       "<table border=\"1\" class=\"dataframe\">\n",
       "  <thead>\n",
       "    <tr style=\"text-align: right;\">\n",
       "      <th></th>\n",
       "      <th>EducationLevel</th>\n",
       "      <th>Attendance</th>\n",
       "      <th>TotalHours</th>\n",
       "      <th>AssignmentsCompleted</th>\n",
       "      <th>HackathonParticipation</th>\n",
       "      <th>GitHubScore</th>\n",
       "      <th>PeerReviewScore</th>\n",
       "      <th>CapstoneScore</th>\n",
       "    </tr>\n",
       "  </thead>\n",
       "  <tbody>\n",
       "    <tr>\n",
       "      <th>0</th>\n",
       "      <td>3</td>\n",
       "      <td>79.9</td>\n",
       "      <td>43.7</td>\n",
       "      <td>2</td>\n",
       "      <td>0</td>\n",
       "      <td>62.8</td>\n",
       "      <td>5.0</td>\n",
       "      <td>45.3</td>\n",
       "    </tr>\n",
       "    <tr>\n",
       "      <th>1</th>\n",
       "      <td>2</td>\n",
       "      <td>76.8</td>\n",
       "      <td>95.6</td>\n",
       "      <td>6</td>\n",
       "      <td>0</td>\n",
       "      <td>87.4</td>\n",
       "      <td>2.7</td>\n",
       "      <td>78.8</td>\n",
       "    </tr>\n",
       "    <tr>\n",
       "      <th>2</th>\n",
       "      <td>3</td>\n",
       "      <td>96.6</td>\n",
       "      <td>75.9</td>\n",
       "      <td>8</td>\n",
       "      <td>0</td>\n",
       "      <td>98.4</td>\n",
       "      <td>2.8</td>\n",
       "      <td>65.4</td>\n",
       "    </tr>\n",
       "    <tr>\n",
       "      <th>4</th>\n",
       "      <td>2</td>\n",
       "      <td>83.2</td>\n",
       "      <td>24.0</td>\n",
       "      <td>6</td>\n",
       "      <td>0</td>\n",
       "      <td>41.8</td>\n",
       "      <td>4.2</td>\n",
       "      <td>40.1</td>\n",
       "    </tr>\n",
       "    <tr>\n",
       "      <th>7</th>\n",
       "      <td>3</td>\n",
       "      <td>86.5</td>\n",
       "      <td>88.0</td>\n",
       "      <td>5</td>\n",
       "      <td>0</td>\n",
       "      <td>23.9</td>\n",
       "      <td>1.3</td>\n",
       "      <td>68.2</td>\n",
       "    </tr>\n",
       "  </tbody>\n",
       "</table>\n",
       "</div>"
      ],
      "text/plain": [
       "   EducationLevel  Attendance  TotalHours  AssignmentsCompleted  \\\n",
       "0               3        79.9        43.7                     2   \n",
       "1               2        76.8        95.6                     6   \n",
       "2               3        96.6        75.9                     8   \n",
       "4               2        83.2        24.0                     6   \n",
       "7               3        86.5        88.0                     5   \n",
       "\n",
       "   HackathonParticipation  GitHubScore  PeerReviewScore  CapstoneScore  \n",
       "0                       0         62.8              5.0           45.3  \n",
       "1                       0         87.4              2.7           78.8  \n",
       "2                       0         98.4              2.8           65.4  \n",
       "4                       0         41.8              4.2           40.1  \n",
       "7                       0         23.9              1.3           68.2  "
      ]
     },
     "execution_count": 2,
     "metadata": {},
     "output_type": "execute_result"
    }
   ],
   "source": [
    "df = pd.read_csv('../zuu crew scores.csv')\n",
    "df = df[df['CourseName']=='Foundations of ML']\n",
    "del df['MemberName'], df['CourseName']\n",
    "df.head()"
   ]
  },
  {
   "cell_type": "code",
   "execution_count": 3,
   "id": "2ce626c1",
   "metadata": {},
   "outputs": [],
   "source": [
    "Y = df['CapstoneScore'].values\n",
    "X_df = df.drop(columns=['CapstoneScore'])\n",
    "\n",
    "# Calculate mean and std for each feature (column)\n",
    "mean = X_df.mean()\n",
    "std = X_df.std()\n",
    "\n",
    "# Standardize each column\n",
    "X_standardized = (X_df - mean) / std\n",
    "\n",
    "# Convert to numpy array\n",
    "X = X_standardized.values"
   ]
  },
  {
   "cell_type": "code",
   "execution_count": 4,
   "id": "592fc09e",
   "metadata": {},
   "outputs": [],
   "source": [
    "X = np.column_stack((\n",
    "    np.ones(len(df)),\n",
    "    X\n",
    "))"
   ]
  },
  {
   "cell_type": "markdown",
   "id": "f5c3934f",
   "metadata": {},
   "source": [
    "#### Compute Cost"
   ]
  },
  {
   "cell_type": "code",
   "execution_count": 5,
   "id": "d9d5def3",
   "metadata": {},
   "outputs": [],
   "source": [
    "def compute_cost(X,beta,Y):\n",
    "    y_hat = X.dot(beta) \n",
    "    m = len(Y)\n",
    "    cost = (1 /(2 * m)) * np.sum((y_hat - Y)**2)\n",
    "    return cost"
   ]
  },
  {
   "cell_type": "markdown",
   "id": "50bc0f73",
   "metadata": {},
   "source": [
    "#### Optimization"
   ]
  },
  {
   "cell_type": "code",
   "execution_count": 6,
   "id": "7388a47e",
   "metadata": {},
   "outputs": [],
   "source": [
    "cost_history=[]\n",
    "def gradient_descent(X,Y,beta,n_iter,lr):\n",
    "    m = len(Y)\n",
    "\n",
    "    for i in range(n_iter):\n",
    "        y_hat = X.dot(beta) \n",
    "        gradient = (1/m) * X.T.dot(y_hat - Y)\n",
    "        beta = beta - lr * gradient\n",
    "        cost  = compute_cost(X,beta,Y)\n",
    "        cost_history.append(cost)\n",
    "\n",
    "        if i % 100 == 0:\n",
    "            print(f\"iteration: {i}, beta:{beta}, cost:{cost}\")\n",
    "    \n",
    "    return beta\n"
   ]
  },
  {
   "cell_type": "markdown",
   "id": "154f86ca",
   "metadata": {},
   "source": [
    "#### Checking"
   ]
  },
  {
   "cell_type": "code",
   "execution_count": 7,
   "id": "33d495e4",
   "metadata": {},
   "outputs": [],
   "source": [
    "beta = np.random.randn(8)\n",
    "n_iter = 1000\n",
    "lr = 0.01"
   ]
  },
  {
   "cell_type": "code",
   "execution_count": 8,
   "id": "31f4ac37",
   "metadata": {},
   "outputs": [
    {
     "name": "stdout",
     "output_type": "stream",
     "text": [
      "iteration: 0, beta:[ 0.24242868 -1.56936448 -0.54916321 -0.93748349  0.67045332  0.44805466\n",
      "  1.39956605 -1.66532051], cost:1664.191790388327\n",
      "iteration: 100, beta:[35.0256378  -1.27283364  0.25902339  9.58383184  0.94896409 -0.30369128\n",
      "  1.50074554  0.64710908], cost:233.6506738236447\n",
      "iteration: 200, beta:[47.75741727 -0.82980074  0.53903097 13.55060714  0.54001318 -0.16989466\n",
      "  1.23911399  1.41870961], cost:40.98867187023714\n",
      "iteration: 300, beta:[ 5.24176603e+01 -5.66671413e-01  6.47641994e-01  1.51156303e+01\n",
      "  2.05723542e-01  2.79026982e-02  1.07328537e+00  1.62871317e+00], cost:14.670087109801415\n",
      "iteration: 400, beta:[ 5.41234600e+01 -4.39950347e-01  6.96290760e-01  1.57555141e+01\n",
      "  6.68268859e-03  1.62591819e-01  1.00003244e+00  1.66264525e+00], cost:11.01585530171369\n",
      "iteration: 500, beta:[54.74783784 -0.38514255  0.72065467 16.02464971 -0.10161584  0.24094832\n",
      "  0.97423037  1.65264633], cost:10.496375267929766\n",
      "iteration: 600, beta:[54.97638032 -0.36345687  0.73352948 16.14050915 -0.15880314  0.28418206\n",
      "  0.96806466  1.63782857], cost:10.41973667836351\n",
      "iteration: 700, beta:[55.06003426 -0.35581396  0.74040433 16.19139233 -0.18878038  0.30761477\n",
      "  0.96866678  1.62696339], cost:10.407753133495225\n",
      "iteration: 800, beta:[55.09065431 -0.35368166  0.74403299 16.21414543 -0.20452745  0.32027157\n",
      "  0.97091078  1.62035662], cost:10.405711518242377\n",
      "iteration: 900, beta:[55.10186224 -0.35349168  0.74590957 16.2244926  -0.2128494   0.32712665\n",
      "  0.97305166  1.61667269], cost:10.405322251849558\n"
     ]
    }
   ],
   "source": [
    "beta = gradient_descent(X,Y,beta,n_iter,lr)"
   ]
  },
  {
   "cell_type": "code",
   "execution_count": 9,
   "id": "064dd8e7",
   "metadata": {},
   "outputs": [
    {
     "data": {
      "image/png": "[encoded data removed]",
      "text/plain": [
       "<Figure size 640x480 with 1 Axes>"
      ]
     },
     "metadata": {},
     "output_type": "display_data"
    }
   ],
   "source": [
    "plt.plot(cost_history)\n",
    "plt.title(\"Cost Variation\")\n",
    "plt.xlabel(\"iterations\")\n",
    "plt.ylabel(\"Cost\")\n",
    "plt.show()"
   ]
  },
  {
   "cell_type": "markdown",
   "id": "4c88801c",
   "metadata": {},
   "source": [
    "#### Model Evaluation"
   ]
  },
  {
   "cell_type": "code",
   "execution_count": 10,
   "id": "f9c12217",
   "metadata": {},
   "outputs": [
    {
     "data": {
      "text/plain": [
       "array([49.96584166, 79.29430005, 68.47479094, 36.56231703, 71.04636369,\n",
       "       82.30705163, 38.25250671, 56.23240151, 48.82092295, 45.57394355,\n",
       "       59.96499832, 36.72135307, 39.5285463 , 49.96185007, 56.82273757,\n",
       "       30.83628883, 83.7584668 , 28.99752377, 52.47547378, 75.82522714,\n",
       "       64.95641766, 42.1316695 , 34.64452171, 79.90935438, 79.32804212,\n",
       "       36.87214399, 44.72305189, 43.12348147, 49.58079525, 38.66836121,\n",
       "       78.49286573, 39.9552589 , 28.16197744, 61.43911504, 65.93511869,\n",
       "       68.14020804, 29.39257976, 42.32988238, 32.58571963, 61.16782069,\n",
       "       62.67418204, 70.35847273, 56.34227318, 70.29147406, 54.57967346,\n",
       "       57.15563861, 51.88355574, 32.91322413, 59.57687344, 43.65714192,\n",
       "       77.67728932, 39.46882555, 50.91559381, 76.62003954, 60.55666553,\n",
       "       78.92203391, 75.19330694, 58.44219861, 70.87741521, 72.63370688,\n",
       "       26.90501779, 51.79524365, 47.82316873, 79.68360763, 44.56533051,\n",
       "       56.54936445, 67.41421336, 47.80472267, 82.44195756, 42.93129317,\n",
       "       28.16424142, 57.84869965])"
      ]
     },
     "execution_count": 10,
     "metadata": {},
     "output_type": "execute_result"
    }
   ],
   "source": [
    "Y_hat = X.dot(beta) \n",
    "Y_hat"
   ]
  },
  {
   "cell_type": "code",
   "execution_count": 11,
   "id": "798b4018",
   "metadata": {},
   "outputs": [],
   "source": [
    "def MSE(Y,Y_hat):\n",
    "    e_i = Y - Y_hat\n",
    "    return np.mean(e_i**2)\n",
    "\n",
    "def MAE(Y,Y_hat):\n",
    "    e_i = Y - Y_hat\n",
    "    return np.mean(np.abs(e_i))\n",
    "\n",
    "def R2_Score(Y,Y_hat):\n",
    "    y_mean = np.mean(Y)\n",
    "    e_i = Y - Y_hat\n",
    "    std_i = Y - y_mean\n",
    "\n",
    "    E = np.sum(e_i**2) / np.sum(std_i ** 2)\n",
    "    return 1 - E"
   ]
  },
  {
   "cell_type": "code",
   "execution_count": 12,
   "id": "2ef1d0b4",
   "metadata": {},
   "outputs": [
    {
     "name": "stdout",
     "output_type": "stream",
     "text": [
      "MSE : 20.81047697035963\n",
      "MAE : 3.5390545309212817\n",
      "R2 Score : 0.927167035475027\n"
     ]
    }
   ],
   "source": [
    "mse = MSE(Y, Y_hat)\n",
    "mae = MAE(Y, Y_hat)\n",
    "r2 = R2_Score(Y, Y_hat)\n",
    "\n",
    "print(f\"MSE : {mse}\")\n",
    "print(f\"MAE : {mae}\")\n",
    "print(f\"R2 Score : {r2}\")"
   ]
  },
  {
   "cell_type": "code",
   "execution_count": 13,
   "id": "da4007c8",
   "metadata": {},
   "outputs": [
    {
     "name": "stdout",
     "output_type": "stream",
     "text": [
      "Sklearn coefficients: [-0.35523215  0.7477395  16.23362197 -0.22249773  0.33544015  0.97752925\n",
      "  1.61270231]\n",
      "Sklearn intercept: 55.10833333333334\n"
     ]
    }
   ],
   "source": [
    "lr_model = LinearRegression()\n",
    "lr_model.fit(X[:, 1:], Y)  # skip the intercept column since sklearn adds it internally\n",
    "\n",
    "print(\"Sklearn coefficients:\", lr_model.coef_)\n",
    "print(\"Sklearn intercept:\", lr_model.intercept_)"
   ]
  }
 ],
 "metadata": {
  "kernelspec": {
   "display_name": "foml",
   "language": "python",
   "name": "python3"
  },
  "language_info": {
   "codemirror_mode": {
    "name": "ipython",
    "version": 3
   },
   "file_extension": ".py",
   "mimetype": "text/x-python",
   "name": "python",
   "nbconvert_exporter": "python",
   "pygments_lexer": "ipython3",
   "version": "3.11.13"
  }
 },
 "nbformat": 4,
 "nbformat_minor": 5
}
