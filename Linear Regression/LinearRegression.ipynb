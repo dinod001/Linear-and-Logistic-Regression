{
 "cells": [
  {
   "cell_type": "code",
   "execution_count": 1,
   "id": "e5ef3252",
   "metadata": {},
   "outputs": [],
   "source": [
    "import numpy as np\n",
    "import pandas as pd\n",
    "import matplotlib.pyplot as plt\n",
    "from sklearn.linear_model import LinearRegression"
   ]
  },
  {
   "cell_type": "markdown",
   "id": "bdf0dad9",
   "metadata": {},
   "source": [
    "### Data Loading and Filtering"
   ]
  },
  {
   "cell_type": "code",
   "execution_count": 2,
   "id": "487ebd85",
   "metadata": {},
   "outputs": [
    {
     "data": {
      "text/html": [
       "<div>\n",
       "<style scoped>\n",
       "    .dataframe tbody tr th:only-of-type {\n",
       "        vertical-align: middle;\n",
       "    }\n",
       "\n",
       "    .dataframe tbody tr th {\n",
       "        vertical-align: top;\n",
       "    }\n",
       "\n",
       "    .dataframe thead th {\n",
       "        text-align: right;\n",
       "    }\n",
       "</style>\n",
       "<table border=\"1\" class=\"dataframe\">\n",
       "  <thead>\n",
       "    <tr style=\"text-align: right;\">\n",
       "      <th></th>\n",
       "      <th>EducationLevel</th>\n",
       "      <th>Attendance</th>\n",
       "      <th>TotalHours</th>\n",
       "      <th>AssignmentsCompleted</th>\n",
       "      <th>HackathonParticipation</th>\n",
       "      <th>GitHubScore</th>\n",
       "      <th>PeerReviewScore</th>\n",
       "      <th>CapstoneScore</th>\n",
       "    </tr>\n",
       "  </thead>\n",
       "  <tbody>\n",
       "    <tr>\n",
       "      <th>0</th>\n",
       "      <td>3</td>\n",
       "      <td>79.9</td>\n",
       "      <td>43.7</td>\n",
       "      <td>2</td>\n",
       "      <td>0</td>\n",
       "      <td>62.8</td>\n",
       "      <td>5.0</td>\n",
       "      <td>45.3</td>\n",
       "    </tr>\n",
       "    <tr>\n",
       "      <th>1</th>\n",
       "      <td>2</td>\n",
       "      <td>76.8</td>\n",
       "      <td>95.6</td>\n",
       "      <td>6</td>\n",
       "      <td>0</td>\n",
       "      <td>87.4</td>\n",
       "      <td>2.7</td>\n",
       "      <td>78.8</td>\n",
       "    </tr>\n",
       "    <tr>\n",
       "      <th>2</th>\n",
       "      <td>3</td>\n",
       "      <td>96.6</td>\n",
       "      <td>75.9</td>\n",
       "      <td>8</td>\n",
       "      <td>0</td>\n",
       "      <td>98.4</td>\n",
       "      <td>2.8</td>\n",
       "      <td>65.4</td>\n",
       "    </tr>\n",
       "    <tr>\n",
       "      <th>4</th>\n",
       "      <td>2</td>\n",
       "      <td>83.2</td>\n",
       "      <td>24.0</td>\n",
       "      <td>6</td>\n",
       "      <td>0</td>\n",
       "      <td>41.8</td>\n",
       "      <td>4.2</td>\n",
       "      <td>40.1</td>\n",
       "    </tr>\n",
       "    <tr>\n",
       "      <th>7</th>\n",
       "      <td>3</td>\n",
       "      <td>86.5</td>\n",
       "      <td>88.0</td>\n",
       "      <td>5</td>\n",
       "      <td>0</td>\n",
       "      <td>23.9</td>\n",
       "      <td>1.3</td>\n",
       "      <td>68.2</td>\n",
       "    </tr>\n",
       "  </tbody>\n",
       "</table>\n",
       "</div>"
      ],
      "text/plain": [
       "   EducationLevel  Attendance  TotalHours  AssignmentsCompleted  \\\n",
       "0               3        79.9        43.7                     2   \n",
       "1               2        76.8        95.6                     6   \n",
       "2               3        96.6        75.9                     8   \n",
       "4               2        83.2        24.0                     6   \n",
       "7               3        86.5        88.0                     5   \n",
       "\n",
       "   HackathonParticipation  GitHubScore  PeerReviewScore  CapstoneScore  \n",
       "0                       0         62.8              5.0           45.3  \n",
       "1                       0         87.4              2.7           78.8  \n",
       "2                       0         98.4              2.8           65.4  \n",
       "4                       0         41.8              4.2           40.1  \n",
       "7                       0         23.9              1.3           68.2  "
      ]
     },
     "execution_count": 2,
     "metadata": {},
     "output_type": "execute_result"
    }
   ],
   "source": [
    "df = pd.read_csv('../zuu crew scores.csv')\n",
    "df = df[df['CourseName']=='Foundations of ML']\n",
    "del df['MemberName'], df['CourseName']\n",
    "df.head()"
   ]
  },
  {
   "cell_type": "code",
   "execution_count": 3,
   "id": "2ce626c1",
   "metadata": {},
   "outputs": [],
   "source": [
    "Y = df['CapstoneScore'].values\n",
    "X_df = df.drop(columns=['CapstoneScore'])\n",
    "\n",
    "# Calculate mean and std for each feature (column)\n",
    "mean = X_df.mean()\n",
    "std = X_df.std()\n",
    "\n",
    "# Standardize each column\n",
    "X_standardized = (X_df - mean) / std\n",
    "\n",
    "# Convert to numpy array\n",
    "X = X_standardized.values"
   ]
  },
  {
   "cell_type": "code",
   "execution_count": 4,
   "id": "592fc09e",
   "metadata": {},
   "outputs": [],
   "source": [
    "X = np.column_stack((\n",
    "    np.ones(len(df)),\n",
    "    X\n",
    "))"
   ]
  },
  {
   "cell_type": "markdown",
   "id": "f5c3934f",
   "metadata": {},
   "source": [
    "#### Compute Cost"
   ]
  },
  {
   "cell_type": "code",
   "execution_count": 5,
   "id": "d9d5def3",
   "metadata": {},
   "outputs": [],
   "source": [
    "def compute_cost(X,beta,Y):\n",
    "    y_hat = X.dot(beta) \n",
    "    m = len(Y)\n",
    "    cost = (1 /(2 * m)) * np.sum((y_hat - Y)**2)\n",
    "    return cost"
   ]
  },
  {
   "cell_type": "markdown",
   "id": "50bc0f73",
   "metadata": {},
   "source": [
    "#### Optimization"
   ]
  },
  {
   "cell_type": "code",
   "execution_count": 6,
   "id": "7388a47e",
   "metadata": {},
   "outputs": [],
   "source": [
    "cost_history=[]\n",
    "def gradient_descent(X,Y,beta,n_iter,lr):\n",
    "    m = len(Y)\n",
    "\n",
    "    for i in range(n_iter):\n",
    "        y_hat = X.dot(beta) \n",
    "        gradient = (1/m) * X.T.dot(y_hat - Y)\n",
    "        beta = beta - lr * gradient\n",
    "        cost  = compute_cost(X,beta,Y)\n",
    "        cost_history.append(cost)\n",
    "\n",
    "        if i % 100 == 0:\n",
    "            print(f\"iteration: {i}, beta:{beta}, cost:{cost}\")\n",
    "    \n",
    "    return beta\n"
   ]
  },
  {
   "cell_type": "markdown",
   "id": "154f86ca",
   "metadata": {},
   "source": [
    "#### Checking"
   ]
  },
  {
   "cell_type": "code",
   "execution_count": 7,
   "id": "33d495e4",
   "metadata": {},
   "outputs": [],
   "source": [
    "beta = np.random.randn(8)\n",
    "n_iter = 1000\n",
    "lr = 0.01"
   ]
  },
  {
   "cell_type": "code",
   "execution_count": 8,
   "id": "31f4ac37",
   "metadata": {},
   "outputs": [
    {
     "name": "stdout",
     "output_type": "stream",
     "text": [
      "iteration: 0, beta:[ 1.42278651 -0.09240702  2.30110384  1.08363303 -0.28716474  0.15969576\n",
      "  0.89927837 -0.85904989], cost:1569.1334771725571\n",
      "iteration: 100, beta:[35.45768694 -0.63010888  1.34179844 10.47853251  0.64317386 -0.37587682\n",
      "  1.22423125  0.71438799], cost:219.65627259061026\n",
      "iteration: 200, beta:[47.91556123 -0.53677256  0.96524285 13.94367031  0.43796361 -0.18654056\n",
      "  1.08616767  1.35001715], cost:38.87598301395086\n",
      "iteration: 300, beta:[ 5.24755461e+01 -4.29136815e-01  8.21447545e-01  1.52884812e+01\n",
      "  1.71131994e-01  2.30444887e-02  9.89973876e-01  1.56359446e+00], cost:14.337392828382935\n",
      "iteration: 400, beta:[ 5.41446481e+01 -3.74167663e-01  7.69557402e-01  1.58318395e+01\n",
      " -4.59163052e-03  1.59652893e-01  9.55259240e-01  1.62113238e+00], cost:10.961082988648046\n",
      "iteration: 500, beta:[54.75559336 -0.3532436   0.75246224 16.05850104 -0.1047313   0.23843284\n",
      "  0.95036547  1.62946313], cost:10.487065461011092\n",
      "iteration: 600, beta:[54.97921909 -0.3478097   0.74768619 16.15556976 -0.15917931  0.28211728\n",
      "  0.95538808  1.62568079], cost:10.418151212927663\n",
      "iteration: 700, beta:[55.06107335 -0.34805574  0.74683425 16.19809965 -0.18837058  0.30607151\n",
      "  0.96193254  1.62082234], cost:10.407498374553814\n",
      "iteration: 800, beta:[55.09103465 -0.34979382  0.74700109 16.2171276  -0.20400589  0.31920046\n",
      "  0.9673243   1.61731994], cost:10.405678618084925\n",
      "iteration: 900, beta:[55.10200146 -0.35152239  0.74729739 16.22581204 -0.21241666  0.32642143\n",
      "  0.97113384  1.61519258], cost:10.40532155891904\n"
     ]
    }
   ],
   "source": [
    "beta = gradient_descent(X,Y,beta,n_iter,lr)"
   ]
  },
  {
   "cell_type": "code",
   "execution_count": 9,
   "id": "064dd8e7",
   "metadata": {},
   "outputs": [
    {
     "data": {
      "image/png": "[encoded data removed]",
      "text/plain": [
       "<Figure size 640x480 with 1 Axes>"
      ]
     },
     "metadata": {},
     "output_type": "display_data"
    }
   ],
   "source": [
    "plt.plot(cost_history)\n",
    "plt.title(\"Cost Variation\")\n",
    "plt.xlabel(\"iterations\")\n",
    "plt.ylabel(\"Cost\")\n",
    "plt.show()"
   ]
  },
  {
   "cell_type": "markdown",
   "id": "4c88801c",
   "metadata": {},
   "source": [
    "#### Model Evaluation"
   ]
  },
  {
   "cell_type": "code",
   "execution_count": 10,
   "id": "f9c12217",
   "metadata": {},
   "outputs": [
    {
     "data": {
      "text/plain": [
       "array([49.96539835, 79.29450232, 68.47680259, 36.56202068, 71.05113815,\n",
       "       82.30586564, 38.25085683, 56.23198717, 48.82136648, 45.57496665,\n",
       "       59.96486775, 36.71813456, 39.52835366, 49.96361389, 56.82280885,\n",
       "       30.83512002, 83.75733385, 28.99712996, 52.4773725 , 75.82693177,\n",
       "       64.95416066, 42.13168105, 34.64300687, 79.91181031, 79.32989494,\n",
       "       36.87454305, 44.72183119, 43.1215256 , 49.58040516, 38.66890103,\n",
       "       78.49669638, 39.95433237, 28.16330639, 61.44123458, 65.93556271,\n",
       "       68.14254717, 29.39167993, 42.33018542, 32.58445298, 61.16713298,\n",
       "       62.67368388, 70.35841809, 56.34258273, 70.29115282, 54.5792099 ,\n",
       "       57.15346583, 51.88352121, 32.9107718 , 59.57721195, 43.65555814,\n",
       "       77.6770653 , 39.47043892, 50.91241959, 76.61933773, 60.55849416,\n",
       "       78.91938343, 75.19484938, 58.44377461, 70.87880823, 72.63187397,\n",
       "       26.90284368, 51.79675898, 47.82181124, 79.68478513, 44.56642662,\n",
       "       56.54886581, 67.41443244, 47.80509487, 82.4409217 , 42.93193928,\n",
       "       28.16554744, 57.84853073])"
      ]
     },
     "execution_count": 10,
     "metadata": {},
     "output_type": "execute_result"
    }
   ],
   "source": [
    "Y_hat = X.dot(beta) \n",
    "Y_hat"
   ]
  },
  {
   "cell_type": "code",
   "execution_count": 11,
   "id": "798b4018",
   "metadata": {},
   "outputs": [],
   "source": [
    "def MSE(Y,Y_hat):\n",
    "    e_i = Y - Y_hat\n",
    "    return np.mean(e_i**2)\n",
    "\n",
    "def MAE(Y,Y_hat):\n",
    "    e_i = Y - Y_hat\n",
    "    return np.mean(np.abs(e_i))\n",
    "\n",
    "def R2_Score(Y,Y_hat):\n",
    "    y_mean = np.mean(Y)\n",
    "    e_i = Y - Y_hat\n",
    "    std_i = Y - y_mean\n",
    "\n",
    "    E = np.sum(e_i**2) / np.sum(std_i ** 2)\n",
    "    return 1 - E"
   ]
  },
  {
   "cell_type": "code",
   "execution_count": 12,
   "id": "2ef1d0b4",
   "metadata": {},
   "outputs": [
    {
     "name": "stdout",
     "output_type": "stream",
     "text": [
      "MSE : 20.81048066860574\n",
      "MAE : 3.5390165572203465\n",
      "R2 Score : 0.927167022531824\n"
     ]
    }
   ],
   "source": [
    "mse = MSE(Y, Y_hat)\n",
    "mae = MAE(Y, Y_hat)\n",
    "r2 = R2_Score(Y, Y_hat)\n",
    "\n",
    "print(f\"MSE : {mse}\")\n",
    "print(f\"MAE : {mae}\")\n",
    "print(f\"R2 Score : {r2}\")"
   ]
  },
  {
   "cell_type": "code",
   "execution_count": 13,
   "id": "da4007c8",
   "metadata": {},
   "outputs": [
    {
     "name": "stdout",
     "output_type": "stream",
     "text": [
      "Sklearn coefficients: [-0.35523215  0.7477395  16.23362197 -0.22249773  0.33544015  0.97752925\n",
      "  1.61270231]\n",
      "Sklearn intercept: 55.10833333333334\n"
     ]
    }
   ],
   "source": [
    "lr_model = LinearRegression()\n",
    "lr_model.fit(X[:, 1:], Y)  # skip the intercept column since sklearn adds it internally\n",
    "\n",
    "print(\"Sklearn coefficients:\", lr_model.coef_)\n",
    "print(\"Sklearn intercept:\", lr_model.intercept_)"
   ]
  }
 ],
 "metadata": {
  "kernelspec": {
   "display_name": "foml",
   "language": "python",
   "name": "python3"
  },
  "language_info": {
   "codemirror_mode": {
    "name": "ipython",
    "version": 3
   },
   "file_extension": ".py",
   "mimetype": "text/x-python",
   "name": "python",
   "nbconvert_exporter": "python",
   "pygments_lexer": "ipython3",
   "version": "3.11.13"
  }
 },
 "nbformat": 4,
 "nbformat_minor": 5
}
