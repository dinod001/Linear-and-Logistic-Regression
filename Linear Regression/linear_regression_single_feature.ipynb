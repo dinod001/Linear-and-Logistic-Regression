{
 "cells": [
  {
   "cell_type": "code",
   "execution_count": 1,
   "id": "9d851d5d",
   "metadata": {},
   "outputs": [],
   "source": [
    "import numpy as np\n",
    "import pandas as pd\n",
    "import matplotlib.pyplot as plt\n",
    "from sklearn.linear_model import LinearRegression"
   ]
  },
  {
   "cell_type": "markdown",
   "id": "e6619731",
   "metadata": {},
   "source": [
    "#### Load Data"
   ]
  },
  {
   "cell_type": "code",
   "execution_count": 2,
   "id": "43da844e",
   "metadata": {},
   "outputs": [
    {
     "data": {
      "text/html": [
       "<div>\n",
       "<style scoped>\n",
       "    .dataframe tbody tr th:only-of-type {\n",
       "        vertical-align: middle;\n",
       "    }\n",
       "\n",
       "    .dataframe tbody tr th {\n",
       "        vertical-align: top;\n",
       "    }\n",
       "\n",
       "    .dataframe thead th {\n",
       "        text-align: right;\n",
       "    }\n",
       "</style>\n",
       "<table border=\"1\" class=\"dataframe\">\n",
       "  <thead>\n",
       "    <tr style=\"text-align: right;\">\n",
       "      <th></th>\n",
       "      <th>MemberName</th>\n",
       "      <th>EducationLevel</th>\n",
       "      <th>Attendance</th>\n",
       "      <th>TotalHours</th>\n",
       "      <th>AssignmentsCompleted</th>\n",
       "      <th>HackathonParticipation</th>\n",
       "      <th>GitHubScore</th>\n",
       "      <th>PeerReviewScore</th>\n",
       "      <th>CourseName</th>\n",
       "      <th>CapstoneScore</th>\n",
       "    </tr>\n",
       "  </thead>\n",
       "  <tbody>\n",
       "    <tr>\n",
       "      <th>0</th>\n",
       "      <td>Theekshana Rathnayake</td>\n",
       "      <td>3</td>\n",
       "      <td>79.9</td>\n",
       "      <td>43.7</td>\n",
       "      <td>2</td>\n",
       "      <td>0</td>\n",
       "      <td>62.8</td>\n",
       "      <td>5.0</td>\n",
       "      <td>Foundations of ML</td>\n",
       "      <td>45.3</td>\n",
       "    </tr>\n",
       "    <tr>\n",
       "      <th>1</th>\n",
       "      <td>Mayura Sandakalum Sellapperuma</td>\n",
       "      <td>2</td>\n",
       "      <td>76.8</td>\n",
       "      <td>95.6</td>\n",
       "      <td>6</td>\n",
       "      <td>0</td>\n",
       "      <td>87.4</td>\n",
       "      <td>2.7</td>\n",
       "      <td>Foundations of ML</td>\n",
       "      <td>78.8</td>\n",
       "    </tr>\n",
       "    <tr>\n",
       "      <th>2</th>\n",
       "      <td>Amila Narangoda</td>\n",
       "      <td>3</td>\n",
       "      <td>96.6</td>\n",
       "      <td>75.9</td>\n",
       "      <td>8</td>\n",
       "      <td>0</td>\n",
       "      <td>98.4</td>\n",
       "      <td>2.8</td>\n",
       "      <td>Foundations of ML</td>\n",
       "      <td>65.4</td>\n",
       "    </tr>\n",
       "    <tr>\n",
       "      <th>4</th>\n",
       "      <td>Tharusha Vihanga</td>\n",
       "      <td>2</td>\n",
       "      <td>83.2</td>\n",
       "      <td>24.0</td>\n",
       "      <td>6</td>\n",
       "      <td>0</td>\n",
       "      <td>41.8</td>\n",
       "      <td>4.2</td>\n",
       "      <td>Foundations of ML</td>\n",
       "      <td>40.1</td>\n",
       "    </tr>\n",
       "    <tr>\n",
       "      <th>7</th>\n",
       "      <td>Chamath Perera</td>\n",
       "      <td>3</td>\n",
       "      <td>86.5</td>\n",
       "      <td>88.0</td>\n",
       "      <td>5</td>\n",
       "      <td>0</td>\n",
       "      <td>23.9</td>\n",
       "      <td>1.3</td>\n",
       "      <td>Foundations of ML</td>\n",
       "      <td>68.2</td>\n",
       "    </tr>\n",
       "  </tbody>\n",
       "</table>\n",
       "</div>"
      ],
      "text/plain": [
       "                       MemberName  EducationLevel  Attendance  TotalHours  \\\n",
       "0           Theekshana Rathnayake               3        79.9        43.7   \n",
       "1  Mayura Sandakalum Sellapperuma               2        76.8        95.6   \n",
       "2                 Amila Narangoda               3        96.6        75.9   \n",
       "4                Tharusha Vihanga               2        83.2        24.0   \n",
       "7                  Chamath Perera               3        86.5        88.0   \n",
       "\n",
       "   AssignmentsCompleted  HackathonParticipation  GitHubScore  PeerReviewScore  \\\n",
       "0                     2                       0         62.8              5.0   \n",
       "1                     6                       0         87.4              2.7   \n",
       "2                     8                       0         98.4              2.8   \n",
       "4                     6                       0         41.8              4.2   \n",
       "7                     5                       0         23.9              1.3   \n",
       "\n",
       "          CourseName  CapstoneScore  \n",
       "0  Foundations of ML           45.3  \n",
       "1  Foundations of ML           78.8  \n",
       "2  Foundations of ML           65.4  \n",
       "4  Foundations of ML           40.1  \n",
       "7  Foundations of ML           68.2  "
      ]
     },
     "execution_count": 2,
     "metadata": {},
     "output_type": "execute_result"
    }
   ],
   "source": [
    "df = pd.read_csv('../zuu crew scores.csv')\n",
    "df = df[df['CourseName']=='Foundations of ML']\n",
    "df.head()"
   ]
  },
  {
   "cell_type": "code",
   "execution_count": 3,
   "id": "0cc1a1a8",
   "metadata": {},
   "outputs": [],
   "source": [
    "X = df['Attendance'].values.reshape(-1,1)\n",
    "Y = df['CapstoneScore'].values"
   ]
  },
  {
   "cell_type": "code",
   "execution_count": 4,
   "id": "85501c7c",
   "metadata": {},
   "outputs": [
    {
     "data": {
      "image/png": "[encoded data removed]",
      "text/plain": [
       "<Figure size 1000x600 with 1 Axes>"
      ]
     },
     "metadata": {},
     "output_type": "display_data"
    }
   ],
   "source": [
    "plt.figure(figsize=(10,6))\n",
    "plt.scatter(X,Y,color='red',s=50)\n",
    "plt.xlabel('Attendance')\n",
    "plt.ylabel('CapstoneScore')\n",
    "plt.title('Attendance vs Capstone Score')\n",
    "plt.show()"
   ]
  },
  {
   "cell_type": "markdown",
   "id": "2904a72c",
   "metadata": {},
   "source": [
    "#### Compute Cost"
   ]
  },
  {
   "cell_type": "code",
   "execution_count": 5,
   "id": "4677e252",
   "metadata": {},
   "outputs": [],
   "source": [
    "def compute_cost(X,beta,Y):\n",
    "    y_hat = X.dot(beta) \n",
    "    m = len(Y)\n",
    "    cost = (1 /(2 * m)) * np.sum((y_hat - Y)**2)\n",
    "    return cost"
   ]
  },
  {
   "cell_type": "markdown",
   "id": "be314e2b",
   "metadata": {},
   "source": [
    "#### Optimize parameters and  Calculate partial derivatives"
   ]
  },
  {
   "cell_type": "code",
   "execution_count": 6,
   "id": "8bfa0da5",
   "metadata": {},
   "outputs": [],
   "source": [
    "def gradient_descent(X,Y,beta,n_iter,lr):\n",
    "    m = len(Y)\n",
    "    cost_history=[]\n",
    "\n",
    "    for i in range(n_iter):\n",
    "        y_hat = X.dot(beta) \n",
    "        gradient = (1/m) * X.T.dot(y_hat - Y)\n",
    "        beta = beta - lr * gradient\n",
    "        cost  = compute_cost(X,beta,Y)\n",
    "        cost_history.append(cost)\n",
    "\n",
    "        if i % 100 == 0:\n",
    "            print(f\"iteration: {i}, beta:{beta}, cost:{cost}\")\n",
    "    \n",
    "    return beta\n"
   ]
  },
  {
   "cell_type": "code",
   "execution_count": 7,
   "id": "2f83378e",
   "metadata": {},
   "outputs": [],
   "source": [
    "X_with_bias = np.column_stack([np.ones(len(X)),X])\n",
    "beta = np.random.randn(2)\n",
    "n_iter = 10000\n",
    "lr = 0.0001"
   ]
  },
  {
   "cell_type": "code",
   "execution_count": 8,
   "id": "d3c97abe",
   "metadata": {},
   "outputs": [
    {
     "name": "stdout",
     "output_type": "stream",
     "text": [
      "iteration: 0, beta:[-0.23212994 -0.20861557], cost:2723.918686049857\n",
      "iteration: 100, beta:[-0.21099347  0.68900101], cost:167.8623055745219\n",
      "iteration: 200, beta:[-0.20102105  0.68887702], cost:167.85235913708595\n",
      "iteration: 300, beta:[-0.1910506   0.68875305], cost:167.84241662172676\n",
      "iteration: 400, beta:[-0.18108212  0.6886291 ], cost:167.8324780268977\n",
      "iteration: 500, beta:[-0.1711156   0.68850518], cost:167.82254335105293\n",
      "iteration: 600, beta:[-0.16115105  0.68838129], cost:167.81261259264704\n",
      "iteration: 700, beta:[-0.15118846  0.68825742], cost:167.8026857501353\n",
      "iteration: 800, beta:[-0.14122783  0.68813357], cost:167.79276282197364\n",
      "iteration: 900, beta:[-0.13126917  0.68800975], cost:167.78284380661856\n",
      "iteration: 1000, beta:[-0.12131247  0.68788596], cost:167.7729287025271\n",
      "iteration: 1100, beta:[-0.11135774  0.68776218], cost:167.76301750815705\n",
      "iteration: 1200, beta:[-0.10140497  0.68763844], cost:167.75311022196664\n",
      "iteration: 1300, beta:[-0.09145416  0.68751471], cost:167.7432068424149\n",
      "iteration: 1400, beta:[-0.08150532  0.68739101], cost:167.73330736796126\n",
      "iteration: 1500, beta:[-0.07155843  0.68726734], cost:167.72341179706598\n",
      "iteration: 1600, beta:[-0.06161351  0.68714369], cost:167.7135201281897\n",
      "iteration: 1700, beta:[-0.05167055  0.68702006], cost:167.70363235979383\n",
      "iteration: 1800, beta:[-0.04172954  0.68689646], cost:167.69374849034037\n",
      "iteration: 1900, beta:[-0.0317905   0.68677288], cost:167.68386851829183\n",
      "iteration: 2000, beta:[-0.02185342  0.68664933], cost:167.67399244211137\n",
      "iteration: 2100, beta:[-0.0119183  0.6865258], cost:167.66412026026282\n",
      "iteration: 2200, beta:[-0.00198514  0.6864023 ], cost:167.6542519712106\n",
      "iteration: 2300, beta:[0.00794607 0.68627882], cost:167.6443875734196\n",
      "iteration: 2400, beta:[0.01787532 0.68615536], cost:167.6345270653555\n",
      "iteration: 2500, beta:[0.0278026  0.68603193], cost:167.6246704454845\n",
      "iteration: 2600, beta:[0.03772794 0.68590852], cost:167.61481771227332\n",
      "iteration: 2700, beta:[0.04765131 0.68578514], cost:167.6049688641895\n",
      "iteration: 2800, beta:[0.05757273 0.68566178], cost:167.59512389970095\n",
      "iteration: 2900, beta:[0.06749219 0.68553845], cost:167.58528281727644\n",
      "iteration: 3000, beta:[0.07740969 0.68541514], cost:167.575445615385\n",
      "iteration: 3100, beta:[0.08732524 0.68529185], cost:167.56561229249658\n",
      "iteration: 3200, beta:[0.09723884 0.68516859], cost:167.55578284708164\n",
      "iteration: 3300, beta:[0.10715048 0.68504536], cost:167.54595727761114\n",
      "iteration: 3400, beta:[0.11706016 0.68492214], cost:167.53613558255668\n",
      "iteration: 3500, beta:[0.12696789 0.68479896], cost:167.5263177603906\n",
      "iteration: 3600, beta:[0.13687367 0.68467579], cost:167.51650380958577\n",
      "iteration: 3700, beta:[0.1467775  0.68455265], cost:167.5066937286155\n",
      "iteration: 3800, beta:[0.15667937 0.68442954], cost:167.4968875159539\n",
      "iteration: 3900, beta:[0.16657929 0.68430645], cost:167.48708517007572\n",
      "iteration: 4000, beta:[0.17647726 0.68418338], cost:167.477286689456\n",
      "iteration: 4100, beta:[0.18637327 0.68406034], cost:167.46749207257082\n",
      "iteration: 4200, beta:[0.19626734 0.68393732], cost:167.45770131789644\n",
      "iteration: 4300, beta:[0.20615945 0.68381432], cost:167.4479144239101\n",
      "iteration: 4400, beta:[0.21604961 0.68369136], cost:167.43813138908934\n",
      "iteration: 4500, beta:[0.22593782 0.68356841], cost:167.42835221191234\n",
      "iteration: 4600, beta:[0.23582409 0.68344549], cost:167.41857689085808\n",
      "iteration: 4700, beta:[0.2457084  0.68332259], cost:167.40880542440598\n",
      "iteration: 4800, beta:[0.25559077 0.68319972], cost:167.39903781103615\n",
      "iteration: 4900, beta:[0.26547118 0.68307687], cost:167.38927404922913\n",
      "iteration: 5000, beta:[0.27534965 0.68295405], cost:167.37951413746623\n",
      "iteration: 5100, beta:[0.28522617 0.68283125], cost:167.36975807422937\n",
      "iteration: 5200, beta:[0.29510074 0.68270847], cost:167.36000585800085\n",
      "iteration: 5300, beta:[0.30497337 0.68258572], cost:167.3502574872638\n",
      "iteration: 5400, beta:[0.31484405 0.68246299], cost:167.3405129605019\n",
      "iteration: 5500, beta:[0.32471278 0.68234029], cost:167.3307722761994\n",
      "iteration: 5600, beta:[0.33457957 0.68221761], cost:167.32103543284103\n",
      "iteration: 5700, beta:[0.34444441 0.68209495], cost:167.31130242891234\n",
      "iteration: 5800, beta:[0.3543073  0.68197232], cost:167.30157326289938\n",
      "iteration: 5900, beta:[0.36416826 0.68184972], cost:167.29184793328866\n",
      "iteration: 6000, beta:[0.37402726 0.68172714], cost:167.28212643856753\n",
      "iteration: 6100, beta:[0.38388432 0.68160458], cost:167.27240877722377\n",
      "iteration: 6200, beta:[0.39373944 0.68148204], cost:167.26269494774579\n",
      "iteration: 6300, beta:[0.40359262 0.68135953], cost:167.2529849486226\n",
      "iteration: 6400, beta:[0.41344385 0.68123705], cost:167.24327877834392\n",
      "iteration: 6500, beta:[0.42329314 0.68111459], cost:167.23357643539978\n",
      "iteration: 6600, beta:[0.43314049 0.68099215], cost:167.22387791828118\n",
      "iteration: 6700, beta:[0.4429859  0.68086974], cost:167.2141832254794\n",
      "iteration: 6800, beta:[0.45282937 0.68074735], cost:167.20449235548645\n",
      "iteration: 6900, beta:[0.46267089 0.68062498], cost:167.19480530679496\n",
      "iteration: 7000, beta:[0.47251047 0.68050264], cost:167.1851220778981\n",
      "iteration: 7100, beta:[0.48234812 0.68038032], cost:167.1754426672896\n",
      "iteration: 7200, beta:[0.49218382 0.68025803], cost:167.1657670734639\n",
      "iteration: 7300, beta:[0.50201759 0.68013576], cost:167.15609529491596\n",
      "iteration: 7400, beta:[0.51184941 0.68001352], cost:167.14642733014134\n",
      "iteration: 7500, beta:[0.5216793 0.6798913], cost:167.1367631776361\n",
      "iteration: 7600, beta:[0.53150725 0.6797691 ], cost:167.12710283589715\n",
      "iteration: 7700, beta:[0.54133326 0.67964693], cost:167.1174463034217\n",
      "iteration: 7800, beta:[0.55115733 0.67952478], cost:167.10779357870777\n",
      "iteration: 7900, beta:[0.56097947 0.67940266], cost:167.09814466025378\n",
      "iteration: 8000, beta:[0.57079967 0.67928056], cost:167.08849954655895\n",
      "iteration: 8100, beta:[0.58061793 0.67915848], cost:167.0788582361229\n",
      "iteration: 8200, beta:[0.59043426 0.67903643], cost:167.06922072744604\n",
      "iteration: 8300, beta:[0.60024865 0.67891441], cost:167.05958701902918\n",
      "iteration: 8400, beta:[0.61006111 0.6787924 ], cost:167.04995710937382\n",
      "iteration: 8500, beta:[0.61987163 0.67867042], cost:167.04033099698202\n",
      "iteration: 8600, beta:[0.62968022 0.67854847], cost:167.03070868035647\n",
      "iteration: 8700, beta:[0.63948687 0.67842654], cost:167.02109015800036\n",
      "iteration: 8800, beta:[0.64929159 0.67830463], cost:167.0114754284176\n",
      "iteration: 8900, beta:[0.65909438 0.67818275], cost:167.0018644901127\n",
      "iteration: 9000, beta:[0.66889523 0.67806089], cost:166.99225734159052\n",
      "iteration: 9100, beta:[0.67869415 0.67793905], cost:166.98265398135678\n",
      "iteration: 9200, beta:[0.68849114 0.67781724], cost:166.9730544079176\n",
      "iteration: 9300, beta:[0.6982862  0.67769545], cost:166.96345861977989\n",
      "iteration: 9400, beta:[0.70807932 0.67757369], cost:166.9538666154509\n",
      "iteration: 9500, beta:[0.71787052 0.67745195], cost:166.9442783934387\n",
      "iteration: 9600, beta:[0.72765978 0.67733024], cost:166.93469395225182\n",
      "iteration: 9700, beta:[0.73744712 0.67720854], cost:166.9251132903994\n",
      "iteration: 9800, beta:[0.74723252 0.67708688], cost:166.91553640639114\n",
      "iteration: 9900, beta:[0.757016   0.67696523], cost:166.9059632987374\n"
     ]
    }
   ],
   "source": [
    "beta = gradient_descent(X_with_bias,Y,beta,n_iter,lr)"
   ]
  },
  {
   "cell_type": "code",
   "execution_count": 9,
   "id": "e377b787",
   "metadata": {},
   "outputs": [],
   "source": [
    "x_min,x_max = float(np.min(X)), float(np.max(X))\n",
    "x_intervel = np.linspace(x_min,x_max,100)\n",
    "x_intervel_with_bias = np.column_stack([np.ones((len(x_intervel))), x_intervel])\n",
    "y_hat_intervel = x_intervel_with_bias.dot(beta)\n"
   ]
  },
  {
   "cell_type": "code",
   "execution_count": 10,
   "id": "359ebdea",
   "metadata": {},
   "outputs": [
    {
     "data": {
      "image/png": "[encoded data removed]",
      "text/plain": [
       "<Figure size 1200x700 with 1 Axes>"
      ]
     },
     "metadata": {},
     "output_type": "display_data"
    }
   ],
   "source": [
    "plt.figure(figsize=(12, 7))\n",
    "plt.scatter(X, Y, color='blue', s=50)\n",
    "plt.plot(x_intervel,y_hat_intervel,'r--', label=\"fitted line\")\n",
    "plt.show()"
   ]
  },
  {
   "cell_type": "markdown",
   "id": "660c11db",
   "metadata": {},
   "source": [
    "####  Make predictions"
   ]
  },
  {
   "cell_type": "code",
   "execution_count": 11,
   "id": "f1af1059",
   "metadata": {},
   "outputs": [],
   "source": [
    "def Predict(X):\n",
    "    X = np.array([1,X])\n",
    "    y_predict = X.dot(beta)\n",
    "    return y_predict"
   ]
  },
  {
   "cell_type": "code",
   "execution_count": 12,
   "id": "f8ebc2c2",
   "metadata": {},
   "outputs": [
    {
     "data": {
      "text/plain": [
       "np.float64(57.080189657223706)"
      ]
     },
     "execution_count": 12,
     "metadata": {},
     "output_type": "execute_result"
    }
   ],
   "source": [
    "Predict(83.2)"
   ]
  },
  {
   "cell_type": "markdown",
   "id": "b5f099f4",
   "metadata": {},
   "source": [
    "#### Model Evaluation"
   ]
  },
  {
   "cell_type": "code",
   "execution_count": 13,
   "id": "d83517b1",
   "metadata": {},
   "outputs": [
    {
     "data": {
      "text/plain": [
       "array([54.84660172, 52.74838274, 66.14991039, 57.08018966, 59.3137776 ,\n",
       "       52.61301377, 57.48629656, 61.68273451, 47.06288616, 65.67611901,\n",
       "       46.9275172 , 46.5214103 , 42.39265683, 56.67408276, 53.62828102,\n",
       "       45.57382753, 64.72853625, 48.68731376, 45.57382753, 59.24609312,\n",
       "       47.40130858, 47.60436203, 44.22013787, 63.03642417, 59.04303967,\n",
       "       64.5254828 , 52.13922239, 46.9275172 , 65.67611901, 41.715812  ,\n",
       "       57.14787414, 65.54075004, 63.51021555, 48.41657582, 51.66543101,\n",
       "       57.35092759, 48.61962927, 49.36415859, 67.02980867, 54.57586378,\n",
       "       41.98654993, 48.61962927, 56.06492241, 58.5015638 , 48.34889134,\n",
       "       45.16772064, 63.98400693, 68.04507592, 48.75499824, 41.85118096,\n",
       "       44.55856029, 57.01250517, 48.82268272, 45.10003615, 65.06695866,\n",
       "       57.55398104, 46.1153034 , 66.14991039, 52.74838274, 43.61097752,\n",
       "       48.01046892, 51.93616894, 49.16110514, 56.74176724, 54.23744137,\n",
       "       59.3137776 , 66.75907074, 61.20894313, 47.19825513, 54.84660172,\n",
       "       57.55398104, 62.22421037])"
      ]
     },
     "execution_count": 13,
     "metadata": {},
     "output_type": "execute_result"
    }
   ],
   "source": [
    "Y_hat = X_with_bias.dot(beta) \n",
    "Y_hat"
   ]
  },
  {
   "cell_type": "code",
   "execution_count": 14,
   "id": "1d17feb7",
   "metadata": {},
   "outputs": [],
   "source": [
    "def MSE(Y,Y_hat):\n",
    "    e_i = Y - Y_hat\n",
    "    return np.mean(e_i**2)\n",
    "\n",
    "def MAE(Y,Y_hat):\n",
    "    e_i = Y - Y_hat\n",
    "    return np.mean(np.abs(e_i))\n",
    "\n",
    "def R2_Score(Y,Y_hat):\n",
    "    y_mean = np.mean(Y)\n",
    "    e_i = Y - Y_hat\n",
    "    std_i = Y - y_mean\n",
    "\n",
    "    E = np.sum(e_i**2) / np.sum(std_i ** 2)\n",
    "    return 1 - E\n",
    "\n",
    "def RMSE(Y,Y_hat):\n",
    "    e_i = Y - Y_hat\n",
    "    return np.sqrt(np.mean((Y - Y_hat) ** 2))\n"
   ]
  },
  {
   "cell_type": "code",
   "execution_count": 15,
   "id": "257c426e",
   "metadata": {},
   "outputs": [
    {
     "name": "stdout",
     "output_type": "stream",
     "text": [
      "MSE : 333.79297928119263\n",
      "MAE : 15.338431616217555\n",
      "R2 Score : -0.1682160026076529\n",
      "RMSE : 18.270002169709578\n"
     ]
    }
   ],
   "source": [
    "mse = MSE(Y, Y_hat)\n",
    "mae = MAE(Y, Y_hat)\n",
    "r2 = R2_Score(Y, Y_hat)\n",
    "rmse = RMSE(Y,Y_hat)\n",
    "\n",
    "print(f\"MSE : {mse}\")\n",
    "print(f\"MAE : {mae}\")\n",
    "print(f\"R2 Score : {r2}\")\n",
    "print(f\"RMSE : {rmse}\")"
   ]
  }
 ],
 "metadata": {
  "kernelspec": {
   "display_name": "foml",
   "language": "python",
   "name": "python3"
  },
  "language_info": {
   "codemirror_mode": {
    "name": "ipython",
    "version": 3
   },
   "file_extension": ".py",
   "mimetype": "text/x-python",
   "name": "python",
   "nbconvert_exporter": "python",
   "pygments_lexer": "ipython3",
   "version": "3.11.13"
  }
 },
 "nbformat": 4,
 "nbformat_minor": 5
}
